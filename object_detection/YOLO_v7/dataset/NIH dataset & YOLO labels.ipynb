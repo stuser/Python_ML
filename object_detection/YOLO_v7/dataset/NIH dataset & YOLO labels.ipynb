{
 "cells": [
  {
   "cell_type": "code",
   "execution_count": 13,
   "id": "f1fac1a7",
   "metadata": {},
   "outputs": [],
   "source": [
    "import os\n",
    "import shutil\n",
    "import pandas as pd\n",
    "from glob import glob\n",
    "from tqdm.notebook import tqdm\n",
    "from sklearn.model_selection import GroupKFold"
   ]
  },
  {
   "cell_type": "markdown",
   "id": "f74eac56",
   "metadata": {},
   "source": [
    "ref. https://www.kaggle.com/code/miladlink/nih-yolo-dataset-yolo-labels"
   ]
  },
  {
   "cell_type": "code",
   "execution_count": 2,
   "id": "b2dd932a",
   "metadata": {},
   "outputs": [
    {
     "data": {
      "text/html": [
       "<div>\n",
       "<style scoped>\n",
       "    .dataframe tbody tr th:only-of-type {\n",
       "        vertical-align: middle;\n",
       "    }\n",
       "\n",
       "    .dataframe tbody tr th {\n",
       "        vertical-align: top;\n",
       "    }\n",
       "\n",
       "    .dataframe thead th {\n",
       "        text-align: right;\n",
       "    }\n",
       "</style>\n",
       "<table border=\"1\" class=\"dataframe\">\n",
       "  <thead>\n",
       "    <tr style=\"text-align: right;\">\n",
       "      <th></th>\n",
       "      <th>Image Index</th>\n",
       "      <th>Finding Label</th>\n",
       "      <th>Bbox [x</th>\n",
       "      <th>y</th>\n",
       "      <th>w</th>\n",
       "      <th>h]</th>\n",
       "    </tr>\n",
       "  </thead>\n",
       "  <tbody>\n",
       "    <tr>\n",
       "      <th>0</th>\n",
       "      <td>00013118_008.png</td>\n",
       "      <td>Atelectasis</td>\n",
       "      <td>225.084746</td>\n",
       "      <td>547.019217</td>\n",
       "      <td>86.779661</td>\n",
       "      <td>79.186441</td>\n",
       "    </tr>\n",
       "    <tr>\n",
       "      <th>1</th>\n",
       "      <td>00014716_007.png</td>\n",
       "      <td>Atelectasis</td>\n",
       "      <td>686.101695</td>\n",
       "      <td>131.543498</td>\n",
       "      <td>185.491525</td>\n",
       "      <td>313.491525</td>\n",
       "    </tr>\n",
       "    <tr>\n",
       "      <th>2</th>\n",
       "      <td>00029817_009.png</td>\n",
       "      <td>Atelectasis</td>\n",
       "      <td>221.830508</td>\n",
       "      <td>317.053115</td>\n",
       "      <td>155.118644</td>\n",
       "      <td>216.949153</td>\n",
       "    </tr>\n",
       "    <tr>\n",
       "      <th>3</th>\n",
       "      <td>00014687_001.png</td>\n",
       "      <td>Atelectasis</td>\n",
       "      <td>726.237288</td>\n",
       "      <td>494.951420</td>\n",
       "      <td>141.016949</td>\n",
       "      <td>55.322034</td>\n",
       "    </tr>\n",
       "    <tr>\n",
       "      <th>4</th>\n",
       "      <td>00017877_001.png</td>\n",
       "      <td>Atelectasis</td>\n",
       "      <td>660.067797</td>\n",
       "      <td>569.780787</td>\n",
       "      <td>200.677966</td>\n",
       "      <td>78.101695</td>\n",
       "    </tr>\n",
       "  </tbody>\n",
       "</table>\n",
       "</div>"
      ],
      "text/plain": [
       "        Image Index Finding Label     Bbox [x           y           w  \\\n",
       "0  00013118_008.png   Atelectasis  225.084746  547.019217   86.779661   \n",
       "1  00014716_007.png   Atelectasis  686.101695  131.543498  185.491525   \n",
       "2  00029817_009.png   Atelectasis  221.830508  317.053115  155.118644   \n",
       "3  00014687_001.png   Atelectasis  726.237288  494.951420  141.016949   \n",
       "4  00017877_001.png   Atelectasis  660.067797  569.780787  200.677966   \n",
       "\n",
       "           h]  \n",
       "0   79.186441  \n",
       "1  313.491525  \n",
       "2  216.949153  \n",
       "3   55.322034  \n",
       "4   78.101695  "
      ]
     },
     "execution_count": 2,
     "metadata": {},
     "output_type": "execute_result"
    }
   ],
   "source": [
    "lbls_dir = '~/ta-hsi-datacenter3/Medical/NIH_CXR8/BBox_List_2017.csv'\n",
    "lbls = pd.read_csv (lbls_dir)\n",
    "lbls = lbls.drop (lbls.iloc [:, 6:9], axis = 1)\n",
    "lbls.head ()"
   ]
  },
  {
   "cell_type": "code",
   "execution_count": 3,
   "id": "8a0962c8",
   "metadata": {},
   "outputs": [
    {
     "data": {
      "text/plain": [
       "'00030674_000.png'"
      ]
     },
     "execution_count": 3,
     "metadata": {},
     "output_type": "execute_result"
    }
   ],
   "source": [
    "max(lbls.iloc[::,0])"
   ]
  },
  {
   "cell_type": "code",
   "execution_count": 4,
   "id": "1872a311",
   "metadata": {},
   "outputs": [
    {
     "name": "stdout",
     "output_type": "stream",
     "text": [
      "number of all boxes: 984\n",
      "number of unique patients: 880\n"
     ]
    }
   ],
   "source": [
    "print ('number of all boxes:', len (lbls))\n",
    "print ('number of unique patients:',len (lbls ['Image Index'].unique ()))"
   ]
  },
  {
   "cell_type": "code",
   "execution_count": 5,
   "id": "c86b8b43",
   "metadata": {},
   "outputs": [
    {
     "data": {
      "text/plain": [
       "['Atelectasis',\n",
       " 'Cardiomegaly',\n",
       " 'Effusion',\n",
       " 'Infiltrate',\n",
       " 'Mass',\n",
       " 'Nodule',\n",
       " 'Pneumonia',\n",
       " 'Pneumothorax']"
      ]
     },
     "execution_count": 5,
     "metadata": {},
     "output_type": "execute_result"
    }
   ],
   "source": [
    "pathology_list = []\n",
    "i = 0\n",
    "for class_name in lbls ['Finding Label']:\n",
    "    if class_name not in pathology_list:\n",
    "        pathology_list.append (class_name)\n",
    "pathology_list"
   ]
  },
  {
   "cell_type": "markdown",
   "id": "5046cc93",
   "metadata": {},
   "source": [
    "### class to class_id"
   ]
  },
  {
   "cell_type": "code",
   "execution_count": 6,
   "id": "82ceb855",
   "metadata": {},
   "outputs": [
    {
     "data": {
      "text/html": [
       "<div>\n",
       "<style scoped>\n",
       "    .dataframe tbody tr th:only-of-type {\n",
       "        vertical-align: middle;\n",
       "    }\n",
       "\n",
       "    .dataframe tbody tr th {\n",
       "        vertical-align: top;\n",
       "    }\n",
       "\n",
       "    .dataframe thead th {\n",
       "        text-align: right;\n",
       "    }\n",
       "</style>\n",
       "<table border=\"1\" class=\"dataframe\">\n",
       "  <thead>\n",
       "    <tr style=\"text-align: right;\">\n",
       "      <th></th>\n",
       "      <th>Image Index</th>\n",
       "      <th>Finding Label</th>\n",
       "      <th>Bbox [x</th>\n",
       "      <th>y</th>\n",
       "      <th>w</th>\n",
       "      <th>h]</th>\n",
       "      <th>class_id</th>\n",
       "    </tr>\n",
       "  </thead>\n",
       "  <tbody>\n",
       "    <tr>\n",
       "      <th>0</th>\n",
       "      <td>00013118_008.png</td>\n",
       "      <td>Atelectasis</td>\n",
       "      <td>225.084746</td>\n",
       "      <td>547.019217</td>\n",
       "      <td>86.779661</td>\n",
       "      <td>79.186441</td>\n",
       "      <td>0</td>\n",
       "    </tr>\n",
       "    <tr>\n",
       "      <th>1</th>\n",
       "      <td>00014716_007.png</td>\n",
       "      <td>Atelectasis</td>\n",
       "      <td>686.101695</td>\n",
       "      <td>131.543498</td>\n",
       "      <td>185.491525</td>\n",
       "      <td>313.491525</td>\n",
       "      <td>0</td>\n",
       "    </tr>\n",
       "    <tr>\n",
       "      <th>2</th>\n",
       "      <td>00029817_009.png</td>\n",
       "      <td>Atelectasis</td>\n",
       "      <td>221.830508</td>\n",
       "      <td>317.053115</td>\n",
       "      <td>155.118644</td>\n",
       "      <td>216.949153</td>\n",
       "      <td>0</td>\n",
       "    </tr>\n",
       "    <tr>\n",
       "      <th>3</th>\n",
       "      <td>00014687_001.png</td>\n",
       "      <td>Atelectasis</td>\n",
       "      <td>726.237288</td>\n",
       "      <td>494.951420</td>\n",
       "      <td>141.016949</td>\n",
       "      <td>55.322034</td>\n",
       "      <td>0</td>\n",
       "    </tr>\n",
       "    <tr>\n",
       "      <th>4</th>\n",
       "      <td>00017877_001.png</td>\n",
       "      <td>Atelectasis</td>\n",
       "      <td>660.067797</td>\n",
       "      <td>569.780787</td>\n",
       "      <td>200.677966</td>\n",
       "      <td>78.101695</td>\n",
       "      <td>0</td>\n",
       "    </tr>\n",
       "  </tbody>\n",
       "</table>\n",
       "</div>"
      ],
      "text/plain": [
       "        Image Index Finding Label     Bbox [x           y           w  \\\n",
       "0  00013118_008.png   Atelectasis  225.084746  547.019217   86.779661   \n",
       "1  00014716_007.png   Atelectasis  686.101695  131.543498  185.491525   \n",
       "2  00029817_009.png   Atelectasis  221.830508  317.053115  155.118644   \n",
       "3  00014687_001.png   Atelectasis  726.237288  494.951420  141.016949   \n",
       "4  00017877_001.png   Atelectasis  660.067797  569.780787  200.677966   \n",
       "\n",
       "           h]  class_id  \n",
       "0   79.186441         0  \n",
       "1  313.491525         0  \n",
       "2  216.949153         0  \n",
       "3   55.322034         0  \n",
       "4   78.101695         0  "
      ]
     },
     "execution_count": 6,
     "metadata": {},
     "output_type": "execute_result"
    }
   ],
   "source": [
    "lbls ['class_id'] = lbls ['Finding Label'].apply (lambda x: pathology_list.index (x))\n",
    "lbls.head ()"
   ]
  },
  {
   "cell_type": "code",
   "execution_count": 7,
   "id": "4f3fcc4c",
   "metadata": {},
   "outputs": [
    {
     "data": {
      "text/plain": [
       "(Finding Label  class_id\n",
       " Atelectasis    0           180\n",
       " Cardiomegaly   1           146\n",
       " Effusion       2           153\n",
       " Infiltrate     3           123\n",
       " Mass           4            85\n",
       " Nodule         5            79\n",
       " Pneumonia      6           120\n",
       " Pneumothorax   7            98\n",
       " Name: class_id, dtype: int64,\n",
       " 984)"
      ]
     },
     "execution_count": 7,
     "metadata": {},
     "output_type": "execute_result"
    }
   ],
   "source": [
    "lbls.groupby([\"Finding Label\",\"class_id\"])[\"class_id\"].count(), lbls[\"class_id\"].count()"
   ]
  },
  {
   "cell_type": "markdown",
   "id": "2879bdd9",
   "metadata": {},
   "source": [
    "### Normalize bounding box"
   ]
  },
  {
   "cell_type": "code",
   "execution_count": 8,
   "id": "8e18b0e3",
   "metadata": {},
   "outputs": [
    {
     "data": {
      "text/html": [
       "<div>\n",
       "<style scoped>\n",
       "    .dataframe tbody tr th:only-of-type {\n",
       "        vertical-align: middle;\n",
       "    }\n",
       "\n",
       "    .dataframe tbody tr th {\n",
       "        vertical-align: top;\n",
       "    }\n",
       "\n",
       "    .dataframe thead th {\n",
       "        text-align: right;\n",
       "    }\n",
       "</style>\n",
       "<table border=\"1\" class=\"dataframe\">\n",
       "  <thead>\n",
       "    <tr style=\"text-align: right;\">\n",
       "      <th></th>\n",
       "      <th>Image Index</th>\n",
       "      <th>Finding Label</th>\n",
       "      <th>x</th>\n",
       "      <th>y</th>\n",
       "      <th>w</th>\n",
       "      <th>h</th>\n",
       "      <th>class_id</th>\n",
       "    </tr>\n",
       "  </thead>\n",
       "  <tbody>\n",
       "    <tr>\n",
       "      <th>0</th>\n",
       "      <td>00013118_008.png</td>\n",
       "      <td>Atelectasis</td>\n",
       "      <td>0.219809</td>\n",
       "      <td>0.534198</td>\n",
       "      <td>0.084746</td>\n",
       "      <td>0.077331</td>\n",
       "      <td>0</td>\n",
       "    </tr>\n",
       "    <tr>\n",
       "      <th>1</th>\n",
       "      <td>00014716_007.png</td>\n",
       "      <td>Atelectasis</td>\n",
       "      <td>0.670021</td>\n",
       "      <td>0.128460</td>\n",
       "      <td>0.181144</td>\n",
       "      <td>0.306144</td>\n",
       "      <td>0</td>\n",
       "    </tr>\n",
       "    <tr>\n",
       "      <th>2</th>\n",
       "      <td>00029817_009.png</td>\n",
       "      <td>Atelectasis</td>\n",
       "      <td>0.216631</td>\n",
       "      <td>0.309622</td>\n",
       "      <td>0.151483</td>\n",
       "      <td>0.211864</td>\n",
       "      <td>0</td>\n",
       "    </tr>\n",
       "    <tr>\n",
       "      <th>3</th>\n",
       "      <td>00014687_001.png</td>\n",
       "      <td>Atelectasis</td>\n",
       "      <td>0.709216</td>\n",
       "      <td>0.483351</td>\n",
       "      <td>0.137712</td>\n",
       "      <td>0.054025</td>\n",
       "      <td>0</td>\n",
       "    </tr>\n",
       "    <tr>\n",
       "      <th>4</th>\n",
       "      <td>00017877_001.png</td>\n",
       "      <td>Atelectasis</td>\n",
       "      <td>0.644597</td>\n",
       "      <td>0.556427</td>\n",
       "      <td>0.195975</td>\n",
       "      <td>0.076271</td>\n",
       "      <td>0</td>\n",
       "    </tr>\n",
       "  </tbody>\n",
       "</table>\n",
       "</div>"
      ],
      "text/plain": [
       "        Image Index Finding Label         x         y         w         h  \\\n",
       "0  00013118_008.png   Atelectasis  0.219809  0.534198  0.084746  0.077331   \n",
       "1  00014716_007.png   Atelectasis  0.670021  0.128460  0.181144  0.306144   \n",
       "2  00029817_009.png   Atelectasis  0.216631  0.309622  0.151483  0.211864   \n",
       "3  00014687_001.png   Atelectasis  0.709216  0.483351  0.137712  0.054025   \n",
       "4  00017877_001.png   Atelectasis  0.644597  0.556427  0.195975  0.076271   \n",
       "\n",
       "   class_id  \n",
       "0         0  \n",
       "1         0  \n",
       "2         0  \n",
       "3         0  \n",
       "4         0  "
      ]
     },
     "execution_count": 8,
     "metadata": {},
     "output_type": "execute_result"
    }
   ],
   "source": [
    "lbls = lbls.rename (columns = {'Bbox [x': 'x', 'h]': 'h'})\n",
    "lbls ['x'] = lbls ['x'].apply (lambda r: r / 1024)\n",
    "lbls ['y'] = lbls ['y'].apply (lambda r: r / 1024)\n",
    "lbls ['w'] = lbls ['w'].apply (lambda r: r / 1024)\n",
    "lbls ['h'] = lbls ['h'].apply (lambda r: r / 1024)\n",
    "lbls.head ()"
   ]
  },
  {
   "cell_type": "code",
   "execution_count": null,
   "id": "f38c1304",
   "metadata": {},
   "outputs": [],
   "source": []
  },
  {
   "cell_type": "markdown",
   "id": "45974e4e",
   "metadata": {},
   "source": [
    "### Add path of images"
   ]
  },
  {
   "cell_type": "code",
   "execution_count": 10,
   "id": "0e1b6dfb",
   "metadata": {},
   "outputs": [
    {
     "data": {
      "text/html": [
       "<div>\n",
       "<style scoped>\n",
       "    .dataframe tbody tr th:only-of-type {\n",
       "        vertical-align: middle;\n",
       "    }\n",
       "\n",
       "    .dataframe tbody tr th {\n",
       "        vertical-align: top;\n",
       "    }\n",
       "\n",
       "    .dataframe thead th {\n",
       "        text-align: right;\n",
       "    }\n",
       "</style>\n",
       "<table border=\"1\" class=\"dataframe\">\n",
       "  <thead>\n",
       "    <tr style=\"text-align: right;\">\n",
       "      <th></th>\n",
       "      <th>Image Index</th>\n",
       "      <th>Finding Label</th>\n",
       "      <th>x</th>\n",
       "      <th>y</th>\n",
       "      <th>w</th>\n",
       "      <th>h</th>\n",
       "      <th>class_id</th>\n",
       "      <th>path</th>\n",
       "    </tr>\n",
       "  </thead>\n",
       "  <tbody>\n",
       "    <tr>\n",
       "      <th>0</th>\n",
       "      <td>00013118_008.png</td>\n",
       "      <td>Atelectasis</td>\n",
       "      <td>0.219809</td>\n",
       "      <td>0.534198</td>\n",
       "      <td>0.084746</td>\n",
       "      <td>0.077331</td>\n",
       "      <td>0</td>\n",
       "      <td>images/images_06/00013118_008.png</td>\n",
       "    </tr>\n",
       "    <tr>\n",
       "      <th>1</th>\n",
       "      <td>00014716_007.png</td>\n",
       "      <td>Atelectasis</td>\n",
       "      <td>0.670021</td>\n",
       "      <td>0.128460</td>\n",
       "      <td>0.181144</td>\n",
       "      <td>0.306144</td>\n",
       "      <td>0</td>\n",
       "      <td>images/images_07/00014716_007.png</td>\n",
       "    </tr>\n",
       "    <tr>\n",
       "      <th>2</th>\n",
       "      <td>00029817_009.png</td>\n",
       "      <td>Atelectasis</td>\n",
       "      <td>0.216631</td>\n",
       "      <td>0.309622</td>\n",
       "      <td>0.151483</td>\n",
       "      <td>0.211864</td>\n",
       "      <td>0</td>\n",
       "      <td>images/images_12/00029817_009.png</td>\n",
       "    </tr>\n",
       "    <tr>\n",
       "      <th>3</th>\n",
       "      <td>00014687_001.png</td>\n",
       "      <td>Atelectasis</td>\n",
       "      <td>0.709216</td>\n",
       "      <td>0.483351</td>\n",
       "      <td>0.137712</td>\n",
       "      <td>0.054025</td>\n",
       "      <td>0</td>\n",
       "      <td>images/images_07/00014687_001.png</td>\n",
       "    </tr>\n",
       "    <tr>\n",
       "      <th>4</th>\n",
       "      <td>00017877_001.png</td>\n",
       "      <td>Atelectasis</td>\n",
       "      <td>0.644597</td>\n",
       "      <td>0.556427</td>\n",
       "      <td>0.195975</td>\n",
       "      <td>0.076271</td>\n",
       "      <td>0</td>\n",
       "      <td>images/images_08/00017877_001.png</td>\n",
       "    </tr>\n",
       "  </tbody>\n",
       "</table>\n",
       "</div>"
      ],
      "text/plain": [
       "        Image Index Finding Label         x         y         w         h  \\\n",
       "0  00013118_008.png   Atelectasis  0.219809  0.534198  0.084746  0.077331   \n",
       "1  00014716_007.png   Atelectasis  0.670021  0.128460  0.181144  0.306144   \n",
       "2  00029817_009.png   Atelectasis  0.216631  0.309622  0.151483  0.211864   \n",
       "3  00014687_001.png   Atelectasis  0.709216  0.483351  0.137712  0.054025   \n",
       "4  00017877_001.png   Atelectasis  0.644597  0.556427  0.195975  0.076271   \n",
       "\n",
       "   class_id                               path  \n",
       "0         0  images/images_06/00013118_008.png  \n",
       "1         0  images/images_07/00014716_007.png  \n",
       "2         0  images/images_12/00029817_009.png  \n",
       "3         0  images/images_07/00014687_001.png  \n",
       "4         0  images/images_08/00017877_001.png  "
      ]
     },
     "execution_count": 10,
     "metadata": {},
     "output_type": "execute_result"
    }
   ],
   "source": [
    "# adding path to dataframe\n",
    "all_image_paths = {os.path.basename(x): x for x in glob ('images/images_*/*.png')}\n",
    "lbls ['path'] = lbls ['Image Index'].map(all_image_paths.get)\n",
    "lbls.head ()"
   ]
  },
  {
   "cell_type": "markdown",
   "id": "783601b3",
   "metadata": {},
   "source": [
    "Concat boxes and class ids and remove additional"
   ]
  },
  {
   "cell_type": "code",
   "execution_count": 11,
   "id": "a55f5411",
   "metadata": {},
   "outputs": [
    {
     "data": {
      "text/html": [
       "<div>\n",
       "<style scoped>\n",
       "    .dataframe tbody tr th:only-of-type {\n",
       "        vertical-align: middle;\n",
       "    }\n",
       "\n",
       "    .dataframe tbody tr th {\n",
       "        vertical-align: top;\n",
       "    }\n",
       "\n",
       "    .dataframe thead th {\n",
       "        text-align: right;\n",
       "    }\n",
       "</style>\n",
       "<table border=\"1\" class=\"dataframe\">\n",
       "  <thead>\n",
       "    <tr style=\"text-align: right;\">\n",
       "      <th></th>\n",
       "      <th>path</th>\n",
       "      <th>boxes</th>\n",
       "    </tr>\n",
       "  </thead>\n",
       "  <tbody>\n",
       "    <tr>\n",
       "      <th>0</th>\n",
       "      <td>images/images_06/00013118_008.png</td>\n",
       "      <td>[0, 0.2198093220338984, 0.5341984538708701, 0....</td>\n",
       "    </tr>\n",
       "    <tr>\n",
       "      <th>1</th>\n",
       "      <td>images/images_07/00014716_007.png</td>\n",
       "      <td>[0, 0.6700211864406778, 0.1284604476670088, 0....</td>\n",
       "    </tr>\n",
       "    <tr>\n",
       "      <th>2</th>\n",
       "      <td>images/images_12/00029817_009.png</td>\n",
       "      <td>[0, 0.21663135593220312, 0.3096221826844297, 0...</td>\n",
       "    </tr>\n",
       "    <tr>\n",
       "      <th>3</th>\n",
       "      <td>images/images_07/00014687_001.png</td>\n",
       "      <td>[0, 0.709216101694915, 0.48335099624375194, 0....</td>\n",
       "    </tr>\n",
       "    <tr>\n",
       "      <th>4</th>\n",
       "      <td>images/images_08/00017877_001.png</td>\n",
       "      <td>[0, 0.6445974576271182, 0.5564265493619238, 0....</td>\n",
       "    </tr>\n",
       "  </tbody>\n",
       "</table>\n",
       "</div>"
      ],
      "text/plain": [
       "                                path  \\\n",
       "0  images/images_06/00013118_008.png   \n",
       "1  images/images_07/00014716_007.png   \n",
       "2  images/images_12/00029817_009.png   \n",
       "3  images/images_07/00014687_001.png   \n",
       "4  images/images_08/00017877_001.png   \n",
       "\n",
       "                                               boxes  \n",
       "0  [0, 0.2198093220338984, 0.5341984538708701, 0....  \n",
       "1  [0, 0.6700211864406778, 0.1284604476670088, 0....  \n",
       "2  [0, 0.21663135593220312, 0.3096221826844297, 0...  \n",
       "3  [0, 0.709216101694915, 0.48335099624375194, 0....  \n",
       "4  [0, 0.6445974576271182, 0.5564265493619238, 0....  "
      ]
     },
     "execution_count": 11,
     "metadata": {},
     "output_type": "execute_result"
    }
   ],
   "source": [
    "lbls ['boxes'] = lbls.apply (lambda row: [row.class_id, row.x, row.y, row.w, row.h], axis = 1)\n",
    "lbls = lbls.drop (['Image Index', 'Finding Label', 'x', 'y', 'w', 'h', 'class_id'], axis = 1)\n",
    "lbls.head ()"
   ]
  },
  {
   "cell_type": "markdown",
   "id": "088d29b8",
   "metadata": {},
   "source": [
    "## Split\n",
    "\n",
    "Use Groupfold to better split"
   ]
  },
  {
   "cell_type": "code",
   "execution_count": 14,
   "id": "4a16e954",
   "metadata": {},
   "outputs": [
    {
     "data": {
      "text/html": [
       "<div>\n",
       "<style scoped>\n",
       "    .dataframe tbody tr th:only-of-type {\n",
       "        vertical-align: middle;\n",
       "    }\n",
       "\n",
       "    .dataframe tbody tr th {\n",
       "        vertical-align: top;\n",
       "    }\n",
       "\n",
       "    .dataframe thead th {\n",
       "        text-align: right;\n",
       "    }\n",
       "</style>\n",
       "<table border=\"1\" class=\"dataframe\">\n",
       "  <thead>\n",
       "    <tr style=\"text-align: right;\">\n",
       "      <th></th>\n",
       "      <th>path</th>\n",
       "      <th>boxes</th>\n",
       "      <th>fold</th>\n",
       "    </tr>\n",
       "  </thead>\n",
       "  <tbody>\n",
       "    <tr>\n",
       "      <th>0</th>\n",
       "      <td>images/images_06/00013118_008.png</td>\n",
       "      <td>[0, 0.2198093220338984, 0.5341984538708701, 0....</td>\n",
       "      <td>9</td>\n",
       "    </tr>\n",
       "    <tr>\n",
       "      <th>1</th>\n",
       "      <td>images/images_07/00014716_007.png</td>\n",
       "      <td>[0, 0.6700211864406778, 0.1284604476670088, 0....</td>\n",
       "      <td>3</td>\n",
       "    </tr>\n",
       "    <tr>\n",
       "      <th>2</th>\n",
       "      <td>images/images_12/00029817_009.png</td>\n",
       "      <td>[0, 0.21663135593220312, 0.3096221826844297, 0...</td>\n",
       "      <td>8</td>\n",
       "    </tr>\n",
       "    <tr>\n",
       "      <th>3</th>\n",
       "      <td>images/images_07/00014687_001.png</td>\n",
       "      <td>[0, 0.709216101694915, 0.48335099624375194, 0....</td>\n",
       "      <td>1</td>\n",
       "    </tr>\n",
       "    <tr>\n",
       "      <th>4</th>\n",
       "      <td>images/images_08/00017877_001.png</td>\n",
       "      <td>[0, 0.6445974576271182, 0.5564265493619238, 0....</td>\n",
       "      <td>9</td>\n",
       "    </tr>\n",
       "  </tbody>\n",
       "</table>\n",
       "</div>"
      ],
      "text/plain": [
       "                                path  \\\n",
       "0  images/images_06/00013118_008.png   \n",
       "1  images/images_07/00014716_007.png   \n",
       "2  images/images_12/00029817_009.png   \n",
       "3  images/images_07/00014687_001.png   \n",
       "4  images/images_08/00017877_001.png   \n",
       "\n",
       "                                               boxes  fold  \n",
       "0  [0, 0.2198093220338984, 0.5341984538708701, 0....     9  \n",
       "1  [0, 0.6700211864406778, 0.1284604476670088, 0....     3  \n",
       "2  [0, 0.21663135593220312, 0.3096221826844297, 0...     8  \n",
       "3  [0, 0.709216101694915, 0.48335099624375194, 0....     1  \n",
       "4  [0, 0.6445974576271182, 0.5564265493619238, 0....     9  "
      ]
     },
     "execution_count": 14,
     "metadata": {},
     "output_type": "execute_result"
    }
   ],
   "source": [
    "gkf  = GroupKFold(n_splits = 10)\n",
    "lbls ['fold'] = -1\n",
    "for fold, (train_idx, val_idx) in enumerate (gkf.split (lbls, groups = lbls.path.tolist())):\n",
    "    lbls.loc [val_idx, 'fold'] = fold\n",
    "lbls.head ()"
   ]
  },
  {
   "cell_type": "markdown",
   "id": "1e1a19a5",
   "metadata": {},
   "source": [
    "Seprate unique patient ids"
   ]
  },
  {
   "cell_type": "code",
   "execution_count": 15,
   "id": "be1d4fb6",
   "metadata": {},
   "outputs": [
    {
     "name": "stdout",
     "output_type": "stream",
     "text": [
      "number of unique trian images: 792\n",
      "number of unique valid images: 88\n"
     ]
    },
    {
     "data": {
      "text/plain": [
       "['images/images_07/00014716_007.png',\n",
       " 'images/images_12/00029817_009.png',\n",
       " 'images/images_07/00014687_001.png']"
      ]
     },
     "execution_count": 15,
     "metadata": {},
     "output_type": "execute_result"
    }
   ],
   "source": [
    "train_files = []\n",
    "valid_files  = []\n",
    "valid_files += list (lbls [lbls.fold == 9].path.unique())\n",
    "train_files += list (lbls [lbls.fold != 9].path.unique())\n",
    "print ('number of unique trian images:', len (train_files))\n",
    "print ('number of unique valid images:', len (valid_files))\n",
    "train_files [:3]"
   ]
  },
  {
   "cell_type": "markdown",
   "id": "b6deecc4",
   "metadata": {},
   "source": [
    "### Create labels folder and labels usig .txt file"
   ]
  },
  {
   "cell_type": "code",
   "execution_count": 16,
   "id": "71c04785",
   "metadata": {},
   "outputs": [
    {
     "name": "stdout",
     "output_type": "stream",
     "text": [
      "rm: cannot remove 'labels': No such file or directory\n"
     ]
    }
   ],
   "source": [
    "!rm -r labels\n",
    "!mkdir labels\n",
    "for i in range (len (lbls)):\n",
    "    fname = os.path.basename (lbls.iloc [i, 0]).replace ('png', 'txt')\n",
    "    with open (f'labels/{fname}', 'a') as f:\n",
    "        for j in range (5):\n",
    "            f.write (str (lbls.iloc [i, 1][j]) + ' ')\n",
    "        f.write ('\\n')"
   ]
  },
  {
   "cell_type": "markdown",
   "id": "726aba9b",
   "metadata": {},
   "source": [
    "### Create NIH Dataset for YOLO Detection"
   ]
  },
  {
   "cell_type": "code",
   "execution_count": 17,
   "id": "4b39f383",
   "metadata": {},
   "outputs": [
    {
     "data": {
      "application/vnd.jupyter.widget-view+json": {
       "model_id": "b844bf1b73c64d039e5d0ec303c08363",
       "version_major": 2,
       "version_minor": 0
      },
      "text/plain": [
       "  0%|          | 0/792 [00:00<?, ?it/s]"
      ]
     },
     "metadata": {},
     "output_type": "display_data"
    },
    {
     "data": {
      "application/vnd.jupyter.widget-view+json": {
       "model_id": "715fd65d07a7496fafa9cfcfcf4f2476",
       "version_major": 2,
       "version_minor": 0
      },
      "text/plain": [
       "  0%|          | 0/88 [00:00<?, ?it/s]"
      ]
     },
     "metadata": {},
     "output_type": "display_data"
    }
   ],
   "source": [
    "os.makedirs('NIH/train/images', exist_ok = True)\n",
    "os.makedirs('NIH/train/labels', exist_ok = True)\n",
    "os.makedirs('NIH/valid/images', exist_ok = True)\n",
    "os.makedirs('NIH/valid/labels', exist_ok = True)\n",
    "\n",
    "for files in [train_files, valid_files]:\n",
    "    for file in tqdm (files):\n",
    "        fname = file.split ('/')[-1].split ('.')[0]\n",
    "        if files == train_files:\n",
    "            shutil.copy (file, 'NIH/train/images/' + fname + '.png')\n",
    "            shutil.copy (os.path.join ('labels', fname + '.txt'), 'NIH/train/labels/' + fname + '.txt')\n",
    "        else:\n",
    "            shutil.copy (file, 'NIH/valid/images/' + fname + '.png')\n",
    "            shutil.copy (os.path.join ('labels', fname + '.txt'), 'NIH/valid/labels/' + fname + '.txt')"
   ]
  },
  {
   "cell_type": "code",
   "execution_count": null,
   "id": "ab1248f5",
   "metadata": {},
   "outputs": [],
   "source": []
  }
 ],
 "metadata": {
  "kernelspec": {
   "display_name": "Python 3 (ipykernel)",
   "language": "python",
   "name": "python3"
  },
  "language_info": {
   "codemirror_mode": {
    "name": "ipython",
    "version": 3
   },
   "file_extension": ".py",
   "mimetype": "text/x-python",
   "name": "python",
   "nbconvert_exporter": "python",
   "pygments_lexer": "ipython3",
   "version": "3.7.12"
  }
 },
 "nbformat": 4,
 "nbformat_minor": 5
}
