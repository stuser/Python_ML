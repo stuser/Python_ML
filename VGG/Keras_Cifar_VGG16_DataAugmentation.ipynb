{
 "cells": [
  {
   "cell_type": "markdown",
   "metadata": {},
   "source": [
    "# 1. Import Library"
   ]
  },
  {
   "cell_type": "code",
   "execution_count": 1,
   "metadata": {},
   "outputs": [
    {
     "name": "stderr",
     "output_type": "stream",
     "text": [
      "Using TensorFlow backend.\n"
     ]
    }
   ],
   "source": [
    "# Simple CNN model for the CIFAR-10 Dataset\n",
    "import numpy\n",
    "from keras.datasets import cifar10\n",
    "import numpy as np\n",
    "np.random.seed(10)"
   ]
  },
  {
   "cell_type": "markdown",
   "metadata": {},
   "source": [
    "# 資料準備"
   ]
  },
  {
   "cell_type": "code",
   "execution_count": 2,
   "metadata": {},
   "outputs": [],
   "source": [
    "(X_img_train, y_label_train), (X_img_test, y_label_test) = cifar10.load_data()"
   ]
  },
  {
   "cell_type": "code",
   "execution_count": 3,
   "metadata": {},
   "outputs": [
    {
     "name": "stdout",
     "output_type": "stream",
     "text": [
      "train data: images: (50000, 32, 32, 3)  labels: (50000, 1)\n",
      "test  data: images: (10000, 32, 32, 3)  labels: (10000, 1)\n"
     ]
    }
   ],
   "source": [
    "print(\"train data:\",'images:',X_img_train.shape,\" labels:\",y_label_train.shape) \n",
    "print(\"test  data:\",'images:',X_img_test.shape ,\" labels:\",y_label_test.shape) "
   ]
  },
  {
   "cell_type": "code",
   "execution_count": 4,
   "metadata": {},
   "outputs": [],
   "source": [
    "X_img_train_normalize = X_img_train.astype('float32') / 255.0\n",
    "X_img_test_normalize = X_img_test.astype('float32') / 255.0"
   ]
  },
  {
   "cell_type": "code",
   "execution_count": 5,
   "metadata": {},
   "outputs": [],
   "source": [
    "from keras.utils import np_utils\n",
    "y_label_train_OneHot = np_utils.to_categorical(y_label_train)\n",
    "y_label_test_OneHot = np_utils.to_categorical(y_label_test)"
   ]
  },
  {
   "cell_type": "code",
   "execution_count": 6,
   "metadata": {},
   "outputs": [
    {
     "data": {
      "text/plain": [
       "(10000, 10)"
      ]
     },
     "execution_count": 6,
     "metadata": {},
     "output_type": "execute_result"
    }
   ],
   "source": [
    "y_label_test_OneHot.shape"
   ]
  },
  {
   "cell_type": "markdown",
   "metadata": {},
   "source": [
    "# 建立模型"
   ]
  },
  {
   "cell_type": "code",
   "execution_count": 7,
   "metadata": {},
   "outputs": [],
   "source": [
    "from keras.applications.vgg16 import VGG16\n",
    "from keras.preprocessing import image\n",
    "from keras.applications.vgg16 import preprocess_input\n",
    "from keras.layers import Input, Flatten, Dense, Dropout\n",
    "from keras.models import Model\n",
    "import numpy as np"
   ]
  },
  {
   "cell_type": "code",
   "execution_count": 8,
   "metadata": {},
   "outputs": [
    {
     "name": "stdout",
     "output_type": "stream",
     "text": [
      "_________________________________________________________________\n",
      "Layer (type)                 Output Shape              Param #   \n",
      "=================================================================\n",
      "input_1 (InputLayer)         (None, None, None, 3)     0         \n",
      "_________________________________________________________________\n",
      "block1_conv1 (Conv2D)        (None, None, None, 64)    1792      \n",
      "_________________________________________________________________\n",
      "block1_conv2 (Conv2D)        (None, None, None, 64)    36928     \n",
      "_________________________________________________________________\n",
      "block1_pool (MaxPooling2D)   (None, None, None, 64)    0         \n",
      "_________________________________________________________________\n",
      "block2_conv1 (Conv2D)        (None, None, None, 128)   73856     \n",
      "_________________________________________________________________\n",
      "block2_conv2 (Conv2D)        (None, None, None, 128)   147584    \n",
      "_________________________________________________________________\n",
      "block2_pool (MaxPooling2D)   (None, None, None, 128)   0         \n",
      "_________________________________________________________________\n",
      "block3_conv1 (Conv2D)        (None, None, None, 256)   295168    \n",
      "_________________________________________________________________\n",
      "block3_conv2 (Conv2D)        (None, None, None, 256)   590080    \n",
      "_________________________________________________________________\n",
      "block3_conv3 (Conv2D)        (None, None, None, 256)   590080    \n",
      "_________________________________________________________________\n",
      "block3_pool (MaxPooling2D)   (None, None, None, 256)   0         \n",
      "_________________________________________________________________\n",
      "block4_conv1 (Conv2D)        (None, None, None, 512)   1180160   \n",
      "_________________________________________________________________\n",
      "block4_conv2 (Conv2D)        (None, None, None, 512)   2359808   \n",
      "_________________________________________________________________\n",
      "block4_conv3 (Conv2D)        (None, None, None, 512)   2359808   \n",
      "_________________________________________________________________\n",
      "block4_pool (MaxPooling2D)   (None, None, None, 512)   0         \n",
      "_________________________________________________________________\n",
      "block5_conv1 (Conv2D)        (None, None, None, 512)   2359808   \n",
      "_________________________________________________________________\n",
      "block5_conv2 (Conv2D)        (None, None, None, 512)   2359808   \n",
      "_________________________________________________________________\n",
      "block5_conv3 (Conv2D)        (None, None, None, 512)   2359808   \n",
      "_________________________________________________________________\n",
      "block5_pool (MaxPooling2D)   (None, None, None, 512)   0         \n",
      "=================================================================\n",
      "Total params: 14,714,688\n",
      "Trainable params: 14,714,688\n",
      "Non-trainable params: 0\n",
      "_________________________________________________________________\n"
     ]
    }
   ],
   "source": [
    "#Get back the convolutional part of a VGG network trained on ImageNet\n",
    "model_vgg16_conv = VGG16(weights='imagenet', include_top=False, classes=10)\n",
    "model_vgg16_conv.summary()"
   ]
  },
  {
   "cell_type": "code",
   "execution_count": 9,
   "metadata": {},
   "outputs": [],
   "source": [
    "#Create your own input format (here 32x32x3)\n",
    "input = Input(shape=(32,32,3),name = 'image_input')"
   ]
  },
  {
   "cell_type": "code",
   "execution_count": 10,
   "metadata": {},
   "outputs": [],
   "source": [
    "#Use the generated model \n",
    "output_vgg16_conv = model_vgg16_conv(input)"
   ]
  },
  {
   "cell_type": "code",
   "execution_count": 11,
   "metadata": {},
   "outputs": [],
   "source": [
    "#Add the fully-connected layers \n",
    "x = Flatten(name='flatten')(output_vgg16_conv)\n",
    "x = Dense(512, activation='relu', name='fc1')(x)\n",
    "#x = Dropout(0.4)(x)\n",
    "x = Dense(128, activation='relu', name='fc2')(x)\n",
    "#x = Dropout(0.4)(x)\n",
    "#x = Dense(2048, activation='relu', name='fc3')(x)\n",
    "#x = Dropout(0.4)(x)\n",
    "#x = Dense(256, activation='relu', name='fc4')(x)\n",
    "x = Dense(10, activation='softmax', name='predictions')(x)"
   ]
  },
  {
   "cell_type": "code",
   "execution_count": 12,
   "metadata": {},
   "outputs": [
    {
     "name": "stderr",
     "output_type": "stream",
     "text": [
      "/opt/conda/lib/python3.6/site-packages/ipykernel_launcher.py:2: UserWarning: Update your `Model` call to the Keras 2 API: `Model(inputs=Tensor(\"im..., outputs=Tensor(\"pr...)`\n",
      "  \n"
     ]
    }
   ],
   "source": [
    "#Create your own model \n",
    "my_model = Model(input=input, output=x)"
   ]
  },
  {
   "cell_type": "code",
   "execution_count": 13,
   "metadata": {},
   "outputs": [
    {
     "name": "stdout",
     "output_type": "stream",
     "text": [
      "_________________________________________________________________\n",
      "Layer (type)                 Output Shape              Param #   \n",
      "=================================================================\n",
      "image_input (InputLayer)     (None, 32, 32, 3)         0         \n",
      "_________________________________________________________________\n",
      "vgg16 (Model)                multiple                  14714688  \n",
      "_________________________________________________________________\n",
      "flatten (Flatten)            (None, 512)               0         \n",
      "_________________________________________________________________\n",
      "fc1 (Dense)                  (None, 512)               262656    \n",
      "_________________________________________________________________\n",
      "fc2 (Dense)                  (None, 128)               65664     \n",
      "_________________________________________________________________\n",
      "predictions (Dense)          (None, 10)                1290      \n",
      "=================================================================\n",
      "Total params: 15,044,298\n",
      "Trainable params: 15,044,298\n",
      "Non-trainable params: 0\n",
      "_________________________________________________________________\n"
     ]
    }
   ],
   "source": [
    "#In the summary, weights and layers from VGG part will be hidden, but they will be fit during the training\n",
    "my_model.summary()\n"
   ]
  },
  {
   "cell_type": "code",
   "execution_count": 14,
   "metadata": {},
   "outputs": [],
   "source": [
    "#If you want to change only the last layer :\n",
    "\n",
    "# Generate a model with all layers (with top)\n",
    "#vgg16 = VGG16(weights=None, include_top=True)\n",
    "\n",
    "#Add a layer where input is the output of the  second last layer \n",
    "#x = Dense(8, activation='softmax', name='predictions')(vgg16.layers[-2].output)\n",
    "\n",
    "#Then create the corresponding model \n",
    "#my_model = Model(input=vgg16.input, output=x)\n",
    "#my_model.summary()"
   ]
  },
  {
   "cell_type": "markdown",
   "metadata": {},
   "source": [
    "# 訓練模型"
   ]
  },
  {
   "cell_type": "code",
   "execution_count": 15,
   "metadata": {},
   "outputs": [],
   "source": [
    "from keras.models import optimizers\n",
    "\n",
    "#, beta_1=0.9, beta_2=0.999, epsilon=None, decay=0.0\n",
    "opt_adam = optimizers.Adam( lr=0.0001, beta_1=0.9, beta_2=0.99999, decay=0.00001 )"
   ]
  },
  {
   "cell_type": "code",
   "execution_count": 16,
   "metadata": {},
   "outputs": [],
   "source": [
    "my_model.compile(loss='categorical_crossentropy', optimizer= opt_adam, metrics=['accuracy'])"
   ]
  },
  {
   "cell_type": "code",
   "execution_count": 17,
   "metadata": {},
   "outputs": [
    {
     "name": "stdout",
     "output_type": "stream",
     "text": [
      "Using real-time data augmentation.\n"
     ]
    }
   ],
   "source": [
    "from keras.preprocessing.image import ImageDataGenerator\n",
    "\n",
    "print('Using real-time data augmentation.')\n",
    "# This will do preprocessing and realtime data augmentation:\n",
    "datagen = ImageDataGenerator(\n",
    "    rotation_range=30,  # randomly rotate images in the range (degrees, 0 to 180)\n",
    "    width_shift_range=0.1,  # randomly shift images horizontally (fraction of total width)\n",
    "    height_shift_range=0.1,  # randomly shift images vertically (fraction of total height)\n",
    "    horizontal_flip=True,  # randomly flip images\n",
    "    vertical_flip=False)  # randomly flip images"
   ]
  },
  {
   "cell_type": "code",
   "execution_count": 18,
   "metadata": {},
   "outputs": [
    {
     "name": "stdout",
     "output_type": "stream",
     "text": [
      "Epoch 1/200\n",
      "25/25 [==============================] - 17s 684ms/step - loss: 1.7418 - acc: 0.3828 - val_loss: 1.1963 - val_acc: 0.5724\n",
      "Epoch 2/200\n",
      "25/25 [==============================] - 17s 678ms/step - loss: 1.0995 - acc: 0.6071 - val_loss: 0.8572 - val_acc: 0.6942\n",
      "Epoch 3/200\n",
      "25/25 [==============================] - 17s 687ms/step - loss: 0.9007 - acc: 0.6823 - val_loss: 0.7532 - val_acc: 0.7362\n",
      "Epoch 4/200\n",
      "25/25 [==============================] - 17s 694ms/step - loss: 0.7986 - acc: 0.7153 - val_loss: 0.6709 - val_acc: 0.7613\n",
      "Epoch 5/200\n",
      "25/25 [==============================] - 17s 685ms/step - loss: 0.7380 - acc: 0.7391 - val_loss: 0.6879 - val_acc: 0.7641\n",
      "Epoch 6/200\n",
      "25/25 [==============================] - 16s 657ms/step - loss: 0.6968 - acc: 0.7555 - val_loss: 0.5992 - val_acc: 0.7857\n",
      "Epoch 7/200\n",
      "25/25 [==============================] - 17s 691ms/step - loss: 0.6470 - acc: 0.7710 - val_loss: 0.5775 - val_acc: 0.7921\n",
      "Epoch 8/200\n",
      "25/25 [==============================] - 18s 723ms/step - loss: 0.6241 - acc: 0.7798 - val_loss: 0.5461 - val_acc: 0.8062\n",
      "Epoch 9/200\n",
      "25/25 [==============================] - 14s 542ms/step - loss: 0.6001 - acc: 0.7874 - val_loss: 0.5417 - val_acc: 0.8103\n",
      "Epoch 10/200\n",
      "25/25 [==============================] - 16s 653ms/step - loss: 0.5830 - acc: 0.7949 - val_loss: 0.5457 - val_acc: 0.8080\n",
      "Epoch 11/200\n",
      "25/25 [==============================] - 18s 727ms/step - loss: 0.5364 - acc: 0.8110 - val_loss: 0.5037 - val_acc: 0.8228\n",
      "Epoch 12/200\n",
      "25/25 [==============================] - 16s 635ms/step - loss: 0.5250 - acc: 0.8153 - val_loss: 0.5200 - val_acc: 0.8127\n",
      "Epoch 13/200\n",
      "25/25 [==============================] - 18s 703ms/step - loss: 0.5093 - acc: 0.8198 - val_loss: 0.5012 - val_acc: 0.8255\n",
      "Epoch 14/200\n",
      "25/25 [==============================] - 17s 681ms/step - loss: 0.4973 - acc: 0.8232 - val_loss: 0.4797 - val_acc: 0.8315\n",
      "Epoch 15/200\n",
      "25/25 [==============================] - 18s 732ms/step - loss: 0.4680 - acc: 0.8358 - val_loss: 0.4667 - val_acc: 0.8356\n",
      "Epoch 16/200\n",
      "25/25 [==============================] - 17s 680ms/step - loss: 0.4649 - acc: 0.8359 - val_loss: 0.4731 - val_acc: 0.8334\n",
      "Epoch 17/200\n",
      "25/25 [==============================] - 16s 660ms/step - loss: 0.4362 - acc: 0.8460 - val_loss: 0.4580 - val_acc: 0.8395\n",
      "Epoch 18/200\n",
      "25/25 [==============================] - 18s 719ms/step - loss: 0.4346 - acc: 0.8462 - val_loss: 0.4703 - val_acc: 0.8377\n",
      "Epoch 19/200\n",
      "25/25 [==============================] - 19s 752ms/step - loss: 0.4225 - acc: 0.8515 - val_loss: 0.4710 - val_acc: 0.8344\n",
      "Epoch 20/200\n",
      "25/25 [==============================] - 20s 789ms/step - loss: 0.4029 - acc: 0.8562 - val_loss: 0.4424 - val_acc: 0.8462\n",
      "Epoch 21/200\n",
      "25/25 [==============================] - 20s 780ms/step - loss: 0.3878 - acc: 0.8630 - val_loss: 0.4666 - val_acc: 0.8403\n",
      "Epoch 22/200\n",
      "25/25 [==============================] - 20s 795ms/step - loss: 0.3677 - acc: 0.8691 - val_loss: 0.4748 - val_acc: 0.8395\n",
      "Epoch 23/200\n",
      "25/25 [==============================] - 19s 756ms/step - loss: 0.3719 - acc: 0.8679 - val_loss: 0.4473 - val_acc: 0.8469\n",
      "Epoch 24/200\n",
      "25/25 [==============================] - 20s 788ms/step - loss: 0.3549 - acc: 0.8723 - val_loss: 0.4506 - val_acc: 0.8463\n",
      "Epoch 25/200\n",
      "25/25 [==============================] - 16s 652ms/step - loss: 0.3454 - acc: 0.8768 - val_loss: 0.4418 - val_acc: 0.8486\n",
      "Epoch 26/200\n",
      "25/25 [==============================] - 17s 671ms/step - loss: 0.3250 - acc: 0.8841 - val_loss: 0.4514 - val_acc: 0.8490\n",
      "Epoch 27/200\n",
      "25/25 [==============================] - 18s 710ms/step - loss: 0.3220 - acc: 0.8855 - val_loss: 0.4512 - val_acc: 0.8530\n",
      "Epoch 28/200\n",
      "25/25 [==============================] - 16s 648ms/step - loss: 0.3157 - acc: 0.8859 - val_loss: 0.4504 - val_acc: 0.8506\n",
      "Epoch 29/200\n",
      "25/25 [==============================] - 13s 539ms/step - loss: 0.2976 - acc: 0.8938 - val_loss: 0.4484 - val_acc: 0.8510\n",
      "Epoch 30/200\n",
      "25/25 [==============================] - 13s 513ms/step - loss: 0.2820 - acc: 0.8991 - val_loss: 0.4914 - val_acc: 0.8412\n",
      "Epoch 31/200\n",
      "25/25 [==============================] - 15s 614ms/step - loss: 0.2971 - acc: 0.8947 - val_loss: 0.4736 - val_acc: 0.8438\n",
      "Epoch 32/200\n",
      "25/25 [==============================] - 13s 521ms/step - loss: 0.2729 - acc: 0.9022 - val_loss: 0.4495 - val_acc: 0.8540\n",
      "Epoch 33/200\n",
      "25/25 [==============================] - 14s 568ms/step - loss: 0.2653 - acc: 0.9032 - val_loss: 0.4495 - val_acc: 0.8561\n",
      "Epoch 34/200\n",
      "25/25 [==============================] - 15s 592ms/step - loss: 0.2475 - acc: 0.9115 - val_loss: 0.4504 - val_acc: 0.8539\n",
      "Epoch 35/200\n",
      "25/25 [==============================] - 13s 503ms/step - loss: 0.2369 - acc: 0.9152 - val_loss: 0.4732 - val_acc: 0.8490\n",
      "Epoch 36/200\n",
      "25/25 [==============================] - 17s 663ms/step - loss: 0.2642 - acc: 0.9064 - val_loss: 0.4650 - val_acc: 0.8500\n",
      "Epoch 37/200\n",
      "25/25 [==============================] - 16s 632ms/step - loss: 0.2367 - acc: 0.9158 - val_loss: 0.4630 - val_acc: 0.8541\n",
      "Epoch 38/200\n",
      "25/25 [==============================] - 19s 762ms/step - loss: 0.2332 - acc: 0.9171 - val_loss: 0.4543 - val_acc: 0.8552\n",
      "Epoch 39/200\n",
      "25/25 [==============================] - 19s 772ms/step - loss: 0.2222 - acc: 0.9222 - val_loss: 0.4534 - val_acc: 0.8564\n",
      "Epoch 40/200\n",
      "25/25 [==============================] - 16s 645ms/step - loss: 0.2130 - acc: 0.9237 - val_loss: 0.4524 - val_acc: 0.8593\n",
      "Epoch 41/200\n",
      "25/25 [==============================] - 18s 735ms/step - loss: 0.1994 - acc: 0.9300 - val_loss: 0.4852 - val_acc: 0.8525\n",
      "Epoch 42/200\n",
      "25/25 [==============================] - 17s 674ms/step - loss: 0.2040 - acc: 0.9270 - val_loss: 0.4875 - val_acc: 0.8544\n",
      "Epoch 43/200\n",
      "25/25 [==============================] - 17s 694ms/step - loss: 0.1892 - acc: 0.9314 - val_loss: 0.4888 - val_acc: 0.8566\n",
      "Epoch 44/200\n",
      "25/25 [==============================] - 15s 610ms/step - loss: 0.1840 - acc: 0.9336 - val_loss: 0.4816 - val_acc: 0.8536\n",
      "Epoch 45/200\n",
      "25/25 [==============================] - 14s 548ms/step - loss: 0.1687 - acc: 0.9402 - val_loss: 0.5113 - val_acc: 0.8556\n",
      "Epoch 46/200\n",
      "25/25 [==============================] - 17s 696ms/step - loss: 0.1785 - acc: 0.9372 - val_loss: 0.4688 - val_acc: 0.8579\n",
      "Epoch 47/200\n",
      "25/25 [==============================] - 13s 534ms/step - loss: 0.1656 - acc: 0.9411 - val_loss: 0.4882 - val_acc: 0.8570\n",
      "Epoch 48/200\n",
      "25/25 [==============================] - 19s 771ms/step - loss: 0.1556 - acc: 0.9458 - val_loss: 0.5194 - val_acc: 0.8522\n",
      "Epoch 49/200\n",
      "25/25 [==============================] - 14s 574ms/step - loss: 0.1510 - acc: 0.9470 - val_loss: 0.5346 - val_acc: 0.8535\n",
      "Epoch 50/200\n",
      "25/25 [==============================] - 16s 647ms/step - loss: 0.1532 - acc: 0.9460 - val_loss: 0.5229 - val_acc: 0.8564\n",
      "Epoch 51/200\n",
      "25/25 [==============================] - 18s 733ms/step - loss: 0.1482 - acc: 0.9472 - val_loss: 0.5380 - val_acc: 0.8550\n",
      "Epoch 52/200\n",
      "25/25 [==============================] - 20s 781ms/step - loss: 0.1414 - acc: 0.9496 - val_loss: 0.5155 - val_acc: 0.8549\n",
      "Epoch 53/200\n",
      "25/25 [==============================] - 14s 547ms/step - loss: 0.1394 - acc: 0.9500 - val_loss: 0.5371 - val_acc: 0.8547\n",
      "Epoch 54/200\n",
      "25/25 [==============================] - 21s 842ms/step - loss: 0.1366 - acc: 0.9509 - val_loss: 0.5282 - val_acc: 0.8549\n",
      "Epoch 55/200\n",
      "25/25 [==============================] - 19s 754ms/step - loss: 0.1246 - acc: 0.9562 - val_loss: 0.5310 - val_acc: 0.8591\n",
      "Epoch 56/200\n",
      "25/25 [==============================] - 15s 601ms/step - loss: 0.1172 - acc: 0.9587 - val_loss: 0.5525 - val_acc: 0.8521\n",
      "Epoch 57/200\n",
      "25/25 [==============================] - 17s 669ms/step - loss: 0.1245 - acc: 0.9561 - val_loss: 0.5431 - val_acc: 0.8574\n",
      "Epoch 58/200\n",
      "25/25 [==============================] - 17s 664ms/step - loss: 0.1264 - acc: 0.9554 - val_loss: 0.5476 - val_acc: 0.8545\n",
      "Epoch 59/200\n",
      "25/25 [==============================] - 19s 744ms/step - loss: 0.1143 - acc: 0.9595 - val_loss: 0.5560 - val_acc: 0.8583\n",
      "Epoch 60/200\n",
      "25/25 [==============================] - 16s 655ms/step - loss: 0.1049 - acc: 0.9633 - val_loss: 0.5613 - val_acc: 0.8528\n",
      "Epoch 61/200\n",
      "25/25 [==============================] - 14s 576ms/step - loss: 0.1058 - acc: 0.9626 - val_loss: 0.5836 - val_acc: 0.8579\n",
      "Epoch 62/200\n",
      "25/25 [==============================] - 15s 588ms/step - loss: 0.1093 - acc: 0.9620 - val_loss: 0.5383 - val_acc: 0.8586\n",
      "Epoch 63/200\n",
      "25/25 [==============================] - 18s 721ms/step - loss: 0.1014 - acc: 0.9648 - val_loss: 0.6057 - val_acc: 0.8496\n",
      "Epoch 64/200\n",
      "25/25 [==============================] - 16s 643ms/step - loss: 0.1079 - acc: 0.9613 - val_loss: 0.5743 - val_acc: 0.8522\n",
      "Epoch 65/200\n",
      "25/25 [==============================] - 18s 701ms/step - loss: 0.0956 - acc: 0.9665 - val_loss: 0.5738 - val_acc: 0.8591\n",
      "Epoch 66/200\n",
      "25/25 [==============================] - 17s 687ms/step - loss: 0.0893 - acc: 0.9690 - val_loss: 0.5665 - val_acc: 0.8604\n",
      "Epoch 67/200\n",
      "25/25 [==============================] - 17s 671ms/step - loss: 0.0918 - acc: 0.9682 - val_loss: 0.5517 - val_acc: 0.8554\n",
      "Epoch 68/200\n",
      "25/25 [==============================] - 17s 679ms/step - loss: 0.0894 - acc: 0.9675 - val_loss: 0.5848 - val_acc: 0.8534\n",
      "Epoch 69/200\n",
      "25/25 [==============================] - 18s 727ms/step - loss: 0.0811 - acc: 0.9719 - val_loss: 0.6091 - val_acc: 0.8548\n",
      "Epoch 70/200\n",
      "25/25 [==============================] - 17s 669ms/step - loss: 0.0771 - acc: 0.9736 - val_loss: 0.5926 - val_acc: 0.8576\n",
      "Epoch 71/200\n",
      "25/25 [==============================] - 16s 637ms/step - loss: 0.0743 - acc: 0.9736 - val_loss: 0.6020 - val_acc: 0.8568\n",
      "Epoch 72/200\n",
      "25/25 [==============================] - 17s 671ms/step - loss: 0.0758 - acc: 0.9730 - val_loss: 0.5879 - val_acc: 0.8554\n",
      "Epoch 73/200\n",
      "25/25 [==============================] - 16s 642ms/step - loss: 0.0735 - acc: 0.9740 - val_loss: 0.5871 - val_acc: 0.8601\n",
      "Epoch 74/200\n",
      "25/25 [==============================] - 17s 676ms/step - loss: 0.0717 - acc: 0.9755 - val_loss: 0.6086 - val_acc: 0.8554\n",
      "Epoch 75/200\n",
      "25/25 [==============================] - 18s 707ms/step - loss: 0.0710 - acc: 0.9748 - val_loss: 0.5941 - val_acc: 0.8570\n",
      "Epoch 76/200\n",
      "25/25 [==============================] - 19s 753ms/step - loss: 0.0663 - acc: 0.9767 - val_loss: 0.6564 - val_acc: 0.8540\n",
      "Epoch 77/200\n",
      "25/25 [==============================] - 15s 597ms/step - loss: 0.0744 - acc: 0.9737 - val_loss: 0.6173 - val_acc: 0.8556\n",
      "Epoch 78/200\n",
      "25/25 [==============================] - 15s 580ms/step - loss: 0.0707 - acc: 0.9752 - val_loss: 0.5961 - val_acc: 0.8598\n",
      "Epoch 79/200\n",
      "25/25 [==============================] - 17s 671ms/step - loss: 0.0721 - acc: 0.9751 - val_loss: 0.6646 - val_acc: 0.8477\n",
      "Epoch 80/200\n",
      "25/25 [==============================] - 16s 631ms/step - loss: 0.0790 - acc: 0.9720 - val_loss: 0.6233 - val_acc: 0.8533\n",
      "Epoch 81/200\n",
      "25/25 [==============================] - 15s 607ms/step - loss: 0.0666 - acc: 0.9771 - val_loss: 0.6245 - val_acc: 0.8605\n",
      "Epoch 82/200\n",
      "25/25 [==============================] - 15s 614ms/step - loss: 0.0590 - acc: 0.9799 - val_loss: 0.6161 - val_acc: 0.8604\n",
      "Epoch 83/200\n",
      "25/25 [==============================] - 16s 638ms/step - loss: 0.0595 - acc: 0.9799 - val_loss: 0.6632 - val_acc: 0.8563\n",
      "Epoch 84/200\n",
      "25/25 [==============================] - 19s 752ms/step - loss: 0.0618 - acc: 0.9782 - val_loss: 0.6111 - val_acc: 0.8621\n",
      "Epoch 85/200\n",
      "25/25 [==============================] - 19s 772ms/step - loss: 0.0560 - acc: 0.9807 - val_loss: 0.6858 - val_acc: 0.8476\n",
      "Epoch 86/200\n",
      "25/25 [==============================] - 19s 755ms/step - loss: 0.0641 - acc: 0.9771 - val_loss: 0.6185 - val_acc: 0.8574\n",
      "Epoch 87/200\n",
      "25/25 [==============================] - 17s 692ms/step - loss: 0.0540 - acc: 0.9814 - val_loss: 0.6305 - val_acc: 0.8628\n",
      "Epoch 88/200\n",
      "25/25 [==============================] - 15s 603ms/step - loss: 0.0535 - acc: 0.9817 - val_loss: 0.6159 - val_acc: 0.8624\n",
      "Epoch 89/200\n",
      "25/25 [==============================] - 16s 630ms/step - loss: 0.0490 - acc: 0.9831 - val_loss: 0.6254 - val_acc: 0.8593\n",
      "Epoch 90/200\n",
      "25/25 [==============================] - 15s 605ms/step - loss: 0.0559 - acc: 0.9800 - val_loss: 0.6354 - val_acc: 0.8602\n",
      "Epoch 91/200\n",
      "25/25 [==============================] - 15s 600ms/step - loss: 0.0527 - acc: 0.9821 - val_loss: 0.6355 - val_acc: 0.8580\n",
      "Epoch 92/200\n",
      "25/25 [==============================] - 17s 688ms/step - loss: 0.0533 - acc: 0.9821 - val_loss: 0.6370 - val_acc: 0.8517\n",
      "Epoch 93/200\n",
      "25/25 [==============================] - 17s 678ms/step - loss: 0.0611 - acc: 0.9785 - val_loss: 0.6414 - val_acc: 0.8539\n",
      "Epoch 94/200\n",
      "25/25 [==============================] - 16s 654ms/step - loss: 0.0521 - acc: 0.9814 - val_loss: 0.6667 - val_acc: 0.8521\n",
      "Epoch 95/200\n",
      "25/25 [==============================] - 18s 739ms/step - loss: 0.0473 - acc: 0.9842 - val_loss: 0.6480 - val_acc: 0.8568\n",
      "Epoch 96/200\n",
      "25/25 [==============================] - 19s 753ms/step - loss: 0.0448 - acc: 0.9851 - val_loss: 0.6308 - val_acc: 0.8610\n",
      "Epoch 97/200\n",
      "25/25 [==============================] - 16s 641ms/step - loss: 0.0417 - acc: 0.9857 - val_loss: 0.6592 - val_acc: 0.8578\n",
      "Epoch 98/200\n",
      "25/25 [==============================] - 20s 786ms/step - loss: 0.0494 - acc: 0.9830 - val_loss: 0.6894 - val_acc: 0.8488\n",
      "Epoch 99/200\n",
      "25/25 [==============================] - 19s 751ms/step - loss: 0.0517 - acc: 0.9815 - val_loss: 0.6497 - val_acc: 0.8596\n",
      "Epoch 100/200\n",
      "25/25 [==============================] - 18s 723ms/step - loss: 0.0442 - acc: 0.9853 - val_loss: 0.6723 - val_acc: 0.8585\n",
      "Epoch 101/200\n",
      "25/25 [==============================] - 19s 747ms/step - loss: 0.0433 - acc: 0.9847 - val_loss: 0.6357 - val_acc: 0.8604\n",
      "Epoch 102/200\n",
      "25/25 [==============================] - 19s 774ms/step - loss: 0.0509 - acc: 0.9827 - val_loss: 0.6421 - val_acc: 0.8538\n",
      "Epoch 103/200\n",
      "25/25 [==============================] - 18s 723ms/step - loss: 0.0474 - acc: 0.9839 - val_loss: 0.6686 - val_acc: 0.8548\n",
      "Epoch 104/200\n",
      "25/25 [==============================] - 18s 728ms/step - loss: 0.0429 - acc: 0.9855 - val_loss: 0.6497 - val_acc: 0.8603\n",
      "Epoch 105/200\n",
      "25/25 [==============================] - 13s 540ms/step - loss: 0.0389 - acc: 0.9868 - val_loss: 0.6838 - val_acc: 0.8529\n",
      "Epoch 106/200\n",
      "25/25 [==============================] - 19s 765ms/step - loss: 0.0384 - acc: 0.9868 - val_loss: 0.6796 - val_acc: 0.8569\n",
      "Epoch 107/200\n",
      "25/25 [==============================] - 20s 799ms/step - loss: 0.0390 - acc: 0.9865 - val_loss: 0.6775 - val_acc: 0.8579\n",
      "Epoch 108/200\n",
      "25/25 [==============================] - 16s 653ms/step - loss: 0.0420 - acc: 0.9853 - val_loss: 0.6734 - val_acc: 0.8574\n",
      "Epoch 109/200\n",
      "25/25 [==============================] - 18s 726ms/step - loss: 0.0389 - acc: 0.9867 - val_loss: 0.6765 - val_acc: 0.8609\n",
      "Epoch 110/200\n",
      "25/25 [==============================] - 18s 725ms/step - loss: 0.0324 - acc: 0.9888 - val_loss: 0.7061 - val_acc: 0.8594\n",
      "Epoch 111/200\n",
      "25/25 [==============================] - 19s 776ms/step - loss: 0.0352 - acc: 0.9878 - val_loss: 0.7238 - val_acc: 0.8587\n",
      "Epoch 112/200\n",
      "25/25 [==============================] - 18s 718ms/step - loss: 0.0303 - acc: 0.9897 - val_loss: 0.7094 - val_acc: 0.8582\n",
      "Epoch 113/200\n",
      "25/25 [==============================] - 19s 754ms/step - loss: 0.0337 - acc: 0.9878 - val_loss: 0.7557 - val_acc: 0.8508\n",
      "Epoch 114/200\n",
      "25/25 [==============================] - 19s 765ms/step - loss: 0.0375 - acc: 0.9868 - val_loss: 0.7033 - val_acc: 0.8546\n",
      "Epoch 115/200\n",
      "25/25 [==============================] - 19s 749ms/step - loss: 0.0396 - acc: 0.9860 - val_loss: 0.7012 - val_acc: 0.8556\n",
      "Epoch 116/200\n",
      "25/25 [==============================] - 16s 631ms/step - loss: 0.0362 - acc: 0.9875 - val_loss: 0.7052 - val_acc: 0.8570\n",
      "Epoch 117/200\n",
      "25/25 [==============================] - 19s 745ms/step - loss: 0.0335 - acc: 0.9886 - val_loss: 0.7007 - val_acc: 0.8586\n",
      "Epoch 118/200\n",
      "25/25 [==============================] - 19s 754ms/step - loss: 0.0328 - acc: 0.9889 - val_loss: 0.7047 - val_acc: 0.8575\n",
      "Epoch 119/200\n",
      "25/25 [==============================] - 17s 677ms/step - loss: 0.0321 - acc: 0.9886 - val_loss: 0.7291 - val_acc: 0.8524\n",
      "Epoch 120/200\n",
      "25/25 [==============================] - 16s 626ms/step - loss: 0.0343 - acc: 0.9883 - val_loss: 0.6928 - val_acc: 0.8592\n",
      "Epoch 121/200\n",
      "25/25 [==============================] - 16s 658ms/step - loss: 0.0294 - acc: 0.9894 - val_loss: 0.7441 - val_acc: 0.8555\n",
      "Epoch 122/200\n",
      "25/25 [==============================] - 16s 627ms/step - loss: 0.0337 - acc: 0.9884 - val_loss: 0.7150 - val_acc: 0.8582\n",
      "Epoch 123/200\n",
      "25/25 [==============================] - 18s 704ms/step - loss: 0.0354 - acc: 0.9882 - val_loss: 0.6978 - val_acc: 0.8579\n",
      "Epoch 124/200\n",
      "25/25 [==============================] - 13s 506ms/step - loss: 0.0340 - acc: 0.9887 - val_loss: 0.6885 - val_acc: 0.8566\n",
      "Epoch 125/200\n",
      "25/25 [==============================] - 17s 688ms/step - loss: 0.0318 - acc: 0.9890 - val_loss: 0.7017 - val_acc: 0.8582\n",
      "Epoch 126/200\n",
      "25/25 [==============================] - 18s 734ms/step - loss: 0.0340 - acc: 0.9881 - val_loss: 0.7274 - val_acc: 0.8549\n",
      "Epoch 127/200\n",
      "25/25 [==============================] - 16s 656ms/step - loss: 0.0311 - acc: 0.9894 - val_loss: 0.6844 - val_acc: 0.8605\n",
      "Epoch 128/200\n",
      "25/25 [==============================] - 19s 775ms/step - loss: 0.0298 - acc: 0.9899 - val_loss: 0.6958 - val_acc: 0.8576\n",
      "Epoch 129/200\n",
      "25/25 [==============================] - 18s 715ms/step - loss: 0.0318 - acc: 0.9895 - val_loss: 0.6836 - val_acc: 0.8610\n",
      "Epoch 130/200\n",
      "25/25 [==============================] - 18s 715ms/step - loss: 0.0273 - acc: 0.9903 - val_loss: 0.7301 - val_acc: 0.8564\n",
      "Epoch 131/200\n",
      "25/25 [==============================] - 16s 621ms/step - loss: 0.0309 - acc: 0.9889 - val_loss: 0.7008 - val_acc: 0.8585\n",
      "Epoch 132/200\n",
      "25/25 [==============================] - 13s 521ms/step - loss: 0.0291 - acc: 0.9893 - val_loss: 0.7141 - val_acc: 0.8580\n",
      "Epoch 133/200\n",
      "25/25 [==============================] - 16s 639ms/step - loss: 0.0272 - acc: 0.9910 - val_loss: 0.7298 - val_acc: 0.8599\n",
      "Epoch 134/200\n",
      "25/25 [==============================] - 15s 589ms/step - loss: 0.0291 - acc: 0.9902 - val_loss: 0.7273 - val_acc: 0.8574\n",
      "Epoch 135/200\n",
      "25/25 [==============================] - 15s 581ms/step - loss: 0.0310 - acc: 0.9895 - val_loss: 0.7113 - val_acc: 0.8562\n",
      "Epoch 136/200\n",
      "25/25 [==============================] - 17s 698ms/step - loss: 0.0298 - acc: 0.9902 - val_loss: 0.6876 - val_acc: 0.8588\n",
      "Epoch 137/200\n",
      "25/25 [==============================] - 16s 644ms/step - loss: 0.0291 - acc: 0.9904 - val_loss: 0.6941 - val_acc: 0.8561\n",
      "Epoch 138/200\n",
      "25/25 [==============================] - 14s 563ms/step - loss: 0.0278 - acc: 0.9908 - val_loss: 0.7335 - val_acc: 0.8574\n",
      "Epoch 139/200\n",
      "25/25 [==============================] - 15s 604ms/step - loss: 0.0261 - acc: 0.9914 - val_loss: 0.7365 - val_acc: 0.8580\n",
      "Epoch 140/200\n",
      "25/25 [==============================] - 17s 672ms/step - loss: 0.0262 - acc: 0.9913 - val_loss: 0.7189 - val_acc: 0.8615\n",
      "Epoch 141/200\n",
      "25/25 [==============================] - 17s 672ms/step - loss: 0.0278 - acc: 0.9908 - val_loss: 0.7216 - val_acc: 0.8629\n",
      "Epoch 142/200\n",
      "25/25 [==============================] - 16s 630ms/step - loss: 0.0229 - acc: 0.9922 - val_loss: 0.7346 - val_acc: 0.8608\n",
      "Epoch 143/200\n",
      "25/25 [==============================] - 14s 558ms/step - loss: 0.0302 - acc: 0.9896 - val_loss: 0.7181 - val_acc: 0.8598\n",
      "Epoch 144/200\n",
      "25/25 [==============================] - 17s 679ms/step - loss: 0.0268 - acc: 0.9906 - val_loss: 0.7141 - val_acc: 0.8610\n",
      "Epoch 145/200\n",
      "25/25 [==============================] - 16s 630ms/step - loss: 0.0245 - acc: 0.9916 - val_loss: 0.7414 - val_acc: 0.8571\n",
      "Epoch 146/200\n",
      "25/25 [==============================] - 13s 527ms/step - loss: 0.0242 - acc: 0.9921 - val_loss: 0.7658 - val_acc: 0.8551\n",
      "Epoch 147/200\n",
      "25/25 [==============================] - 15s 584ms/step - loss: 0.0255 - acc: 0.9915 - val_loss: 0.7465 - val_acc: 0.8601\n",
      "Epoch 148/200\n",
      "25/25 [==============================] - 19s 754ms/step - loss: 0.0290 - acc: 0.9907 - val_loss: 0.6953 - val_acc: 0.8606\n",
      "Epoch 149/200\n",
      "25/25 [==============================] - 16s 639ms/step - loss: 0.0265 - acc: 0.9910 - val_loss: 0.7082 - val_acc: 0.8593\n",
      "Epoch 150/200\n",
      "25/25 [==============================] - 14s 562ms/step - loss: 0.0235 - acc: 0.9919 - val_loss: 0.7042 - val_acc: 0.8662\n",
      "Epoch 151/200\n",
      "25/25 [==============================] - 16s 645ms/step - loss: 0.0256 - acc: 0.9910 - val_loss: 0.7292 - val_acc: 0.8607\n",
      "Epoch 152/200\n",
      "25/25 [==============================] - 17s 662ms/step - loss: 0.0224 - acc: 0.9924 - val_loss: 0.7464 - val_acc: 0.8581\n",
      "Epoch 153/200\n",
      "25/25 [==============================] - 15s 606ms/step - loss: 0.0240 - acc: 0.9923 - val_loss: 0.7520 - val_acc: 0.8600\n",
      "Epoch 154/200\n",
      "25/25 [==============================] - 15s 599ms/step - loss: 0.0210 - acc: 0.9928 - val_loss: 0.7314 - val_acc: 0.8631\n",
      "Epoch 155/200\n",
      "25/25 [==============================] - 17s 672ms/step - loss: 0.0208 - acc: 0.9928 - val_loss: 0.7465 - val_acc: 0.8632\n",
      "Epoch 156/200\n",
      "25/25 [==============================] - 19s 761ms/step - loss: 0.0204 - acc: 0.9928 - val_loss: 0.7642 - val_acc: 0.8578\n",
      "Epoch 157/200\n",
      "25/25 [==============================] - 18s 722ms/step - loss: 0.0245 - acc: 0.9916 - val_loss: 0.7411 - val_acc: 0.8574\n",
      "Epoch 158/200\n",
      "25/25 [==============================] - 17s 673ms/step - loss: 0.0230 - acc: 0.9921 - val_loss: 0.7499 - val_acc: 0.8610\n",
      "Epoch 159/200\n",
      "25/25 [==============================] - 19s 755ms/step - loss: 0.0201 - acc: 0.9935 - val_loss: 0.7450 - val_acc: 0.8610\n",
      "Epoch 160/200\n",
      "25/25 [==============================] - 18s 739ms/step - loss: 0.0210 - acc: 0.9927 - val_loss: 0.7659 - val_acc: 0.8622\n",
      "Epoch 161/200\n",
      "25/25 [==============================] - 16s 657ms/step - loss: 0.0245 - acc: 0.9911 - val_loss: 0.7888 - val_acc: 0.8592\n",
      "Epoch 162/200\n",
      "25/25 [==============================] - 17s 666ms/step - loss: 0.0222 - acc: 0.9921 - val_loss: 0.7353 - val_acc: 0.8629\n",
      "Epoch 163/200\n",
      "25/25 [==============================] - 20s 786ms/step - loss: 0.0233 - acc: 0.9919 - val_loss: 0.7545 - val_acc: 0.8613\n",
      "Epoch 164/200\n",
      "25/25 [==============================] - 17s 694ms/step - loss: 0.0184 - acc: 0.9939 - val_loss: 0.7458 - val_acc: 0.8608\n",
      "Epoch 165/200\n",
      "25/25 [==============================] - 19s 755ms/step - loss: 0.0221 - acc: 0.9926 - val_loss: 0.7647 - val_acc: 0.8593\n",
      "Epoch 166/200\n",
      "25/25 [==============================] - 13s 511ms/step - loss: 0.0220 - acc: 0.9925 - val_loss: 0.7645 - val_acc: 0.8587\n",
      "Epoch 167/200\n",
      "25/25 [==============================] - 19s 755ms/step - loss: 0.0193 - acc: 0.9934 - val_loss: 0.7967 - val_acc: 0.8523\n",
      "Epoch 168/200\n",
      "25/25 [==============================] - 18s 718ms/step - loss: 0.0191 - acc: 0.9938 - val_loss: 0.7546 - val_acc: 0.8610\n",
      "Epoch 169/200\n",
      "25/25 [==============================] - 18s 737ms/step - loss: 0.0212 - acc: 0.9929 - val_loss: 0.7635 - val_acc: 0.8609\n",
      "Epoch 170/200\n",
      "25/25 [==============================] - 16s 631ms/step - loss: 0.0200 - acc: 0.9931 - val_loss: 0.7744 - val_acc: 0.8609\n",
      "Epoch 171/200\n",
      "25/25 [==============================] - 17s 671ms/step - loss: 0.0198 - acc: 0.9928 - val_loss: 0.7596 - val_acc: 0.8535\n",
      "Epoch 172/200\n",
      "25/25 [==============================] - 16s 633ms/step - loss: 0.0223 - acc: 0.9922 - val_loss: 0.7356 - val_acc: 0.8633\n",
      "Epoch 173/200\n",
      "25/25 [==============================] - 16s 630ms/step - loss: 0.0184 - acc: 0.9939 - val_loss: 0.7554 - val_acc: 0.8598\n",
      "Epoch 174/200\n",
      "25/25 [==============================] - 17s 687ms/step - loss: 0.0183 - acc: 0.9935 - val_loss: 0.7959 - val_acc: 0.8578\n",
      "Epoch 175/200\n",
      "25/25 [==============================] - 17s 694ms/step - loss: 0.0191 - acc: 0.9937 - val_loss: 0.7670 - val_acc: 0.8598\n",
      "Epoch 176/200\n",
      "25/25 [==============================] - 18s 731ms/step - loss: 0.0178 - acc: 0.9941 - val_loss: 0.7848 - val_acc: 0.8563\n",
      "Epoch 177/200\n",
      "25/25 [==============================] - 18s 714ms/step - loss: 0.0176 - acc: 0.9942 - val_loss: 0.7861 - val_acc: 0.8561\n",
      "Epoch 178/200\n",
      "25/25 [==============================] - 18s 718ms/step - loss: 0.0186 - acc: 0.9938 - val_loss: 0.7700 - val_acc: 0.8565\n",
      "Epoch 179/200\n",
      "25/25 [==============================] - 16s 629ms/step - loss: 0.0185 - acc: 0.9939 - val_loss: 0.7596 - val_acc: 0.8553\n",
      "Epoch 180/200\n",
      "25/25 [==============================] - 16s 629ms/step - loss: 0.0187 - acc: 0.9937 - val_loss: 0.7753 - val_acc: 0.8603\n",
      "Epoch 181/200\n",
      "25/25 [==============================] - 17s 691ms/step - loss: 0.0184 - acc: 0.9941 - val_loss: 0.7896 - val_acc: 0.8604\n",
      "Epoch 182/200\n",
      "25/25 [==============================] - 16s 635ms/step - loss: 0.0183 - acc: 0.9940 - val_loss: 0.8295 - val_acc: 0.8548\n",
      "Epoch 183/200\n",
      "25/25 [==============================] - 17s 664ms/step - loss: 0.0188 - acc: 0.9934 - val_loss: 0.7721 - val_acc: 0.8603\n",
      "Epoch 184/200\n",
      "25/25 [==============================] - 15s 594ms/step - loss: 0.0176 - acc: 0.9938 - val_loss: 0.7939 - val_acc: 0.8543\n",
      "Epoch 185/200\n",
      "25/25 [==============================] - 16s 632ms/step - loss: 0.0171 - acc: 0.9944 - val_loss: 0.7851 - val_acc: 0.8587\n",
      "Epoch 186/200\n",
      "25/25 [==============================] - 15s 584ms/step - loss: 0.0168 - acc: 0.9941 - val_loss: 0.8064 - val_acc: 0.8584\n",
      "Epoch 187/200\n",
      "25/25 [==============================] - 16s 647ms/step - loss: 0.0156 - acc: 0.9949 - val_loss: 0.8086 - val_acc: 0.8602\n",
      "Epoch 188/200\n",
      "25/25 [==============================] - 16s 630ms/step - loss: 0.0165 - acc: 0.9942 - val_loss: 0.8101 - val_acc: 0.8556\n",
      "Epoch 189/200\n",
      "25/25 [==============================] - 12s 496ms/step - loss: 0.0185 - acc: 0.9941 - val_loss: 0.7927 - val_acc: 0.8584\n",
      "Epoch 190/200\n",
      "25/25 [==============================] - 13s 513ms/step - loss: 0.0170 - acc: 0.9944 - val_loss: 0.7657 - val_acc: 0.8597\n",
      "Epoch 191/200\n",
      "25/25 [==============================] - 17s 663ms/step - loss: 0.0182 - acc: 0.9937 - val_loss: 0.7758 - val_acc: 0.8558\n",
      "Epoch 192/200\n",
      "25/25 [==============================] - 18s 737ms/step - loss: 0.0155 - acc: 0.9947 - val_loss: 0.7823 - val_acc: 0.8578\n",
      "Epoch 193/200\n",
      "25/25 [==============================] - 16s 643ms/step - loss: 0.0154 - acc: 0.9947 - val_loss: 0.8171 - val_acc: 0.8596\n",
      "Epoch 194/200\n",
      "25/25 [==============================] - 17s 687ms/step - loss: 0.0126 - acc: 0.9955 - val_loss: 0.8587 - val_acc: 0.8559\n",
      "Epoch 195/200\n",
      "25/25 [==============================] - 20s 782ms/step - loss: 0.0151 - acc: 0.9951 - val_loss: 0.7999 - val_acc: 0.8609\n",
      "Epoch 196/200\n",
      "25/25 [==============================] - 13s 530ms/step - loss: 0.0147 - acc: 0.9949 - val_loss: 0.8378 - val_acc: 0.8582\n",
      "Epoch 197/200\n",
      "25/25 [==============================] - 15s 585ms/step - loss: 0.0221 - acc: 0.9927 - val_loss: 0.7857 - val_acc: 0.8584\n",
      "Epoch 198/200\n",
      "25/25 [==============================] - 20s 816ms/step - loss: 0.0159 - acc: 0.9950 - val_loss: 0.7965 - val_acc: 0.8595\n",
      "Epoch 199/200\n",
      "25/25 [==============================] - 17s 668ms/step - loss: 0.0146 - acc: 0.9950 - val_loss: 0.8045 - val_acc: 0.8616\n",
      "Epoch 200/200\n",
      "25/25 [==============================] - 14s 577ms/step - loss: 0.0165 - acc: 0.9943 - val_loss: 0.7795 - val_acc: 0.8618\n"
     ]
    }
   ],
   "source": [
    "# Fit the model on the batches generated by datagen.flow().\n",
    "train_history = my_model.fit_generator(\n",
    "                    datagen.flow(X_img_train_normalize, y_label_train_OneHot, batch_size=2000),\n",
    "                    epochs=200,\n",
    "                    validation_data=(X_img_test_normalize, y_label_test_OneHot)\n",
    "                    )"
   ]
  },
  {
   "cell_type": "code",
   "execution_count": 19,
   "metadata": {},
   "outputs": [],
   "source": [
    "import matplotlib.pyplot as plt\n",
    "def show_train_history(train_token,test_token):\n",
    "    plt.plot(train_history.history[train_token])\n",
    "    plt.plot(train_history.history[test_token])\n",
    "    plt.title('Train History')\n",
    "    #plt.ylabel('Accuracy')\n",
    "    plt.ylabel(train_token)\n",
    "    plt.xlabel('Epoch')\n",
    "    plt.legend([train_token, test_token], loc='upper left')\n",
    "    plt.show()"
   ]
  },
  {
   "cell_type": "code",
   "execution_count": 20,
   "metadata": {},
   "outputs": [
    {
     "data": {
      "image/png": "[encoded data removed]",
      "text/plain": [
       "<matplotlib.figure.Figure at 0x7f3c7418e2e8>"
      ]
     },
     "metadata": {},
     "output_type": "display_data"
    }
   ],
   "source": [
    "show_train_history('acc','val_acc')"
   ]
  },
  {
   "cell_type": "code",
   "execution_count": 21,
   "metadata": {},
   "outputs": [
    {
     "data": {
      "image/png": "[encoded data removed]",
      "text/plain": [
       "<matplotlib.figure.Figure at 0x7f3b481019b0>"
      ]
     },
     "metadata": {},
     "output_type": "display_data"
    }
   ],
   "source": [
    "show_train_history('loss','val_loss')"
   ]
  },
  {
   "cell_type": "markdown",
   "metadata": {},
   "source": [
    "# 評估模型準確率"
   ]
  },
  {
   "cell_type": "code",
   "execution_count": 22,
   "metadata": {},
   "outputs": [
    {
     "data": {
      "text/plain": [
       "0.86180000000000001"
      ]
     },
     "execution_count": 22,
     "metadata": {},
     "output_type": "execute_result"
    }
   ],
   "source": [
    "scores = my_model.evaluate(X_img_test_normalize, \n",
    "                        y_label_test_OneHot,verbose=0)\n",
    "scores[1]"
   ]
  },
  {
   "cell_type": "markdown",
   "metadata": {},
   "source": [
    "# 進行預測"
   ]
  },
  {
   "cell_type": "code",
   "execution_count": 23,
   "metadata": {},
   "outputs": [],
   "source": [
    "pred=my_model.predict(X_img_test_normalize)"
   ]
  },
  {
   "cell_type": "code",
   "execution_count": 24,
   "metadata": {},
   "outputs": [
    {
     "data": {
      "text/plain": [
       "array([  4.52048787e-10,   4.28563164e-13,   2.29989270e-12,\n",
       "         1.00000000e+00,   9.35075462e-10,   7.12098647e-09,\n",
       "         9.74722256e-13,   9.29064395e-11,   5.51286122e-13,\n",
       "         4.60296471e-12], dtype=float32)"
      ]
     },
     "execution_count": 24,
     "metadata": {},
     "output_type": "execute_result"
    }
   ],
   "source": [
    "pred[0]"
   ]
  },
  {
   "cell_type": "code",
   "execution_count": 25,
   "metadata": {},
   "outputs": [],
   "source": [
    "prediction = numpy.empty(10000)\n",
    "for i in range(pred.shape[0]):\n",
    "    prediction[i] = np.argmax(pred[i])"
   ]
  },
  {
   "cell_type": "code",
   "execution_count": 26,
   "metadata": {},
   "outputs": [
    {
     "data": {
      "text/plain": [
       "3.0"
      ]
     },
     "execution_count": 26,
     "metadata": {},
     "output_type": "execute_result"
    }
   ],
   "source": [
    "prediction[0]"
   ]
  },
  {
   "cell_type": "code",
   "execution_count": 27,
   "metadata": {},
   "outputs": [],
   "source": [
    "label_dict={0:\"airplane\",1:\"automobile\",2:\"bird\",3:\"cat\",4:\"deer\",\n",
    "            5:\"dog\",6:\"frog\",7:\"horse\",8:\"ship\",9:\"truck\"}"
   ]
  },
  {
   "cell_type": "code",
   "execution_count": 28,
   "metadata": {},
   "outputs": [],
   "source": [
    "import matplotlib.pyplot as plt\n",
    "\n",
    "def plot_images_labels_prediction(images,labels,prediction,idx,num=10):\n",
    "    fig = plt.gcf()\n",
    "    fig.set_size_inches(12, 14)\n",
    "    if num>25: num=25 \n",
    "    for i in range(idx, idx+num):\n",
    "        ax=plt.subplot(5,5, 1+(i-idx))\n",
    "        ax.imshow(images[i],cmap='binary')\n",
    "                \n",
    "        title=str(i)+','+label_dict[labels[i][0]]\n",
    "        if len(prediction)>0:\n",
    "            title+='=>'+label_dict[prediction[i]]\n",
    "            \n",
    "        ax.set_title(title,fontsize=10) \n",
    "        ax.set_xticks([]);ax.set_yticks([])        \n",
    "        #idx+=1 \n",
    "    plt.show()"
   ]
  },
  {
   "cell_type": "code",
   "execution_count": 29,
   "metadata": {},
   "outputs": [
    {
     "data": {
      "image/png": "[encoded data removed]",
      "text/plain": [
       "<matplotlib.figure.Figure at 0x7f3c742415f8>"
      ]
     },
     "metadata": {},
     "output_type": "display_data"
    }
   ],
   "source": [
    "plot_images_labels_prediction(X_img_test_normalize,y_label_test,\n",
    "                              prediction,30,10)"
   ]
  },
  {
   "cell_type": "markdown",
   "metadata": {},
   "source": [
    "# 查看預測機率"
   ]
  },
  {
   "cell_type": "code",
   "execution_count": 30,
   "metadata": {},
   "outputs": [],
   "source": [
    "Predicted_Probability=my_model.predict(X_img_test_normalize)"
   ]
  },
  {
   "cell_type": "code",
   "execution_count": 31,
   "metadata": {},
   "outputs": [],
   "source": [
    "def show_Predicted_Probability(X_img,Predicted_Probability,i):\n",
    "    plt.figure(figsize=(2,2))\n",
    "    plt.imshow(np.reshape(X_img_test[i],(32,32,3)))\n",
    "    plt.show()\n",
    "    for j in range(10):\n",
    "        print(label_dict[j]+' Probability:%1.9f'%(Predicted_Probability[i][j]))"
   ]
  },
  {
   "cell_type": "code",
   "execution_count": 32,
   "metadata": {},
   "outputs": [
    {
     "data": {
      "image/png": "[encoded data removed]",
      "text/plain": [
       "<matplotlib.figure.Figure at 0x7f3b4054c588>"
      ]
     },
     "metadata": {},
     "output_type": "display_data"
    },
    {
     "name": "stdout",
     "output_type": "stream",
     "text": [
      "airplane Probability:0.000001648\n",
      "automobile Probability:0.000180719\n",
      "bird Probability:0.002724006\n",
      "cat Probability:0.002099292\n",
      "deer Probability:0.002982419\n",
      "dog Probability:0.990509748\n",
      "frog Probability:0.000049068\n",
      "horse Probability:0.001305174\n",
      "ship Probability:0.000041312\n",
      "truck Probability:0.000106616\n"
     ]
    }
   ],
   "source": [
    "show_Predicted_Probability(X_img_test,Predicted_Probability,33)"
   ]
  },
  {
   "cell_type": "code",
   "execution_count": 33,
   "metadata": {},
   "outputs": [
    {
     "data": {
      "image/png": "[encoded data removed]",
      "text/plain": [
       "<matplotlib.figure.Figure at 0x7f3b405586a0>"
      ]
     },
     "metadata": {},
     "output_type": "display_data"
    },
    {
     "name": "stdout",
     "output_type": "stream",
     "text": [
      "airplane Probability:0.000000013\n",
      "automobile Probability:0.671713948\n",
      "bird Probability:0.000000003\n",
      "cat Probability:0.000000012\n",
      "deer Probability:0.000000000\n",
      "dog Probability:0.000000000\n",
      "frog Probability:0.000000000\n",
      "horse Probability:0.000000003\n",
      "ship Probability:0.000000003\n",
      "truck Probability:0.328286082\n"
     ]
    }
   ],
   "source": [
    "show_Predicted_Probability(X_img_test,Predicted_Probability,37)"
   ]
  },
  {
   "cell_type": "markdown",
   "metadata": {},
   "source": [
    "# confusion matrix"
   ]
  },
  {
   "cell_type": "code",
   "execution_count": 34,
   "metadata": {},
   "outputs": [
    {
     "name": "stdout",
     "output_type": "stream",
     "text": [
      "{0: 'airplane', 1: 'automobile', 2: 'bird', 3: 'cat', 4: 'deer', 5: 'dog', 6: 'frog', 7: 'horse', 8: 'ship', 9: 'truck'}\n"
     ]
    },
    {
     "data": {
      "text/html": [
       "<div>\n",
       "<table border=\"1\" class=\"dataframe\">\n",
       "  <thead>\n",
       "    <tr style=\"text-align: right;\">\n",
       "      <th>predict</th>\n",
       "      <th>0.0</th>\n",
       "      <th>1.0</th>\n",
       "      <th>2.0</th>\n",
       "      <th>3.0</th>\n",
       "      <th>4.0</th>\n",
       "      <th>5.0</th>\n",
       "      <th>6.0</th>\n",
       "      <th>7.0</th>\n",
       "      <th>8.0</th>\n",
       "      <th>9.0</th>\n",
       "    </tr>\n",
       "    <tr>\n",
       "      <th>label</th>\n",
       "      <th></th>\n",
       "      <th></th>\n",
       "      <th></th>\n",
       "      <th></th>\n",
       "      <th></th>\n",
       "      <th></th>\n",
       "      <th></th>\n",
       "      <th></th>\n",
       "      <th></th>\n",
       "      <th></th>\n",
       "    </tr>\n",
       "  </thead>\n",
       "  <tbody>\n",
       "    <tr>\n",
       "      <th>0</th>\n",
       "      <td>886</td>\n",
       "      <td>7</td>\n",
       "      <td>15</td>\n",
       "      <td>7</td>\n",
       "      <td>7</td>\n",
       "      <td>0</td>\n",
       "      <td>4</td>\n",
       "      <td>8</td>\n",
       "      <td>45</td>\n",
       "      <td>21</td>\n",
       "    </tr>\n",
       "    <tr>\n",
       "      <th>1</th>\n",
       "      <td>5</td>\n",
       "      <td>935</td>\n",
       "      <td>0</td>\n",
       "      <td>2</td>\n",
       "      <td>0</td>\n",
       "      <td>2</td>\n",
       "      <td>1</td>\n",
       "      <td>1</td>\n",
       "      <td>9</td>\n",
       "      <td>45</td>\n",
       "    </tr>\n",
       "    <tr>\n",
       "      <th>2</th>\n",
       "      <td>27</td>\n",
       "      <td>3</td>\n",
       "      <td>846</td>\n",
       "      <td>20</td>\n",
       "      <td>39</td>\n",
       "      <td>24</td>\n",
       "      <td>24</td>\n",
       "      <td>9</td>\n",
       "      <td>5</td>\n",
       "      <td>3</td>\n",
       "    </tr>\n",
       "    <tr>\n",
       "      <th>3</th>\n",
       "      <td>13</td>\n",
       "      <td>3</td>\n",
       "      <td>39</td>\n",
       "      <td>717</td>\n",
       "      <td>18</td>\n",
       "      <td>126</td>\n",
       "      <td>44</td>\n",
       "      <td>22</td>\n",
       "      <td>10</td>\n",
       "      <td>8</td>\n",
       "    </tr>\n",
       "    <tr>\n",
       "      <th>4</th>\n",
       "      <td>7</td>\n",
       "      <td>2</td>\n",
       "      <td>51</td>\n",
       "      <td>29</td>\n",
       "      <td>799</td>\n",
       "      <td>22</td>\n",
       "      <td>38</td>\n",
       "      <td>37</td>\n",
       "      <td>7</td>\n",
       "      <td>8</td>\n",
       "    </tr>\n",
       "    <tr>\n",
       "      <th>5</th>\n",
       "      <td>3</td>\n",
       "      <td>3</td>\n",
       "      <td>24</td>\n",
       "      <td>109</td>\n",
       "      <td>15</td>\n",
       "      <td>793</td>\n",
       "      <td>11</td>\n",
       "      <td>31</td>\n",
       "      <td>7</td>\n",
       "      <td>4</td>\n",
       "    </tr>\n",
       "    <tr>\n",
       "      <th>6</th>\n",
       "      <td>5</td>\n",
       "      <td>5</td>\n",
       "      <td>24</td>\n",
       "      <td>32</td>\n",
       "      <td>14</td>\n",
       "      <td>15</td>\n",
       "      <td>899</td>\n",
       "      <td>1</td>\n",
       "      <td>4</td>\n",
       "      <td>1</td>\n",
       "    </tr>\n",
       "    <tr>\n",
       "      <th>7</th>\n",
       "      <td>9</td>\n",
       "      <td>1</td>\n",
       "      <td>10</td>\n",
       "      <td>16</td>\n",
       "      <td>16</td>\n",
       "      <td>28</td>\n",
       "      <td>2</td>\n",
       "      <td>907</td>\n",
       "      <td>3</td>\n",
       "      <td>8</td>\n",
       "    </tr>\n",
       "    <tr>\n",
       "      <th>8</th>\n",
       "      <td>24</td>\n",
       "      <td>9</td>\n",
       "      <td>7</td>\n",
       "      <td>3</td>\n",
       "      <td>3</td>\n",
       "      <td>0</td>\n",
       "      <td>2</td>\n",
       "      <td>1</td>\n",
       "      <td>936</td>\n",
       "      <td>15</td>\n",
       "    </tr>\n",
       "    <tr>\n",
       "      <th>9</th>\n",
       "      <td>10</td>\n",
       "      <td>60</td>\n",
       "      <td>4</td>\n",
       "      <td>5</td>\n",
       "      <td>2</td>\n",
       "      <td>2</td>\n",
       "      <td>2</td>\n",
       "      <td>3</td>\n",
       "      <td>12</td>\n",
       "      <td>900</td>\n",
       "    </tr>\n",
       "  </tbody>\n",
       "</table>\n",
       "</div>"
      ],
      "text/plain": [
       "predict  0.0  1.0  2.0  3.0  4.0  5.0  6.0  7.0  8.0  9.0\n",
       "label                                                    \n",
       "0        886    7   15    7    7    0    4    8   45   21\n",
       "1          5  935    0    2    0    2    1    1    9   45\n",
       "2         27    3  846   20   39   24   24    9    5    3\n",
       "3         13    3   39  717   18  126   44   22   10    8\n",
       "4          7    2   51   29  799   22   38   37    7    8\n",
       "5          3    3   24  109   15  793   11   31    7    4\n",
       "6          5    5   24   32   14   15  899    1    4    1\n",
       "7          9    1   10   16   16   28    2  907    3    8\n",
       "8         24    9    7    3    3    0    2    1  936   15\n",
       "9         10   60    4    5    2    2    2    3   12  900"
      ]
     },
     "execution_count": 34,
     "metadata": {},
     "output_type": "execute_result"
    }
   ],
   "source": [
    "import pandas as pd\n",
    "print(label_dict)\n",
    "pd.crosstab(y_label_test.reshape(-1),prediction,\n",
    "            rownames=['label'],colnames=['predict'])"
   ]
  },
  {
   "cell_type": "markdown",
   "metadata": {},
   "source": [
    "# Save model to JSON"
   ]
  },
  {
   "cell_type": "code",
   "execution_count": 34,
   "metadata": {},
   "outputs": [],
   "source": [
    "model_json = my_model.to_json()\n",
    "with open(\"SaveModel/cifarVGG16Model.json\", \"w\") as json_file:\n",
    "    json_file.write(model_json)"
   ]
  },
  {
   "cell_type": "markdown",
   "metadata": {},
   "source": [
    "# Save Model to YAML"
   ]
  },
  {
   "cell_type": "code",
   "execution_count": 35,
   "metadata": {},
   "outputs": [],
   "source": [
    "model_yaml = my_model.to_yaml()\n",
    "with open(\"SaveModel/cifarVGG16Model.yaml\", \"w\") as yaml_file:\n",
    "    yaml_file.write(model_yaml)\n"
   ]
  },
  {
   "cell_type": "markdown",
   "metadata": {},
   "source": [
    "# Save Weight to h5 "
   ]
  },
  {
   "cell_type": "code",
   "execution_count": 36,
   "metadata": {},
   "outputs": [
    {
     "name": "stdout",
     "output_type": "stream",
     "text": [
      "Saved model to disk\n"
     ]
    }
   ],
   "source": [
    "my_model.save_weights(\"SaveModel/cifarVGG16Model.h5\")\n",
    "print(\"Saved model to disk\")"
   ]
  },
  {
   "cell_type": "code",
   "execution_count": null,
   "metadata": {
    "collapsed": true
   },
   "outputs": [],
   "source": []
  }
 ],
 "metadata": {
  "anaconda-cloud": {},
  "kernelspec": {
   "display_name": "Python 3",
   "language": "python",
   "name": "python3"
  },
  "language_info": {
   "codemirror_mode": {
    "name": "ipython",
    "version": 3
   },
   "file_extension": ".py",
   "mimetype": "text/x-python",
   "name": "python",
   "nbconvert_exporter": "python",
   "pygments_lexer": "ipython3",
   "version": "3.6.3"
  }
 },
 "nbformat": 4,
 "nbformat_minor": 2
}
