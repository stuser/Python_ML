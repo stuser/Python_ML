{
 "cells": [
  {
   "cell_type": "markdown",
   "metadata": {
    "id": "wr5XMBwJ2U67"
   },
   "source": [
    "# 使用AutoEncoder進行時間序列異常偵測"
   ]
  },
  {
   "cell_type": "markdown",
   "metadata": {
    "id": "sBxMCjns2U7B"
   },
   "source": [
    "我們使用[Numenta Anomaly Benchmark(NAB)](https://www.kaggle.com/boltzmannbrain/nab) kaggle資料集為範例，來介紹AutoEncoder(AE)模型的應用.\n",
    "\n",
    "訓練資料集: (artificialNoAnomaly) `art_daily_small_noise.csv` 計4032筆資料 - 每5分鐘收一次資料，一天288筆，共有14天\n",
    "\n",
    "測試資料集: (artificialNoAnomaly) `art_daily_jumpsup.csv` 計4032筆資料 - 每5分鐘收一次資料，一天288筆，共有14天\n"
   ]
  },
  {
   "cell_type": "markdown",
   "metadata": {},
   "source": [
    "程式內容包括:\n",
    "\n",
    "* 載入資料集 (CSV file).\n",
    "* 建立訓練集及測試集..等資料.\n",
    "* 訓練AE模型 (使用`keras.layers.Conv1D`建立模型架構).\n",
    "* 評估模型績效 (precision and recall).\n"
   ]
  },
  {
   "cell_type": "markdown",
   "metadata": {},
   "source": [
    "### AutoEncoder模型架構\n",
    "\n",
    "![AE](pic_AE/AE.png)"
   ]
  },
  {
   "cell_type": "markdown",
   "metadata": {
    "id": "Vt1eAfQi2U7C"
   },
   "source": [
    "## 載入工具"
   ]
  },
  {
   "cell_type": "code",
   "execution_count": 1,
   "metadata": {},
   "outputs": [],
   "source": [
    "import warnings\n",
    "warnings.filterwarnings(\"ignore\")"
   ]
  },
  {
   "cell_type": "code",
   "execution_count": 2,
   "metadata": {
    "id": "yawF_wsD2U7C"
   },
   "outputs": [],
   "source": [
    "import numpy as np\n",
    "import pandas as pd\n",
    "import tensorflow as tf\n",
    "from tensorflow import keras\n",
    "from tensorflow.keras import layers\n",
    "from matplotlib import pyplot as plt"
   ]
  },
  {
   "cell_type": "markdown",
   "metadata": {
    "id": "hTFaCCcH2U7D"
   },
   "source": [
    "## 載入資料集\n",
    "\n",
    "資料集: [Numenta Anomaly Benchmark(NAB)](\n",
    "https://www.kaggle.com/boltzmannbrain/nab) dataset. 資料依timestamp排序, 記錄每一timestamp的 single value.\n",
    "\n",
    "training set file: `art_daily_small_noise.csv`\n",
    "\n",
    "testing set file: `art_daily_jumpsup.csv`"
   ]
  },
  {
   "cell_type": "code",
   "execution_count": 4,
   "metadata": {
    "id": "OCnpb20w2U7D"
   },
   "outputs": [],
   "source": [
    "df_small_noise = pd.read_csv('datasets/timeseries_data/art_daily_small_noise.csv', \n",
    "                             parse_dates=True, index_col=\"timestamp\")\n",
    "\n",
    "df_daily_jumpsup = pd.read_csv('datasets/timeseries_data/art_daily_jumpsup.csv', \n",
    "                            parse_dates=True, index_col=\"timestamp\")"
   ]
  },
  {
   "cell_type": "markdown",
   "metadata": {
    "id": "2icv-TVE2U7D"
   },
   "source": [
    "## 資料處理及資料探索(EDA)"
   ]
  },
  {
   "cell_type": "code",
   "execution_count": 5,
   "metadata": {
    "colab": {
     "base_uri": "https://localhost:8080/"
    },
    "executionInfo": {
     "elapsed": 1503,
     "status": "ok",
     "timestamp": 1618026574483,
     "user": {
      "displayName": "tc Lin",
      "photoUrl": "https://lh3.googleusercontent.com/a-/AOh14GjoM5W01BG9f2MESK5XHPMnhly_LYL2Zri1rf_6hA=s64",
      "userId": "05338448855796845949"
     },
     "user_tz": -480
    },
    "id": "UVUJd53W2U7E",
    "outputId": "5d79bc1e-a131-4055-a839-0aa7ba26e408"
   },
   "outputs": [
    {
     "name": "stdout",
     "output_type": "stream",
     "text": [
      "                         value\n",
      "timestamp                     \n",
      "2014-04-01 00:00:00  18.324919\n",
      "2014-04-01 00:05:00  21.970327\n",
      "2014-04-01 00:10:00  18.624806\n",
      "                         value\n",
      "timestamp                     \n",
      "2014-04-01 00:00:00  19.761252\n",
      "2014-04-01 00:05:00  20.500833\n",
      "2014-04-01 00:10:00  19.961641\n"
     ]
    }
   ],
   "source": [
    "print(df_small_noise.head(3))\n",
    "print(df_daily_jumpsup.head(3))"
   ]
  },
  {
   "cell_type": "code",
   "execution_count": 6,
   "metadata": {},
   "outputs": [
    {
     "name": "stdout",
     "output_type": "stream",
     "text": [
      "---- art_daily_small_noise.csv ----\n",
      "             value\n",
      "count  4032.000000\n",
      "mean     42.438353\n",
      "std      28.077122\n",
      "min      18.000964\n",
      "25%      19.841390\n",
      "50%      21.608487\n",
      "75%      75.450282\n",
      "max      87.976128\n",
      "\n",
      "---- art_daily_jumpsup.csv ----\n",
      "             value\n",
      "count  4032.000000\n",
      "mean     44.494254\n",
      "std      32.432473\n",
      "min      18.001010\n",
      "25%      19.991382\n",
      "50%      21.648503\n",
      "75%      76.435943\n",
      "max     164.947481\n"
     ]
    }
   ],
   "source": [
    "print(\"---- art_daily_small_noise.csv ----\")\n",
    "print(df_small_noise.describe())\n",
    "print()\n",
    "print(\"---- art_daily_jumpsup.csv ----\")\n",
    "print(df_daily_jumpsup.describe())"
   ]
  },
  {
   "cell_type": "markdown",
   "metadata": {
    "id": "t32sgAxZ2U7E"
   },
   "source": [
    "## 資料視覺化\n",
    "### 沒有異常的時間序列資料\n",
    "\n",
    "使用 trainings set資料來顯示. (art_daily_small_noise.csv)"
   ]
  },
  {
   "cell_type": "code",
   "execution_count": 7,
   "metadata": {
    "colab": {
     "base_uri": "https://localhost:8080/",
     "height": 303
    },
    "executionInfo": {
     "elapsed": 2439,
     "status": "ok",
     "timestamp": 1618026579699,
     "user": {
      "displayName": "tc Lin",
      "photoUrl": "https://lh3.googleusercontent.com/a-/AOh14GjoM5W01BG9f2MESK5XHPMnhly_LYL2Zri1rf_6hA=s64",
      "userId": "05338448855796845949"
     },
     "user_tz": -480
    },
    "id": "lVZsOAtt2U7E",
    "outputId": "5d970d6a-64f2-415b-8c48-16fa73bf0994"
   },
   "outputs": [
    {
     "data": {
      "image/png": "[encoded data removed]",
      "text/plain": [
       "<Figure size 432x288 with 1 Axes>"
      ]
     },
     "metadata": {
      "needs_background": "light"
     },
     "output_type": "display_data"
    }
   ],
   "source": [
    "fig, ax = plt.subplots()\n",
    "df_small_noise.plot(legend=False, ax=ax)\n",
    "plt.show()"
   ]
  },
  {
   "cell_type": "markdown",
   "metadata": {
    "id": "NHzp6ZOF2U7F"
   },
   "source": [
    "### 有異常的時間序列資料\n",
    "\n",
    "使用 test set資料來顯示. (art_daily_jumpsup.csv)"
   ]
  },
  {
   "cell_type": "code",
   "execution_count": 8,
   "metadata": {
    "colab": {
     "base_uri": "https://localhost:8080/",
     "height": 303
    },
    "executionInfo": {
     "elapsed": 2097,
     "status": "ok",
     "timestamp": 1618026584557,
     "user": {
      "displayName": "tc Lin",
      "photoUrl": "https://lh3.googleusercontent.com/a-/AOh14GjoM5W01BG9f2MESK5XHPMnhly_LYL2Zri1rf_6hA=s64",
      "userId": "05338448855796845949"
     },
     "user_tz": -480
    },
    "id": "cErgZyny2U7F",
    "outputId": "0a4d0423-5732-4cac-9251-3fe6ed98eacc"
   },
   "outputs": [
    {
     "data": {
      "image/png": "[encoded data removed]",
      "text/plain": [
       "<Figure size 432x288 with 1 Axes>"
      ]
     },
     "metadata": {
      "needs_background": "light"
     },
     "output_type": "display_data"
    }
   ],
   "source": [
    "fig, ax = plt.subplots()\n",
    "df_daily_jumpsup.plot(legend=False, ax=ax)\n",
    "plt.show()"
   ]
  },
  {
   "cell_type": "markdown",
   "metadata": {
    "id": "jcRst1ck2U7F"
   },
   "source": [
    "## 準備訓練集\n",
    "\n",
    "timestep為每五分鐘記錄一筆，一天有288筆, 總共收集了14天, 合計4032筆資料。\n",
    "\n",
    "-   24 * 60 / 5 = **288 timesteps per day**\n",
    "-   288 * 14 = **4032 data points** in total"
   ]
  },
  {
   "cell_type": "markdown",
   "metadata": {},
   "source": [
    "#### 資料標準化處理"
   ]
  },
  {
   "cell_type": "code",
   "execution_count": 9,
   "metadata": {
    "colab": {
     "base_uri": "https://localhost:8080/"
    },
    "executionInfo": {
     "elapsed": 673,
     "status": "ok",
     "timestamp": 1618026604605,
     "user": {
      "displayName": "tc Lin",
      "photoUrl": "https://lh3.googleusercontent.com/a-/AOh14GjoM5W01BG9f2MESK5XHPMnhly_LYL2Zri1rf_6hA=s64",
      "userId": "05338448855796845949"
     },
     "user_tz": -480
    },
    "id": "zJUD-Aec2U7F",
    "outputId": "ab2b04d9-6774-4692-a70a-fb655eed396d"
   },
   "outputs": [
    {
     "name": "stdout",
     "output_type": "stream",
     "text": [
      "Number of training samples: 4032\n"
     ]
    }
   ],
   "source": [
    "# Normalize and save the mean and std we get,\n",
    "# for normalizing test data.\n",
    "training_mean = df_small_noise.mean()\n",
    "training_std = df_small_noise.std()\n",
    "df_training_value = (df_small_noise - training_mean) / training_std\n",
    "print(\"Number of training samples:\", len(df_training_value))"
   ]
  },
  {
   "cell_type": "markdown",
   "metadata": {
    "id": "33_jzdtT2U7F"
   },
   "source": [
    "### 建立每天一筆，每筆288個欄位之序列資料，為訓練集"
   ]
  },
  {
   "cell_type": "code",
   "execution_count": 10,
   "metadata": {
    "colab": {
     "base_uri": "https://localhost:8080/"
    },
    "executionInfo": {
     "elapsed": 656,
     "status": "ok",
     "timestamp": 1618026608315,
     "user": {
      "displayName": "tc Lin",
      "photoUrl": "https://lh3.googleusercontent.com/a-/AOh14GjoM5W01BG9f2MESK5XHPMnhly_LYL2Zri1rf_6hA=s64",
      "userId": "05338448855796845949"
     },
     "user_tz": -480
    },
    "id": "9lyREEXz2U7G",
    "outputId": "410beae6-a323-437f-d7c9-c164880251d1"
   },
   "outputs": [
    {
     "name": "stdout",
     "output_type": "stream",
     "text": [
      "Training input shape:  (3744, 288, 1)\n"
     ]
    }
   ],
   "source": [
    "TIME_STEPS = 288\n",
    "\n",
    "# Generated training sequences for use in the model.\n",
    "def create_sequences(values, time_steps=TIME_STEPS):\n",
    "    output = []\n",
    "    for i in range(len(values) - time_steps):\n",
    "        output.append(values[i : (i + time_steps)])\n",
    "    return np.stack(output)\n",
    "\n",
    "\n",
    "x_train = create_sequences(df_training_value.values)\n",
    "print(\"Training input shape: \", x_train.shape)"
   ]
  },
  {
   "cell_type": "markdown",
   "metadata": {
    "id": "6mcx1EaL2U7G"
   },
   "source": [
    "## 建立模型\n",
    "\n",
    "使用1D CNN來建立Autoencoder模型, input of shape `(batch_size, sequence_length, num_features)` output一樣的shape(batch_size, 288, 1)"
   ]
  },
  {
   "cell_type": "code",
   "execution_count": 11,
   "metadata": {
    "colab": {
     "base_uri": "https://localhost:8080/"
    },
    "executionInfo": {
     "elapsed": 1125,
     "status": "ok",
     "timestamp": 1618026611352,
     "user": {
      "displayName": "tc Lin",
      "photoUrl": "https://lh3.googleusercontent.com/a-/AOh14GjoM5W01BG9f2MESK5XHPMnhly_LYL2Zri1rf_6hA=s64",
      "userId": "05338448855796845949"
     },
     "user_tz": -480
    },
    "id": "VyLHplJp2U7G",
    "outputId": "79144901-65c4-4513-f438-bb985e35919d"
   },
   "outputs": [
    {
     "name": "stdout",
     "output_type": "stream",
     "text": [
      "Model: \"sequential\"\n",
      "_________________________________________________________________\n",
      "Layer (type)                 Output Shape              Param #   \n",
      "=================================================================\n",
      "conv1d (Conv1D)              (None, 144, 32)           256       \n",
      "_________________________________________________________________\n",
      "dropout (Dropout)            (None, 144, 32)           0         \n",
      "_________________________________________________________________\n",
      "conv1d_1 (Conv1D)            (None, 72, 16)            3600      \n",
      "_________________________________________________________________\n",
      "conv1d_transpose (Conv1DTran (None, 144, 16)           1808      \n",
      "_________________________________________________________________\n",
      "dropout_1 (Dropout)          (None, 144, 16)           0         \n",
      "_________________________________________________________________\n",
      "conv1d_transpose_1 (Conv1DTr (None, 288, 32)           3616      \n",
      "_________________________________________________________________\n",
      "conv1d_transpose_2 (Conv1DTr (None, 288, 1)            225       \n",
      "=================================================================\n",
      "Total params: 9,505\n",
      "Trainable params: 9,505\n",
      "Non-trainable params: 0\n",
      "_________________________________________________________________\n"
     ]
    }
   ],
   "source": [
    "model = keras.Sequential(\n",
    "    [\n",
    "        layers.Input(shape=(x_train.shape[1], x_train.shape[2])),\n",
    "        layers.Conv1D(\n",
    "            filters=32, kernel_size=7, padding=\"same\", strides=2, activation=\"relu\"\n",
    "        ),\n",
    "        layers.Dropout(rate=0.2),\n",
    "        layers.Conv1D(\n",
    "            filters=16, kernel_size=7, padding=\"same\", strides=2, activation=\"relu\"\n",
    "        ),\n",
    "        layers.Conv1DTranspose(\n",
    "            filters=16, kernel_size=7, padding=\"same\", strides=2, activation=\"relu\"\n",
    "        ),\n",
    "        layers.Dropout(rate=0.2),\n",
    "        layers.Conv1DTranspose(\n",
    "            filters=32, kernel_size=7, padding=\"same\", strides=2, activation=\"relu\"\n",
    "        ),\n",
    "        layers.Conv1DTranspose(filters=1, kernel_size=7, padding=\"same\"),\n",
    "    ]\n",
    ")\n",
    "model.compile(optimizer=keras.optimizers.Adam(learning_rate=0.001), loss=\"mse\")\n",
    "model.summary()"
   ]
  },
  {
   "cell_type": "markdown",
   "metadata": {
    "id": "vA4k3y042U7H"
   },
   "source": [
    "## 訓練模型\n",
    "使用`x_train`資料為input data(X), 同時也為output data(Y)"
   ]
  },
  {
   "cell_type": "code",
   "execution_count": 12,
   "metadata": {
    "colab": {
     "base_uri": "https://localhost:8080/"
    },
    "executionInfo": {
     "elapsed": 36544,
     "status": "ok",
     "timestamp": 1618026650819,
     "user": {
      "displayName": "tc Lin",
      "photoUrl": "https://lh3.googleusercontent.com/a-/AOh14GjoM5W01BG9f2MESK5XHPMnhly_LYL2Zri1rf_6hA=s64",
      "userId": "05338448855796845949"
     },
     "user_tz": -480
    },
    "id": "ALaJa40b2U7H",
    "outputId": "b88887a9-abfc-4665-ae1a-60e6566a0a70"
   },
   "outputs": [
    {
     "name": "stdout",
     "output_type": "stream",
     "text": [
      "Epoch 1/50\n",
      "27/27 [==============================] - 6s 26ms/step - loss: 0.7178 - val_loss: 0.0619\n",
      "Epoch 2/50\n",
      "27/27 [==============================] - 0s 13ms/step - loss: 0.0845 - val_loss: 0.0471\n",
      "Epoch 3/50\n",
      "27/27 [==============================] - 0s 11ms/step - loss: 0.0578 - val_loss: 0.0354\n",
      "Epoch 4/50\n",
      "27/27 [==============================] - 0s 11ms/step - loss: 0.0497 - val_loss: 0.0324\n",
      "Epoch 5/50\n",
      "27/27 [==============================] - 0s 11ms/step - loss: 0.0449 - val_loss: 0.0292\n",
      "Epoch 6/50\n",
      "27/27 [==============================] - 0s 11ms/step - loss: 0.0408 - val_loss: 0.0270\n",
      "Epoch 7/50\n",
      "27/27 [==============================] - 0s 11ms/step - loss: 0.0374 - val_loss: 0.0246\n",
      "Epoch 8/50\n",
      "27/27 [==============================] - 0s 11ms/step - loss: 0.0341 - val_loss: 0.0225\n",
      "Epoch 9/50\n",
      "27/27 [==============================] - 0s 11ms/step - loss: 0.0314 - val_loss: 0.0213\n",
      "Epoch 10/50\n",
      "27/27 [==============================] - 0s 11ms/step - loss: 0.0293 - val_loss: 0.0202\n",
      "Epoch 11/50\n",
      "27/27 [==============================] - 0s 11ms/step - loss: 0.0274 - val_loss: 0.0193\n",
      "Epoch 12/50\n",
      "27/27 [==============================] - 0s 11ms/step - loss: 0.0260 - val_loss: 0.0185\n",
      "Epoch 13/50\n",
      "27/27 [==============================] - 0s 11ms/step - loss: 0.0247 - val_loss: 0.0180\n",
      "Epoch 14/50\n",
      "27/27 [==============================] - 0s 11ms/step - loss: 0.0236 - val_loss: 0.0177\n",
      "Epoch 15/50\n",
      "27/27 [==============================] - 0s 11ms/step - loss: 0.0226 - val_loss: 0.0182\n",
      "Epoch 16/50\n",
      "27/27 [==============================] - 0s 11ms/step - loss: 0.0216 - val_loss: 0.0175\n",
      "Epoch 17/50\n",
      "27/27 [==============================] - 0s 11ms/step - loss: 0.0208 - val_loss: 0.0176\n",
      "Epoch 18/50\n",
      "27/27 [==============================] - 0s 11ms/step - loss: 0.0202 - val_loss: 0.0180\n",
      "Epoch 19/50\n",
      "27/27 [==============================] - 0s 11ms/step - loss: 0.0196 - val_loss: 0.0177\n",
      "Epoch 20/50\n",
      "27/27 [==============================] - 0s 11ms/step - loss: 0.0189 - val_loss: 0.0195\n",
      "Epoch 21/50\n",
      "27/27 [==============================] - 0s 11ms/step - loss: 0.0182 - val_loss: 0.0170\n",
      "Epoch 22/50\n",
      "27/27 [==============================] - 0s 11ms/step - loss: 0.0174 - val_loss: 0.0179\n",
      "Epoch 23/50\n",
      "27/27 [==============================] - 0s 11ms/step - loss: 0.0167 - val_loss: 0.0162\n",
      "Epoch 24/50\n",
      "27/27 [==============================] - 0s 11ms/step - loss: 0.0160 - val_loss: 0.0172\n",
      "Epoch 25/50\n",
      "27/27 [==============================] - 0s 11ms/step - loss: 0.0153 - val_loss: 0.0173\n",
      "Epoch 26/50\n",
      "27/27 [==============================] - 0s 11ms/step - loss: 0.0148 - val_loss: 0.0166\n",
      "Epoch 27/50\n",
      "27/27 [==============================] - 0s 11ms/step - loss: 0.0142 - val_loss: 0.0157\n",
      "Epoch 28/50\n",
      "27/27 [==============================] - 0s 11ms/step - loss: 0.0136 - val_loss: 0.0153\n",
      "Epoch 29/50\n",
      "27/27 [==============================] - 0s 11ms/step - loss: 0.0131 - val_loss: 0.0155\n",
      "Epoch 30/50\n",
      "27/27 [==============================] - 0s 11ms/step - loss: 0.0125 - val_loss: 0.0151\n",
      "Epoch 31/50\n",
      "27/27 [==============================] - 0s 11ms/step - loss: 0.0121 - val_loss: 0.0153\n",
      "Epoch 32/50\n",
      "27/27 [==============================] - 0s 11ms/step - loss: 0.0116 - val_loss: 0.0144\n",
      "Epoch 33/50\n",
      "27/27 [==============================] - 0s 11ms/step - loss: 0.0111 - val_loss: 0.0150\n",
      "Epoch 34/50\n",
      "27/27 [==============================] - 0s 11ms/step - loss: 0.0108 - val_loss: 0.0144\n",
      "Epoch 35/50\n",
      "27/27 [==============================] - 0s 11ms/step - loss: 0.0105 - val_loss: 0.0140\n",
      "Epoch 36/50\n",
      "27/27 [==============================] - 0s 11ms/step - loss: 0.0101 - val_loss: 0.0135\n",
      "Epoch 37/50\n",
      "27/27 [==============================] - 0s 10ms/step - loss: 0.0097 - val_loss: 0.0136\n",
      "Epoch 38/50\n",
      "27/27 [==============================] - 0s 11ms/step - loss: 0.0095 - val_loss: 0.0139\n",
      "Epoch 39/50\n",
      "27/27 [==============================] - 0s 11ms/step - loss: 0.0092 - val_loss: 0.0135\n",
      "Epoch 40/50\n",
      "27/27 [==============================] - 0s 11ms/step - loss: 0.0090 - val_loss: 0.0142\n",
      "Epoch 41/50\n",
      "27/27 [==============================] - 0s 11ms/step - loss: 0.0088 - val_loss: 0.0128\n",
      "Epoch 42/50\n",
      "27/27 [==============================] - 0s 11ms/step - loss: 0.0085 - val_loss: 0.0129\n",
      "Epoch 43/50\n",
      "27/27 [==============================] - 0s 11ms/step - loss: 0.0083 - val_loss: 0.0131\n",
      "Epoch 44/50\n",
      "27/27 [==============================] - 0s 11ms/step - loss: 0.0081 - val_loss: 0.0120\n",
      "Epoch 45/50\n",
      "27/27 [==============================] - 0s 11ms/step - loss: 0.0078 - val_loss: 0.0115\n",
      "Epoch 46/50\n",
      "27/27 [==============================] - 0s 11ms/step - loss: 0.0077 - val_loss: 0.0126\n",
      "Epoch 47/50\n",
      "27/27 [==============================] - 0s 11ms/step - loss: 0.0075 - val_loss: 0.0108\n",
      "Epoch 48/50\n",
      "27/27 [==============================] - 0s 11ms/step - loss: 0.0074 - val_loss: 0.0115\n",
      "Epoch 49/50\n",
      "27/27 [==============================] - 0s 11ms/step - loss: 0.0072 - val_loss: 0.0114\n",
      "Epoch 50/50\n",
      "27/27 [==============================] - 0s 11ms/step - loss: 0.0070 - val_loss: 0.0107\n"
     ]
    }
   ],
   "source": [
    "history = model.fit(\n",
    "    x_train,\n",
    "    x_train,\n",
    "    epochs=50,\n",
    "    batch_size=128,\n",
    "    validation_split=0.1,\n",
    "    callbacks=[\n",
    "        keras.callbacks.EarlyStopping(monitor=\"val_loss\", patience=5, mode=\"min\")\n",
    "    ],\n",
    ")"
   ]
  },
  {
   "cell_type": "code",
   "execution_count": 13,
   "metadata": {
    "colab": {
     "base_uri": "https://localhost:8080/",
     "height": 265
    },
    "executionInfo": {
     "elapsed": 729,
     "status": "ok",
     "timestamp": 1618026660388,
     "user": {
      "displayName": "tc Lin",
      "photoUrl": "https://lh3.googleusercontent.com/a-/AOh14GjoM5W01BG9f2MESK5XHPMnhly_LYL2Zri1rf_6hA=s64",
      "userId": "05338448855796845949"
     },
     "user_tz": -480
    },
    "id": "uVhW83dE2U7H",
    "outputId": "6588d555-d29b-43b7-a243-655823de8b34"
   },
   "outputs": [
    {
     "data": {
      "image/png": "[encoded data removed]",
      "text/plain": [
       "<Figure size 432x288 with 1 Axes>"
      ]
     },
     "metadata": {
      "needs_background": "light"
     },
     "output_type": "display_data"
    }
   ],
   "source": [
    "plt.plot(history.history[\"loss\"], label=\"Training Loss\")\n",
    "plt.plot(history.history[\"val_loss\"], label=\"Validation Loss\")\n",
    "plt.legend()\n",
    "plt.show()"
   ]
  },
  {
   "cell_type": "markdown",
   "metadata": {
    "id": "8n0N5pX82U7H"
   },
   "source": [
    "## 偵測異常\n",
    "\n",
    "偵測異常的方式，是以MAE來衡量AE所output的sequence資料與input的差異.(需設定一個threshold來判斷OK/NG)\n",
    "\n",
    "1.   計算所有training set資料的 MAE loss，在本異常偵測案例中亦稱為`anomaly score`.\n",
    "2.   以最大 max MAE loss為一個上限門檻值(`threshold`)，超過這個門檻我們稱為異常(`anomaly`)."
   ]
  },
  {
   "cell_type": "code",
   "execution_count": 14,
   "metadata": {},
   "outputs": [],
   "source": [
    "# Get train MAE loss.\n",
    "x_train_pred = model.predict(x_train)\n",
    "train_mae_loss = np.mean(np.abs(x_train_pred - x_train), axis=1)"
   ]
  },
  {
   "cell_type": "code",
   "execution_count": 15,
   "metadata": {},
   "outputs": [
    {
     "data": {
      "text/plain": [
       "(3744, 288, 1)"
      ]
     },
     "execution_count": 15,
     "metadata": {},
     "output_type": "execute_result"
    }
   ],
   "source": [
    "x_train_pred.shape"
   ]
  },
  {
   "cell_type": "code",
   "execution_count": 16,
   "metadata": {
    "colab": {
     "base_uri": "https://localhost:8080/",
     "height": 298
    },
    "executionInfo": {
     "elapsed": 2134,
     "status": "ok",
     "timestamp": 1618026665856,
     "user": {
      "displayName": "tc Lin",
      "photoUrl": "https://lh3.googleusercontent.com/a-/AOh14GjoM5W01BG9f2MESK5XHPMnhly_LYL2Zri1rf_6hA=s64",
      "userId": "05338448855796845949"
     },
     "user_tz": -480
    },
    "id": "algH6icM2U7I",
    "outputId": "c286cfb7-8714-463a-a153-58fe47b3a6ab"
   },
   "outputs": [
    {
     "name": "stdout",
     "output_type": "stream",
     "text": [
      "Reconstruction error threshold:  0.09079678386843798\n"
     ]
    },
    {
     "data": {
      "image/png": "[encoded data removed]",
      "text/plain": [
       "<Figure size 432x288 with 1 Axes>"
      ]
     },
     "metadata": {
      "needs_background": "light"
     },
     "output_type": "display_data"
    }
   ],
   "source": [
    "# Get reconstruction loss threshold.\n",
    "threshold = np.max(train_mae_loss)\n",
    "print(\"Reconstruction error threshold: \", threshold)\n",
    "\n",
    "plt.hist(train_mae_loss, bins=50)\n",
    "plt.xlabel(\"Train MAE loss (anomaly score)\")\n",
    "plt.ylabel(\"No of samples\")\n",
    "\n",
    "plt.axvline(round(threshold,3), color='red', linestyle='dotted')\n",
    "plt.text(round(threshold,3), 140, 'threshold', rotation='vertical', color='red', fontsize=12)\n",
    "plt.show()"
   ]
  },
  {
   "cell_type": "markdown",
   "metadata": {
    "id": "uhMQF89R2U7I"
   },
   "source": [
    "### 比較input data跟AE output的線形\n",
    "\n",
    "每一筆資料為1天, 有288個timesteps"
   ]
  },
  {
   "cell_type": "code",
   "execution_count": 17,
   "metadata": {},
   "outputs": [
    {
     "name": "stdout",
     "output_type": "stream",
     "text": [
      "train MAE Loss(anomaly score):0.0737, threshold:0.0908 \n"
     ]
    },
    {
     "data": {
      "image/png": "[encoded data removed]",
      "text/plain": [
       "<Figure size 432x288 with 1 Axes>"
      ]
     },
     "metadata": {
      "needs_background": "light"
     },
     "output_type": "display_data"
    }
   ],
   "source": [
    "record_num = 0\n",
    "\n",
    "# Get train MAE loss.\n",
    "train_mae_loss = np.mean(np.abs(x_train_pred[record_num] - x_train[record_num]))\n",
    "print(\"train MAE Loss(anomaly score):{}, threshold:{} \".format(round(train_mae_loss,4), round(threshold,4)))\n",
    "\n",
    "# Checking how the first sequence is learnt\n",
    "plt.plot(x_train[record_num], label='train_data')\n",
    "plt.plot(x_train_pred[record_num], label='train_pred')\n",
    "plt.legend(loc='best')\n",
    "plt.show()"
   ]
  },
  {
   "cell_type": "code",
   "execution_count": 18,
   "metadata": {
    "colab": {
     "base_uri": "https://localhost:8080/",
     "height": 265
    },
    "executionInfo": {
     "elapsed": 782,
     "status": "ok",
     "timestamp": 1618026669440,
     "user": {
      "displayName": "tc Lin",
      "photoUrl": "https://lh3.googleusercontent.com/a-/AOh14GjoM5W01BG9f2MESK5XHPMnhly_LYL2Zri1rf_6hA=s64",
      "userId": "05338448855796845949"
     },
     "user_tz": -480
    },
    "id": "V_Y0xWKh2U7I",
    "outputId": "be4d5439-c859-4ae2-87ea-ddd34a7481bd"
   },
   "outputs": [
    {
     "name": "stdout",
     "output_type": "stream",
     "text": [
      "train MAE Loss(anomaly score):0.0755, threshold:0.0908 \n"
     ]
    },
    {
     "data": {
      "image/png": "[encoded data removed]",
      "text/plain": [
       "<Figure size 432x288 with 1 Axes>"
      ]
     },
     "metadata": {
      "needs_background": "light"
     },
     "output_type": "display_data"
    }
   ],
   "source": [
    "record_num = 100\n",
    "\n",
    "# Get train MAE loss.\n",
    "train_mae_loss = np.mean(np.abs(x_train_pred[record_num] - x_train[record_num]))\n",
    "print(\"train MAE Loss(anomaly score):{}, threshold:{} \".format(round(train_mae_loss,4), round(threshold,4)))\n",
    "\n",
    "# Checking how the first sequence is learnt\n",
    "plt.plot(x_train[record_num], label='train_data')\n",
    "plt.plot(x_train_pred[record_num], label='train_pred')\n",
    "plt.legend(loc='best')\n",
    "plt.show()"
   ]
  },
  {
   "cell_type": "markdown",
   "metadata": {
    "id": "8j_eh7kj2U7J"
   },
   "source": [
    "### 準備測試資料"
   ]
  },
  {
   "cell_type": "code",
   "execution_count": 19,
   "metadata": {
    "colab": {
     "base_uri": "https://localhost:8080/",
     "height": 1000
    },
    "executionInfo": {
     "elapsed": 1870,
     "status": "ok",
     "timestamp": 1618026674368,
     "user": {
      "displayName": "tc Lin",
      "photoUrl": "https://lh3.googleusercontent.com/a-/AOh14GjoM5W01BG9f2MESK5XHPMnhly_LYL2Zri1rf_6hA=s64",
      "userId": "05338448855796845949"
     },
     "user_tz": -480
    },
    "id": "gtXvqVS_2U7J",
    "outputId": "814f6978-88d2-4a76-a6e7-c37dd9cdc232"
   },
   "outputs": [
    {
     "data": {
      "image/png": "[encoded data removed]",
      "text/plain": [
       "<Figure size 432x288 with 1 Axes>"
      ]
     },
     "metadata": {
      "needs_background": "light"
     },
     "output_type": "display_data"
    },
    {
     "name": "stdout",
     "output_type": "stream",
     "text": [
      "Test input shape:  (3744, 288, 1)\n"
     ]
    },
    {
     "data": {
      "image/png": "[encoded data removed]",
      "text/plain": [
       "<Figure size 432x288 with 1 Axes>"
      ]
     },
     "metadata": {
      "needs_background": "light"
     },
     "output_type": "display_data"
    },
    {
     "name": "stdout",
     "output_type": "stream",
     "text": [
      "Number of anomaly samples:  401\n",
      "Indices of anomaly samples(MAE > threshold):  (array([ 793,  794,  795,  797, 1945, 2521, 2701, 2702, 2703, 2704, 2705,\n",
      "       2706, 2707, 2708, 2709, 2710, 2711, 2712, 2713, 2714, 2715, 2716,\n",
      "       2717, 2718, 2719, 2720, 2721, 2722, 2723, 2724, 2725, 2726, 2727,\n",
      "       2728, 2729, 2730, 2731, 2732, 2733, 2734, 2735, 2736, 2737, 2738,\n",
      "       2739, 2740, 2741, 2742, 2743, 2744, 2745, 2746, 2747, 2748, 2749,\n",
      "       2750, 2751, 2752, 2753, 2754, 2755, 2756, 2757, 2758, 2759, 2760,\n",
      "       2761, 2762, 2763, 2764, 2765, 2766, 2767, 2768, 2769, 2770, 2771,\n",
      "       2772, 2773, 2774, 2775, 2776, 2777, 2778, 2779, 2780, 2781, 2782,\n",
      "       2783, 2784, 2785, 2786, 2787, 2788, 2789, 2790, 2791, 2792, 2793,\n",
      "       2794, 2795, 2796, 2797, 2798, 2799, 2800, 2801, 2802, 2803, 2804,\n",
      "       2805, 2806, 2807, 2808, 2809, 2810, 2811, 2812, 2813, 2814, 2815,\n",
      "       2816, 2817, 2818, 2819, 2820, 2821, 2822, 2823, 2824, 2825, 2826,\n",
      "       2827, 2828, 2829, 2830, 2831, 2832, 2833, 2834, 2835, 2836, 2837,\n",
      "       2838, 2839, 2840, 2841, 2842, 2843, 2844, 2845, 2846, 2847, 2848,\n",
      "       2849, 2850, 2851, 2852, 2853, 2854, 2855, 2856, 2857, 2858, 2859,\n",
      "       2860, 2861, 2862, 2863, 2864, 2865, 2866, 2867, 2868, 2869, 2870,\n",
      "       2871, 2872, 2873, 2874, 2875, 2876, 2877, 2878, 2879, 2880, 2881,\n",
      "       2882, 2883, 2884, 2885, 2886, 2887, 2888, 2889, 2890, 2891, 2892,\n",
      "       2893, 2894, 2895, 2896, 2897, 2898, 2899, 2900, 2901, 2902, 2903,\n",
      "       2904, 2905, 2906, 2907, 2908, 2909, 2910, 2911, 2912, 2913, 2914,\n",
      "       2915, 2916, 2917, 2918, 2919, 2920, 2921, 2922, 2923, 2924, 2925,\n",
      "       2926, 2927, 2928, 2929, 2930, 2931, 2932, 2933, 2934, 2935, 2936,\n",
      "       2937, 2938, 2939, 2940, 2941, 2942, 2943, 2944, 2945, 2946, 2947,\n",
      "       2948, 2949, 2950, 2951, 2952, 2953, 2954, 2955, 2956, 2957, 2958,\n",
      "       2959, 2960, 2961, 2962, 2963, 2964, 2965, 2966, 2967, 2968, 2969,\n",
      "       2970, 2971, 2972, 2973, 2974, 2975, 2976, 2977, 2978, 2979, 2980,\n",
      "       2981, 2982, 2983, 2984, 2985, 2986, 2987, 2988, 2989, 2990, 2991,\n",
      "       2992, 2993, 2994, 2995, 2996, 2997, 2998, 2999, 3000, 3001, 3002,\n",
      "       3003, 3004, 3005, 3006, 3007, 3008, 3009, 3010, 3011, 3012, 3013,\n",
      "       3014, 3015, 3016, 3017, 3018, 3019, 3020, 3021, 3022, 3023, 3024,\n",
      "       3025, 3026, 3027, 3028, 3029, 3030, 3031, 3032, 3033, 3034, 3035,\n",
      "       3036, 3037, 3038, 3039, 3040, 3041, 3042, 3043, 3044, 3045, 3046,\n",
      "       3047, 3048, 3049, 3050, 3051, 3052, 3053, 3054, 3055, 3056, 3057,\n",
      "       3058, 3059, 3060, 3061, 3062, 3063, 3064, 3065, 3066, 3067, 3068,\n",
      "       3069, 3070, 3071, 3072, 3073, 3074, 3075, 3076, 3077, 3078, 3079,\n",
      "       3080, 3081, 3082, 3083, 3084, 3085, 3086, 3087, 3088, 3089, 3090,\n",
      "       3091, 3092, 3093, 3094, 3095], dtype=int64),)\n"
     ]
    }
   ],
   "source": [
    "\n",
    "def normalize_test(values, mean, std):\n",
    "    values -= mean\n",
    "    values /= std\n",
    "    return values\n",
    "\n",
    "\n",
    "df_test_value = (df_daily_jumpsup - training_mean) / training_std\n",
    "fig, ax = plt.subplots()\n",
    "df_test_value.plot(legend=False, ax=ax)\n",
    "plt.show()\n",
    "\n",
    "# Create sequences from test values.\n",
    "x_test = create_sequences(df_test_value.values)\n",
    "print(\"Test input shape: \", x_test.shape)\n",
    "\n",
    "# Get test MAE loss.\n",
    "x_test_pred = model.predict(x_test)\n",
    "test_mae_loss = np.mean(np.abs(x_test_pred - x_test), axis=1)\n",
    "test_mae_loss = test_mae_loss.reshape((-1))\n",
    "\n",
    "plt.hist(test_mae_loss, bins=50)\n",
    "plt.axvline(round(threshold,3), color='red', linestyle='dotted')\n",
    "plt.text(round(threshold,3), 800, 'threshold', rotation='vertical', color='red', fontsize=12)\n",
    "\n",
    "plt.xlabel(\"test MAE loss (anomaly score)\")\n",
    "plt.ylabel(\"No of samples\")\n",
    "plt.show()\n",
    "\n",
    "# Detect all the samples which are anomalies.\n",
    "anomalies = test_mae_loss > threshold\n",
    "print(\"Number of anomaly samples: \", np.sum(anomalies))\n",
    "print(\"Indices of anomaly samples(MAE > threshold): \", np.where(anomalies))"
   ]
  },
  {
   "cell_type": "markdown",
   "metadata": {
    "id": "bOi4LFii2U7J"
   },
   "source": [
    "## 繪製異常示例\n",
    "\n",
    "假設:我們定義一個檢查異常值出現的filter windows為3個刻度。即前/中/後三個刻度(data_idx)都有包括這個異常值，才稱作此刻度有異常出現。\n",
    "- 前: data_idx - 1\n",
    "- 中: data_idx\n",
    "- 後: data_idx + 1\n",
    "\n",
    "例如: 數列刻度(或:欄位ID)為0~9, 由filter windows=3, 一次向右一刻度, 掃過後的組合如下:\n",
    "\n",
    "- 0, 1, 2\n",
    "- 1, 2, 3\n",
    "- 2, 3, 4\n",
    "- 3, 4, 5\n",
    "- 4, 5, 6\n",
    "- 5, 6, 7\n",
    "- 6, 7, 8\n",
    "- 7, 8, 9\n",
    "\n",
    "假設有這三組(前/中/後)組合[(3, 4, 5), (4, 5, 6), (5, 6, 7)], 都有出現異常值, 我們稱它共同包括的第5刻度為異常(anomaly)。\n",
    "\n",
    "目前測試集的資料，也是由5分鐘一單位，一天288個刻度組成。 (TIME_STEPS=288)\n",
    "\n",
    "現在我們把filter windows放大到288-1, filter windows=287, 則是檢查一整天的長度來偵測那一天有異常值出現。"
   ]
  },
  {
   "cell_type": "code",
   "execution_count": 20,
   "metadata": {},
   "outputs": [
    {
     "data": {
      "text/plain": [
       "(287, 3745)"
      ]
     },
     "execution_count": 20,
     "metadata": {},
     "output_type": "execute_result"
    }
   ],
   "source": [
    "#我們要檢查的範圍\n",
    "TIME_STEPS -1 , len(df_test_value) - TIME_STEPS + 1"
   ]
  },
  {
   "cell_type": "markdown",
   "metadata": {},
   "source": [
    "註:`np.array.all()`是`and`操作，將`np.array`中所有元素進行`and`操作，然後返回`True`或`False`"
   ]
  },
  {
   "cell_type": "code",
   "execution_count": 21,
   "metadata": {
    "id": "GAam_rMV2U7J"
   },
   "outputs": [],
   "source": [
    "# data i is an anomaly if samples [(i - timesteps + 1) to (i)] are anomalies\n",
    "anomalous_data_indices = []\n",
    "for data_idx in range(TIME_STEPS - 1, len(df_test_value) - TIME_STEPS + 1):\n",
    "    if np.all(anomalies[data_idx - TIME_STEPS + 1 : data_idx]):\n",
    "        #print(\"data_idx:{}, data_idx-TIME_STEPS+1:{}, Range:{}\".format(data_idx, data_idx-TIME_STEPS+1, data_idx-data_idx - TIME_STEPS + 1))\n",
    "        anomalous_data_indices.append(data_idx)"
   ]
  },
  {
   "cell_type": "markdown",
   "metadata": {
    "id": "SBewB43-2U7J"
   },
   "source": [
    "### 將異常data indices以紅線標示"
   ]
  },
  {
   "cell_type": "code",
   "execution_count": 22,
   "metadata": {
    "colab": {
     "base_uri": "https://localhost:8080/",
     "height": 303
    },
    "executionInfo": {
     "elapsed": 1213,
     "status": "ok",
     "timestamp": 1618026683208,
     "user": {
      "displayName": "tc Lin",
      "photoUrl": "https://lh3.googleusercontent.com/a-/AOh14GjoM5W01BG9f2MESK5XHPMnhly_LYL2Zri1rf_6hA=s64",
      "userId": "05338448855796845949"
     },
     "user_tz": -480
    },
    "id": "nG1CnPwO2U7K",
    "outputId": "84ba7dac-dfcc-4973-9e27-475b1ebf32b2"
   },
   "outputs": [
    {
     "data": {
      "image/png": "[encoded data removed]",
      "text/plain": [
       "<Figure size 432x288 with 1 Axes>"
      ]
     },
     "metadata": {
      "needs_background": "light"
     },
     "output_type": "display_data"
    }
   ],
   "source": [
    "df_subset = df_daily_jumpsup.iloc[anomalous_data_indices]\n",
    "fig, ax = plt.subplots()\n",
    "df_daily_jumpsup.plot(legend=False, ax=ax)\n",
    "df_subset.plot(legend=False, ax=ax, color=\"r\")\n",
    "plt.show()"
   ]
  },
  {
   "cell_type": "markdown",
   "metadata": {},
   "source": [
    "----"
   ]
  },
  {
   "cell_type": "markdown",
   "metadata": {},
   "source": [
    "另外參考: https://www.tensorflow.org/tutorials/generative/autoencoder (使用MLP)"
   ]
  },
  {
   "cell_type": "code",
   "execution_count": 23,
   "metadata": {},
   "outputs": [],
   "source": [
    "from tensorflow.keras.models import Model\n",
    "from tensorflow.keras import layers, losses\n",
    "\n",
    "class AnomalyDetector(Model):\n",
    "    def __init__(self):\n",
    "        super(AnomalyDetector, self).__init__()\n",
    "        self.encoder = tf.keras.Sequential([\n",
    "            layers.Dense(288, activation=\"relu\"),\n",
    "            layers.Dense(144, activation=\"relu\"),\n",
    "            layers.Dense(16, activation=\"relu\")])\n",
    "\n",
    "        self.decoder = tf.keras.Sequential([\n",
    "            layers.Dense(16, activation=\"relu\"),\n",
    "            layers.Dense(144, activation=\"relu\"),\n",
    "            layers.Dense(288, activation='selu'),\n",
    "            layers.Dense(1, activation='sigmoid')])\n",
    "\n",
    "    def call(self, x):\n",
    "        encoded = self.encoder(x)\n",
    "        decoded = self.decoder(encoded)\n",
    "        return decoded\n",
    "\n",
    "autoencoder = AnomalyDetector()"
   ]
  },
  {
   "cell_type": "code",
   "execution_count": 24,
   "metadata": {},
   "outputs": [],
   "source": [
    "autoencoder.compile(optimizer=keras.optimizers.Adam(learning_rate=0.001), loss=\"mse\")"
   ]
  },
  {
   "cell_type": "code",
   "execution_count": 25,
   "metadata": {},
   "outputs": [
    {
     "name": "stdout",
     "output_type": "stream",
     "text": [
      "Epoch 1/50\n",
      "27/27 [==============================] - 2s 55ms/step - loss: 0.9233 - val_loss: 0.4237\n",
      "Epoch 2/50\n",
      "27/27 [==============================] - 1s 40ms/step - loss: 0.4180 - val_loss: 0.4237\n",
      "Epoch 3/50\n",
      "27/27 [==============================] - 1s 39ms/step - loss: 0.4180 - val_loss: 0.4237\n",
      "Epoch 4/50\n",
      "27/27 [==============================] - 1s 39ms/step - loss: 0.4180 - val_loss: 0.4237\n",
      "Epoch 5/50\n",
      "27/27 [==============================] - 1s 40ms/step - loss: 0.4180 - val_loss: 0.4237\n",
      "Epoch 6/50\n",
      "27/27 [==============================] - 1s 39ms/step - loss: 0.4181 - val_loss: 0.4237\n",
      "Epoch 7/50\n",
      "27/27 [==============================] - 1s 39ms/step - loss: 0.4180 - val_loss: 0.4236\n",
      "Epoch 8/50\n",
      "27/27 [==============================] - 1s 39ms/step - loss: 0.4180 - val_loss: 0.4235\n",
      "Epoch 9/50\n",
      "27/27 [==============================] - 1s 40ms/step - loss: 0.4178 - val_loss: 0.4227\n",
      "Epoch 10/50\n",
      "27/27 [==============================] - 1s 40ms/step - loss: 0.4170 - val_loss: 0.4227\n",
      "Epoch 11/50\n",
      "27/27 [==============================] - 1s 40ms/step - loss: 0.4171 - val_loss: 0.4227\n",
      "Epoch 12/50\n",
      "27/27 [==============================] - 1s 39ms/step - loss: 0.4171 - val_loss: 0.4227\n",
      "Epoch 13/50\n",
      "27/27 [==============================] - 1s 39ms/step - loss: 0.4170 - val_loss: 0.4227\n",
      "Epoch 14/50\n",
      "27/27 [==============================] - 1s 40ms/step - loss: 0.4170 - val_loss: 0.4226\n",
      "Epoch 15/50\n",
      "27/27 [==============================] - 1s 40ms/step - loss: 0.4170 - val_loss: 0.4226\n",
      "Epoch 16/50\n",
      "27/27 [==============================] - 1s 39ms/step - loss: 0.4170 - val_loss: 0.4226\n",
      "Epoch 17/50\n",
      "27/27 [==============================] - 1s 39ms/step - loss: 0.4169 - val_loss: 0.4226\n",
      "Epoch 18/50\n",
      "27/27 [==============================] - 1s 39ms/step - loss: 0.4170 - val_loss: 0.4226\n",
      "Epoch 19/50\n",
      "27/27 [==============================] - 1s 39ms/step - loss: 0.4169 - val_loss: 0.4226\n",
      "Epoch 20/50\n",
      "27/27 [==============================] - 1s 39ms/step - loss: 0.4170 - val_loss: 0.4226\n",
      "Epoch 21/50\n",
      "27/27 [==============================] - 1s 40ms/step - loss: 0.4169 - val_loss: 0.4226\n",
      "Epoch 22/50\n",
      "27/27 [==============================] - 1s 39ms/step - loss: 0.4169 - val_loss: 0.4226\n",
      "Epoch 23/50\n",
      "27/27 [==============================] - 1s 40ms/step - loss: 0.4168 - val_loss: 0.4226\n",
      "Epoch 24/50\n",
      "27/27 [==============================] - 1s 40ms/step - loss: 0.4169 - val_loss: 0.4226\n",
      "Epoch 25/50\n",
      "27/27 [==============================] - 1s 39ms/step - loss: 0.4168 - val_loss: 0.4226\n",
      "Epoch 26/50\n",
      "27/27 [==============================] - 1s 39ms/step - loss: 0.4169 - val_loss: 0.4225\n",
      "Epoch 27/50\n",
      "27/27 [==============================] - 1s 39ms/step - loss: 0.4169 - val_loss: 0.4225\n",
      "Epoch 28/50\n",
      "27/27 [==============================] - 1s 39ms/step - loss: 0.4169 - val_loss: 0.4225\n",
      "Epoch 29/50\n",
      "27/27 [==============================] - 1s 39ms/step - loss: 0.4170 - val_loss: 0.4225\n",
      "Epoch 30/50\n",
      "27/27 [==============================] - 1s 39ms/step - loss: 0.4169 - val_loss: 0.4225\n",
      "Epoch 31/50\n",
      "27/27 [==============================] - 1s 40ms/step - loss: 0.4169 - val_loss: 0.4225\n",
      "Epoch 32/50\n",
      "27/27 [==============================] - 1s 40ms/step - loss: 0.4170 - val_loss: 0.4225\n",
      "Epoch 33/50\n",
      "27/27 [==============================] - 1s 40ms/step - loss: 0.4168 - val_loss: 0.4225\n",
      "Epoch 34/50\n",
      "27/27 [==============================] - 1s 40ms/step - loss: 0.4168 - val_loss: 0.4225\n",
      "Epoch 35/50\n",
      "27/27 [==============================] - 1s 40ms/step - loss: 0.4170 - val_loss: 0.4225\n",
      "Epoch 36/50\n",
      "27/27 [==============================] - 1s 39ms/step - loss: 0.4170 - val_loss: 0.4225\n",
      "Epoch 37/50\n",
      "27/27 [==============================] - 1s 40ms/step - loss: 0.4170 - val_loss: 0.4225\n",
      "Epoch 38/50\n",
      "27/27 [==============================] - 1s 40ms/step - loss: 0.4169 - val_loss: 0.4225\n",
      "Epoch 39/50\n",
      "27/27 [==============================] - 1s 40ms/step - loss: 0.4168 - val_loss: 0.4225\n",
      "Epoch 40/50\n",
      "27/27 [==============================] - 1s 40ms/step - loss: 0.4169 - val_loss: 0.4225\n",
      "Epoch 41/50\n",
      "27/27 [==============================] - 1s 39ms/step - loss: 0.4169 - val_loss: 0.4225\n",
      "Epoch 42/50\n",
      "27/27 [==============================] - 1s 40ms/step - loss: 0.4169 - val_loss: 0.4225\n",
      "Epoch 43/50\n",
      "27/27 [==============================] - 1s 40ms/step - loss: 0.4169 - val_loss: 0.4225\n",
      "Epoch 44/50\n",
      "27/27 [==============================] - 1s 40ms/step - loss: 0.4169 - val_loss: 0.4225\n",
      "Epoch 45/50\n",
      "27/27 [==============================] - 1s 40ms/step - loss: 0.4170 - val_loss: 0.4225\n",
      "Epoch 46/50\n",
      "27/27 [==============================] - 1s 39ms/step - loss: 0.4170 - val_loss: 0.4225\n",
      "Epoch 47/50\n",
      "27/27 [==============================] - 1s 40ms/step - loss: 0.4169 - val_loss: 0.4225\n",
      "Epoch 48/50\n",
      "27/27 [==============================] - 1s 40ms/step - loss: 0.4170 - val_loss: 0.4225\n",
      "Epoch 49/50\n",
      "27/27 [==============================] - 1s 39ms/step - loss: 0.4169 - val_loss: 0.4225\n",
      "Epoch 50/50\n",
      "27/27 [==============================] - 1s 40ms/step - loss: 0.4170 - val_loss: 0.4225\n"
     ]
    }
   ],
   "source": [
    "history = autoencoder.fit(x_train, x_train,  \n",
    "          epochs=50,\n",
    "          batch_size=128,\n",
    "          validation_split=0.1,\n",
    "          callbacks=[\n",
    "          keras.callbacks.EarlyStopping(monitor=\"val_loss\", patience=5, mode=\"min\")\n",
    "          ],\n",
    "          shuffle=True)"
   ]
  },
  {
   "cell_type": "code",
   "execution_count": 26,
   "metadata": {},
   "outputs": [
    {
     "data": {
      "text/plain": [
       "<matplotlib.legend.Legend at 0x1ed569cdaf0>"
      ]
     },
     "execution_count": 26,
     "metadata": {},
     "output_type": "execute_result"
    },
    {
     "data": {
      "image/png": "[encoded data removed]",
      "text/plain": [
       "<Figure size 432x288 with 1 Axes>"
      ]
     },
     "metadata": {
      "needs_background": "light"
     },
     "output_type": "display_data"
    }
   ],
   "source": [
    "plt.plot(history.history[\"loss\"], label=\"Training Loss\")\n",
    "plt.plot(history.history[\"val_loss\"], label=\"Validation Loss\")\n",
    "plt.legend()"
   ]
  },
  {
   "cell_type": "code",
   "execution_count": 27,
   "metadata": {},
   "outputs": [],
   "source": [
    "# Get train MAE loss.\n",
    "x_train_pred = autoencoder.predict(x_train)\n",
    "train_mae_loss = np.mean(np.abs(x_train_pred - x_train), axis=1)"
   ]
  },
  {
   "cell_type": "code",
   "execution_count": 28,
   "metadata": {},
   "outputs": [
    {
     "data": {
      "text/plain": [
       "(3744, 288, 1)"
      ]
     },
     "execution_count": 28,
     "metadata": {},
     "output_type": "execute_result"
    }
   ],
   "source": [
    "x_train_pred.shape"
   ]
  },
  {
   "cell_type": "code",
   "execution_count": 29,
   "metadata": {},
   "outputs": [
    {
     "name": "stdout",
     "output_type": "stream",
     "text": [
      "Reconstruction error threshold:  0.5964664917686928\n"
     ]
    },
    {
     "data": {
      "image/png": "[encoded data removed]",
      "text/plain": [
       "<Figure size 432x288 with 1 Axes>"
      ]
     },
     "metadata": {
      "needs_background": "light"
     },
     "output_type": "display_data"
    }
   ],
   "source": [
    "# Get reconstruction loss threshold.\n",
    "threshold = np.max(train_mae_loss)\n",
    "print(\"Reconstruction error threshold: \", threshold)\n",
    "\n",
    "plt.hist(train_mae_loss, bins=50)\n",
    "plt.xlabel(\"Train MAE loss (anomaly score)\")\n",
    "plt.ylabel(\"No of samples\")\n",
    "\n",
    "plt.axvline(round(threshold,3), color='red', linestyle='dotted')\n",
    "plt.text(round(threshold,3), 140, 'threshold', rotation='vertical', color='red', fontsize=12)\n",
    "plt.show()"
   ]
  },
  {
   "cell_type": "code",
   "execution_count": 30,
   "metadata": {},
   "outputs": [
    {
     "name": "stdout",
     "output_type": "stream",
     "text": [
      "train MAE Loss:0.5826, threshold:0.5965 \n"
     ]
    },
    {
     "data": {
      "image/png": "[encoded data removed]",
      "text/plain": [
       "<Figure size 432x288 with 1 Axes>"
      ]
     },
     "metadata": {
      "needs_background": "light"
     },
     "output_type": "display_data"
    }
   ],
   "source": [
    "record_num = 0\n",
    "\n",
    "# Get train MAE loss.\n",
    "train_mae_loss = np.mean(np.abs(x_train_pred[record_num] - x_train[record_num]))\n",
    "print(\"train MAE Loss:{}, threshold:{} \".format(round(train_mae_loss,4), round(threshold,4)))\n",
    "\n",
    "# Checking how the first sequence is learnt\n",
    "plt.plot(x_train[record_num], label='train_data')\n",
    "plt.plot(x_train_pred[record_num], label='train_pred')\n",
    "plt.legend(loc='best')\n",
    "plt.show()"
   ]
  },
  {
   "cell_type": "markdown",
   "metadata": {},
   "source": [
    "----"
   ]
  },
  {
   "cell_type": "code",
   "execution_count": null,
   "metadata": {},
   "outputs": [],
   "source": []
  }
 ],
 "metadata": {
  "colab": {
   "collapsed_sections": [],
   "name": "Auto-Encoder_timeseries_anomaly_detection.ipynb",
   "provenance": [
    {
     "file_id": "https://github.com/keras-team/keras-io/blob/master/examples/timeseries/ipynb/timeseries_anomaly_detection.ipynb",
     "timestamp": 1609754571571
    }
   ],
   "toc_visible": true
  },
  "kernelspec": {
   "display_name": "Python 3",
   "language": "python",
   "name": "python3"
  },
  "language_info": {
   "codemirror_mode": {
    "name": "ipython",
    "version": 3
   },
   "file_extension": ".py",
   "mimetype": "text/x-python",
   "name": "python",
   "nbconvert_exporter": "python",
   "pygments_lexer": "ipython3",
   "version": "3.5.5"
  }
 },
 "nbformat": 4,
 "nbformat_minor": 1
}
