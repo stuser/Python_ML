{
 "cells": [
  {
   "cell_type": "markdown",
   "metadata": {},
   "source": [
    "## GAN anomaly 實作 - GANomaly"
   ]
  },
  {
   "cell_type": "markdown",
   "metadata": {},
   "source": [
    "程式內容包括:\n",
    "* 建立GANomaly模型架構\n",
    "* 訓練GANomaly模型\n",
    "* Anomaly score計算"
   ]
  },
  {
   "cell_type": "markdown",
   "metadata": {
    "id": "qBvUR_iGxKT9"
   },
   "source": [
    "* 參考資料\n",
    "[GANomaly] 畫一張一樣照片來做異常檢測\n",
    "用 Keras 實作 GANomaly - Abby Yeh\n",
    "\n",
    "https://medium.com/ai-academy-taiwan/d1408cc9b5d0\n",
    "\n",
    "[github] https://github.com/leafinity/keras_ganomaly/blob/master/ganomaly.ipynb\n",
    "\n",
    "■ 論文 | GANomaly: Semi-Supervised Anomaly Detection via Adversarial Training, 2018 (https://arxiv.org/abs/1805.06725)\n",
    "\n",
    "■ 連結 | https://www.paperweekly.site/papers/2293\n",
    "\n",
    "■ 原始碼 | https://github.com/samet-akcay/ganomaly\n",
    "\n",
    "杜倫大學提出GANomaly：無需負例樣本實現異常檢測\n",
    "https://www.mdeditor.tw/pl/2Wrb/zh-tw\n"
   ]
  },
  {
   "cell_type": "markdown",
   "metadata": {
    "id": "5J3bYV4bqhiZ"
   },
   "source": [
    "Comparison of the three models. A) AnoGAN, B) Efficient-GAN-Anomaly, C) Our Approach: GANomaly\n",
    "![GANomaly](pic_GANomaly/Comparison-of-the-three-models-A-AnoGAN-39-B-Efficient-GAN-Anomaly-40-C-Our.png)"
   ]
  },
  {
   "cell_type": "markdown",
   "metadata": {
    "id": "jAzGntqyX583"
   },
   "source": [
    "# Models"
   ]
  },
  {
   "cell_type": "markdown",
   "metadata": {
    "id": "qOsIN0hQqM7y"
   },
   "source": [
    "Pipeline of the proposed approach for anomaly detection\n",
    "![GANomaly](pic_GANomaly/Pipeline-of-the-proposed-approach-for-anomaly-detection.png)"
   ]
  },
  {
   "cell_type": "code",
   "execution_count": 1,
   "metadata": {
    "id": "_fOFzTCbXTfi"
   },
   "outputs": [],
   "source": [
    "import tensorflow as tf\n",
    "import tensorflow.keras as keras\n",
    "\n",
    "import keras.backend as K\n",
    "from keras import layers"
   ]
  },
  {
   "cell_type": "code",
   "execution_count": 2,
   "metadata": {
    "id": "lj9m8quMYrtB"
   },
   "outputs": [],
   "source": [
    "width = 64\n",
    "height = 64\n",
    "channels = 1"
   ]
  },
  {
   "cell_type": "markdown",
   "metadata": {
    "id": "9V6k5E4HX8ns"
   },
   "source": [
    "## Generators Encoder\n"
   ]
  },
  {
   "cell_type": "code",
   "execution_count": 3,
   "metadata": {
    "colab": {
     "base_uri": "https://localhost:8080/"
    },
    "executionInfo": {
     "elapsed": 6714,
     "status": "ok",
     "timestamp": 1616066006282,
     "user": {
      "displayName": "tc Lin",
      "photoUrl": "https://lh3.googleusercontent.com/a-/AOh14GjoM5W01BG9f2MESK5XHPMnhly_LYL2Zri1rf_6hA=s64",
      "userId": "05338448855796845949"
     },
     "user_tz": -480
    },
    "id": "6SSgbWtgYFge",
    "outputId": "58c6cf5a-ccce-4aa8-becd-8c119ff529e2"
   },
   "outputs": [
    {
     "name": "stdout",
     "output_type": "stream",
     "text": [
      "Model: \"model\"\n",
      "_________________________________________________________________\n",
      "Layer (type)                 Output Shape              Param #   \n",
      "=================================================================\n",
      "input (InputLayer)           [(None, 64, 64, 1)]       0         \n",
      "_________________________________________________________________\n",
      "conv_1 (Conv2D)              (None, 64, 64, 32)        832       \n",
      "_________________________________________________________________\n",
      "leaky_1 (LeakyReLU)          (None, 64, 64, 32)        0         \n",
      "_________________________________________________________________\n",
      "conv_2 (Conv2D)              (None, 32, 32, 64)        18496     \n",
      "_________________________________________________________________\n",
      "norm_1 (BatchNormalization)  (None, 32, 32, 64)        256       \n",
      "_________________________________________________________________\n",
      "leaky_2 (LeakyReLU)          (None, 32, 32, 64)        0         \n",
      "_________________________________________________________________\n",
      "conv_3 (Conv2D)              (None, 16, 16, 128)       73856     \n",
      "_________________________________________________________________\n",
      "norm_2 (BatchNormalization)  (None, 16, 16, 128)       512       \n",
      "_________________________________________________________________\n",
      "leaky_3 (LeakyReLU)          (None, 16, 16, 128)       0         \n",
      "_________________________________________________________________\n",
      "conv_4 (Conv2D)              (None, 8, 8, 128)         147584    \n",
      "_________________________________________________________________\n",
      "norm_3 (BatchNormalization)  (None, 8, 8, 128)         512       \n",
      "_________________________________________________________________\n",
      "leaky_4 (LeakyReLU)          (None, 8, 8, 128)         0         \n",
      "_________________________________________________________________\n",
      "g_encoder_output (GlobalAver (None, 128)               0         \n",
      "=================================================================\n",
      "Total params: 242,048\n",
      "Trainable params: 241,408\n",
      "Non-trainable params: 640\n",
      "_________________________________________________________________\n"
     ]
    }
   ],
   "source": [
    "input_layer = layers.Input(name='input', shape=(height, width, channels))\n",
    "\n",
    "# Encoder\n",
    "x = layers.Conv2D(32, (5,5), strides=(1,1), padding='same', name='conv_1', kernel_regularizer = 'l2')(input_layer)\n",
    "x = layers.LeakyReLU(name='leaky_1')(x)\n",
    "\n",
    "x = layers.Conv2D(64, (3,3), strides=(2,2), padding='same', name='conv_2', kernel_regularizer = 'l2')(x)\n",
    "x = layers.BatchNormalization(name='norm_1')(x)\n",
    "x = layers.LeakyReLU(name='leaky_2')(x)\n",
    "\n",
    "\n",
    "x = layers.Conv2D(128, (3,3), strides=(2,2), padding='same', name='conv_3', kernel_regularizer = 'l2')(x)\n",
    "x = layers.BatchNormalization(name='norm_2')(x)\n",
    "x = layers.LeakyReLU(name='leaky_3')(x)\n",
    "\n",
    "\n",
    "x = layers.Conv2D(128, (3,3), strides=(2,2), padding='same', name='conv_4', kernel_regularizer = 'l2')(x)\n",
    "x = layers.BatchNormalization(name='norm_3')(x)\n",
    "x = layers.LeakyReLU(name='leaky_4')(x)\n",
    "\n",
    "x = layers.GlobalAveragePooling2D(name='g_encoder_output')(x)\n",
    "\n",
    "g_e = keras.models.Model(inputs=input_layer, outputs=x)\n",
    "\n",
    "g_e.summary()"
   ]
  },
  {
   "cell_type": "markdown",
   "metadata": {
    "id": "CsFGE97WYMts"
   },
   "source": [
    "## Generator"
   ]
  },
  {
   "cell_type": "code",
   "execution_count": 4,
   "metadata": {
    "colab": {
     "base_uri": "https://localhost:8080/"
    },
    "executionInfo": {
     "elapsed": 1503,
     "status": "ok",
     "timestamp": 1616066017010,
     "user": {
      "displayName": "tc Lin",
      "photoUrl": "https://lh3.googleusercontent.com/a-/AOh14GjoM5W01BG9f2MESK5XHPMnhly_LYL2Zri1rf_6hA=s64",
      "userId": "05338448855796845949"
     },
     "user_tz": -480
    },
    "id": "pivNg2CMYQwi",
    "outputId": "b314fd78-1f2f-4d93-925e-fe03a131c12f"
   },
   "outputs": [
    {
     "name": "stdout",
     "output_type": "stream",
     "text": [
      "Model: \"model_1\"\n",
      "_________________________________________________________________\n",
      "Layer (type)                 Output Shape              Param #   \n",
      "=================================================================\n",
      "input (InputLayer)           [(None, 64, 64, 1)]       0         \n",
      "_________________________________________________________________\n",
      "model (Functional)           (None, 128)               242048    \n",
      "_________________________________________________________________\n",
      "dense (Dense)                (None, 8192)              1056768   \n",
      "_________________________________________________________________\n",
      "de_reshape (Reshape)         (None, 8, 8, 128)         0         \n",
      "_________________________________________________________________\n",
      "deconv_1 (Conv2DTranspose)   (None, 16, 16, 128)       147584    \n",
      "_________________________________________________________________\n",
      "de_leaky_1 (LeakyReLU)       (None, 16, 16, 128)       0         \n",
      "_________________________________________________________________\n",
      "deconv_2 (Conv2DTranspose)   (None, 32, 32, 64)        73792     \n",
      "_________________________________________________________________\n",
      "de_leaky_2 (LeakyReLU)       (None, 32, 32, 64)        0         \n",
      "_________________________________________________________________\n",
      "deconv_3 (Conv2DTranspose)   (None, 64, 64, 32)        18464     \n",
      "_________________________________________________________________\n",
      "de_leaky_3 (LeakyReLU)       (None, 64, 64, 32)        0         \n",
      "_________________________________________________________________\n",
      "decoder_deconv_output (Conv2 (None, 64, 64, 1)         33        \n",
      "=================================================================\n",
      "Total params: 1,538,689\n",
      "Trainable params: 1,538,049\n",
      "Non-trainable params: 640\n",
      "_________________________________________________________________\n"
     ]
    }
   ],
   "source": [
    "input_layer = layers.Input(name='input', shape=(height, width, channels))\n",
    "\n",
    "x = g_e(input_layer)\n",
    "\n",
    "y = layers.Dense(width * width * 2, name='dense')(x) # 2 = 128 / 8 / 8\n",
    "y = layers.Reshape((width//8, width//8, 128), name='de_reshape')(y)\n",
    "\n",
    "y = layers.Conv2DTranspose(128, (3,3), strides=(2,2), padding='same', name='deconv_1', kernel_regularizer = 'l2')(y)\n",
    "y = layers.LeakyReLU(name='de_leaky_1')(y)\n",
    "\n",
    "y = layers.Conv2DTranspose(64, (3,3), strides=(2,2), padding='same', name='deconv_2', kernel_regularizer = 'l2')(y)\n",
    "y = layers.LeakyReLU(name='de_leaky_2')(y)\n",
    "\n",
    "y = layers.Conv2DTranspose(32, (3,3), strides=(2,2), padding='same', name='deconv_3', kernel_regularizer = 'l2')(y)\n",
    "y = layers.LeakyReLU(name='de_leaky_3')(y)\n",
    "\n",
    "y = layers.Conv2DTranspose(channels, (1, 1), strides=(1,1), padding='same', name='decoder_deconv_output', kernel_regularizer = 'l2', activation='tanh')(y)\n",
    "\n",
    "g = keras.models.Model(inputs=input_layer, outputs=y)\n",
    "\n",
    "g.summary()"
   ]
  },
  {
   "cell_type": "markdown",
   "metadata": {
    "id": "6xJahMZrZReX"
   },
   "source": [
    "## Encoder"
   ]
  },
  {
   "cell_type": "code",
   "execution_count": 5,
   "metadata": {
    "colab": {
     "base_uri": "https://localhost:8080/"
    },
    "executionInfo": {
     "elapsed": 1074,
     "status": "ok",
     "timestamp": 1616066022795,
     "user": {
      "displayName": "tc Lin",
      "photoUrl": "https://lh3.googleusercontent.com/a-/AOh14GjoM5W01BG9f2MESK5XHPMnhly_LYL2Zri1rf_6hA=s64",
      "userId": "05338448855796845949"
     },
     "user_tz": -480
    },
    "id": "coa6bXCRYRG9",
    "outputId": "a8a45e86-0005-4ecd-cac4-794a8bbb9d0f"
   },
   "outputs": [
    {
     "name": "stdout",
     "output_type": "stream",
     "text": [
      "Model: \"model_2\"\n",
      "_________________________________________________________________\n",
      "Layer (type)                 Output Shape              Param #   \n",
      "=================================================================\n",
      "input (InputLayer)           [(None, 64, 64, 1)]       0         \n",
      "_________________________________________________________________\n",
      "encoder_conv_1 (Conv2D)      (None, 64, 64, 32)        832       \n",
      "_________________________________________________________________\n",
      "leaky_re_lu (LeakyReLU)      (None, 64, 64, 32)        0         \n",
      "_________________________________________________________________\n",
      "encoder_conv_2 (Conv2D)      (None, 32, 32, 64)        18496     \n",
      "_________________________________________________________________\n",
      "encoder_norm_1 (BatchNormali (None, 32, 32, 64)        256       \n",
      "_________________________________________________________________\n",
      "leaky_re_lu_1 (LeakyReLU)    (None, 32, 32, 64)        0         \n",
      "_________________________________________________________________\n",
      "encoder_conv_3 (Conv2D)      (None, 16, 16, 128)       73856     \n",
      "_________________________________________________________________\n",
      "encoder_norm_2 (BatchNormali (None, 16, 16, 128)       512       \n",
      "_________________________________________________________________\n",
      "leaky_re_lu_2 (LeakyReLU)    (None, 16, 16, 128)       0         \n",
      "_________________________________________________________________\n",
      "conv_41 (Conv2D)             (None, 8, 8, 128)         147584    \n",
      "_________________________________________________________________\n",
      "encoder_norm_3 (BatchNormali (None, 8, 8, 128)         512       \n",
      "_________________________________________________________________\n",
      "leaky_re_lu_3 (LeakyReLU)    (None, 8, 8, 128)         0         \n",
      "_________________________________________________________________\n",
      "encoder_output (GlobalAverag (None, 128)               0         \n",
      "=================================================================\n",
      "Total params: 242,048\n",
      "Trainable params: 241,408\n",
      "Non-trainable params: 640\n",
      "_________________________________________________________________\n"
     ]
    }
   ],
   "source": [
    "input_layer = layers.Input(name='input', shape=(height, width, channels))\n",
    "\n",
    "z = layers.Conv2D(32, (5,5), strides=(1,1), padding='same', name='encoder_conv_1', kernel_regularizer = 'l2')(input_layer)\n",
    "z = layers.LeakyReLU()(z)\n",
    "\n",
    "z = layers.Conv2D(64, (3,3), strides=(2,2), padding='same', name='encoder_conv_2', kernel_regularizer = 'l2')(z)\n",
    "z = layers.BatchNormalization(name='encoder_norm_1')(z)\n",
    "z = layers.LeakyReLU()(z)\n",
    "\n",
    "\n",
    "z = layers.Conv2D(128, (3,3), strides=(2,2), padding='same', name='encoder_conv_3', kernel_regularizer = 'l2')(z)\n",
    "z = layers.BatchNormalization(name='encoder_norm_2')(z)\n",
    "z = layers.LeakyReLU()(z)\n",
    "\n",
    "z = layers.Conv2D(128, (3,3), strides=(2,2), padding='same', name='conv_41', kernel_regularizer = 'l2')(z)\n",
    "z = layers.BatchNormalization(name='encoder_norm_3')(z)\n",
    "z = layers.LeakyReLU()(z)\n",
    "\n",
    "z = layers.GlobalAveragePooling2D(name='encoder_output')(z)\n",
    "\n",
    "encoder = keras.models.Model(input_layer, z)\n",
    "encoder.summary()"
   ]
  },
  {
   "cell_type": "markdown",
   "metadata": {
    "id": "WHU8SoiCZUCH"
   },
   "source": [
    "## feature extractor"
   ]
  },
  {
   "cell_type": "code",
   "execution_count": 6,
   "metadata": {
    "colab": {
     "base_uri": "https://localhost:8080/"
    },
    "executionInfo": {
     "elapsed": 1026,
     "status": "ok",
     "timestamp": 1616066027338,
     "user": {
      "displayName": "tc Lin",
      "photoUrl": "https://lh3.googleusercontent.com/a-/AOh14GjoM5W01BG9f2MESK5XHPMnhly_LYL2Zri1rf_6hA=s64",
      "userId": "05338448855796845949"
     },
     "user_tz": -480
    },
    "id": "tovsU-1uZXzr",
    "outputId": "57eaf153-1ac0-438b-b214-5e1827798e15"
   },
   "outputs": [
    {
     "name": "stdout",
     "output_type": "stream",
     "text": [
      "Model: \"model_3\"\n",
      "_________________________________________________________________\n",
      "Layer (type)                 Output Shape              Param #   \n",
      "=================================================================\n",
      "input (InputLayer)           [(None, 64, 64, 1)]       0         \n",
      "_________________________________________________________________\n",
      "f_conv_1 (Conv2D)            (None, 64, 64, 32)        832       \n",
      "_________________________________________________________________\n",
      "f_leaky_1 (LeakyReLU)        (None, 64, 64, 32)        0         \n",
      "_________________________________________________________________\n",
      "f_conv_2 (Conv2D)            (None, 32, 32, 64)        18496     \n",
      "_________________________________________________________________\n",
      "f_norm_1 (BatchNormalization (None, 32, 32, 64)        256       \n",
      "_________________________________________________________________\n",
      "f_leaky_2 (LeakyReLU)        (None, 32, 32, 64)        0         \n",
      "_________________________________________________________________\n",
      "f_conv_3 (Conv2D)            (None, 16, 16, 128)       73856     \n",
      "_________________________________________________________________\n",
      "f_norm_2 (BatchNormalization (None, 16, 16, 128)       512       \n",
      "_________________________________________________________________\n",
      "f_leaky_3 (LeakyReLU)        (None, 16, 16, 128)       0         \n",
      "_________________________________________________________________\n",
      "f_conv_4 (Conv2D)            (None, 8, 8, 128)         147584    \n",
      "_________________________________________________________________\n",
      "f_norm_3 (BatchNormalization (None, 8, 8, 128)         512       \n",
      "_________________________________________________________________\n",
      "feature_output (LeakyReLU)   (None, 8, 8, 128)         0         \n",
      "=================================================================\n",
      "Total params: 242,048\n",
      "Trainable params: 241,408\n",
      "Non-trainable params: 640\n",
      "_________________________________________________________________\n"
     ]
    }
   ],
   "source": [
    "input_layer = layers.Input(name='input', shape=(height, width, channels))\n",
    "\n",
    "f = layers.Conv2D(32, (5,5), strides=(1,1), padding='same', name='f_conv_1', kernel_regularizer = 'l2')(input_layer)\n",
    "f = layers.LeakyReLU(name='f_leaky_1')(f)\n",
    "\n",
    "f = layers.Conv2D(64, (3,3), strides=(2,2), padding='same', name='f_conv_2', kernel_regularizer = 'l2')(f)\n",
    "f = layers.BatchNormalization(name='f_norm_1')(f)\n",
    "f = layers.LeakyReLU(name='f_leaky_2')(f)\n",
    "\n",
    "\n",
    "f = layers.Conv2D(128, (3,3), strides=(2,2), padding='same', name='f_conv_3', kernel_regularizer = 'l2')(f)\n",
    "f = layers.BatchNormalization(name='f_norm_2')(f)\n",
    "f = layers.LeakyReLU(name='f_leaky_3')(f)\n",
    "\n",
    "\n",
    "f = layers.Conv2D(128, (3,3), strides=(2,2), padding='same', name='f_conv_4', kernel_regularizer = 'l2')(f)\n",
    "f = layers.BatchNormalization(name='f_norm_3')(f)\n",
    "f = layers.LeakyReLU(name='feature_output')(f)\n",
    "\n",
    "feature_extractor = keras.models.Model(input_layer, f)\n",
    "\n",
    "feature_extractor.summary()"
   ]
  },
  {
   "cell_type": "markdown",
   "metadata": {
    "id": "Z7HBx1GiZhm-"
   },
   "source": [
    "## gan trainer"
   ]
  },
  {
   "cell_type": "markdown",
   "metadata": {
    "id": "wYznI4CxyRx7"
   },
   "source": [
    "![GANomaly](pic_GANomaly/Pipeline-of-the-proposed-approach-for-anomaly-detection.png)"
   ]
  },
  {
   "cell_type": "markdown",
   "metadata": {
    "id": "0YqF2flHwNk7"
   },
   "source": [
    "**Contextual Loss**\n",
    "\n",
    "![GANomaly](pic_GANomaly/contextual_loss.png)\n",
    "\n",
    "**Adversarial Loss**\n",
    "\n",
    "![GANomaly](pic_GANomaly/adversarial_loss.png)\n",
    "\n",
    "**Encoder Loss**\n",
    "\n",
    "![GANomaly](pic_GANomaly/encoder_loss.png)\n",
    "\n",
    "**objective function (overall loss)** (w : weighting parameters)\n",
    "\n",
    "![GANomaly](pic_GANomaly/overall_loss.png)\n",
    "\n",
    "\n"
   ]
  },
  {
   "cell_type": "code",
   "execution_count": 7,
   "metadata": {
    "id": "bosacIf7ZkZ4"
   },
   "outputs": [],
   "source": [
    "class AdvLoss(keras.layers.Layer):\n",
    "    def __init__(self, **kwargs):\n",
    "        super(AdvLoss, self).__init__(**kwargs)\n",
    "\n",
    "    def call(self, x, mask=None):\n",
    "        ori_feature = feature_extractor(x[0])\n",
    "        gan_feature = feature_extractor(x[1])\n",
    "        return K.mean(K.square(ori_feature - K.mean(gan_feature, axis=0)))\n",
    "\n",
    "    def get_output_shape_for(self, input_shape):\n",
    "        return (input_shape[0][0], 1)\n",
    "    \n",
    "class CntLoss(keras.layers.Layer):\n",
    "    def __init__(self, **kwargs):\n",
    "        super(CntLoss, self).__init__(**kwargs)\n",
    "\n",
    "    def call(self, x, mask=None):\n",
    "        ori = x[0]\n",
    "        gan = x[1]\n",
    "        return K.mean(K.abs(ori - gan))\n",
    "\n",
    "    def get_output_shape_for(self, input_shape):\n",
    "        return (input_shape[0][0], 1)\n",
    "    \n",
    "class EncLoss(keras.layers.Layer):\n",
    "    def __init__(self, **kwargs):\n",
    "        super(EncLoss, self).__init__(**kwargs)\n",
    "\n",
    "    def call(self, x, mask=None):\n",
    "        ori = x[0]\n",
    "        gan = x[1]\n",
    "        return K.mean(K.square(g_e(ori) - encoder(gan)))\n",
    "\n",
    "    def get_output_shape_for(self, input_shape):\n",
    "        return (input_shape[0][0], 1)\n",
    "    \n",
    "# model for training\n",
    "input_layer = layers.Input(name='input', shape=(height, width, channels))\n",
    "gan = g(input_layer) # g(x)\n",
    "\n",
    "adv_loss = AdvLoss(name='adv_loss')([input_layer, gan])\n",
    "cnt_loss = CntLoss(name='cnt_loss')([input_layer, gan])\n",
    "enc_loss = EncLoss(name='enc_loss')([input_layer, gan])\n",
    "\n",
    "gan_trainer = keras.models.Model(input_layer, [adv_loss, cnt_loss, enc_loss])\n",
    "\n",
    "# loss function\n",
    "def loss(yt, yp):\n",
    "    return yp\n",
    "\n",
    "losses = {\n",
    "    'adv_loss': loss,\n",
    "    'cnt_loss': loss,\n",
    "    'enc_loss': loss,\n",
    "}\n",
    "\n",
    "lossWeights = {'adv_loss': 1.0, 'cnt_loss': 1.0, 'enc_loss': 1.0}\n",
    "\n",
    "# compile\n",
    "gan_trainer.compile(optimizer = 'adam', loss=losses, loss_weights=lossWeights)"
   ]
  },
  {
   "cell_type": "code",
   "execution_count": 8,
   "metadata": {
    "colab": {
     "base_uri": "https://localhost:8080/"
    },
    "executionInfo": {
     "elapsed": 1012,
     "status": "ok",
     "timestamp": 1616066118605,
     "user": {
      "displayName": "tc Lin",
      "photoUrl": "https://lh3.googleusercontent.com/a-/AOh14GjoM5W01BG9f2MESK5XHPMnhly_LYL2Zri1rf_6hA=s64",
      "userId": "05338448855796845949"
     },
     "user_tz": -480
    },
    "id": "6YlrDrqZUfJG",
    "outputId": "2d6269da-afb0-4f47-a285-4da51d80c05d"
   },
   "outputs": [
    {
     "name": "stdout",
     "output_type": "stream",
     "text": [
      "Model: \"model_4\"\n",
      "__________________________________________________________________________________________________\n",
      "Layer (type)                    Output Shape         Param #     Connected to                     \n",
      "==================================================================================================\n",
      "input (InputLayer)              [(None, 64, 64, 1)]  0                                            \n",
      "__________________________________________________________________________________________________\n",
      "model_1 (Functional)            (None, 64, 64, 1)    1538689     input[0][0]                      \n",
      "__________________________________________________________________________________________________\n",
      "adv_loss (AdvLoss)              ()                   0           input[0][0]                      \n",
      "                                                                 model_1[0][0]                    \n",
      "__________________________________________________________________________________________________\n",
      "cnt_loss (CntLoss)              ()                   0           input[0][0]                      \n",
      "                                                                 model_1[0][0]                    \n",
      "__________________________________________________________________________________________________\n",
      "enc_loss (EncLoss)              ()                   0           input[0][0]                      \n",
      "                                                                 model_1[0][0]                    \n",
      "==================================================================================================\n",
      "Total params: 1,538,689\n",
      "Trainable params: 1,538,049\n",
      "Non-trainable params: 640\n",
      "__________________________________________________________________________________________________\n"
     ]
    }
   ],
   "source": [
    "gan_trainer.summary()"
   ]
  },
  {
   "cell_type": "markdown",
   "metadata": {
    "id": "pWWVBPizZctk"
   },
   "source": [
    "## discriminator"
   ]
  },
  {
   "cell_type": "code",
   "execution_count": 9,
   "metadata": {
    "colab": {
     "base_uri": "https://localhost:8080/"
    },
    "executionInfo": {
     "elapsed": 1030,
     "status": "ok",
     "timestamp": 1616066124207,
     "user": {
      "displayName": "tc Lin",
      "photoUrl": "https://lh3.googleusercontent.com/a-/AOh14GjoM5W01BG9f2MESK5XHPMnhly_LYL2Zri1rf_6hA=s64",
      "userId": "05338448855796845949"
     },
     "user_tz": -480
    },
    "id": "xcJdjTerZbMN",
    "outputId": "93832210-c712-41af-8445-4099d612e3f9"
   },
   "outputs": [
    {
     "name": "stdout",
     "output_type": "stream",
     "text": [
      "Model: \"model_5\"\n",
      "_________________________________________________________________\n",
      "Layer (type)                 Output Shape              Param #   \n",
      "=================================================================\n",
      "input (InputLayer)           [(None, 64, 64, 1)]       0         \n",
      "_________________________________________________________________\n",
      "model_3 (Functional)         (None, 8, 8, 128)         242048    \n",
      "_________________________________________________________________\n",
      "glb_avg (GlobalAveragePoolin (None, 128)               0         \n",
      "_________________________________________________________________\n",
      "d_out (Dense)                (None, 1)                 129       \n",
      "=================================================================\n",
      "Total params: 242,177\n",
      "Trainable params: 241,537\n",
      "Non-trainable params: 640\n",
      "_________________________________________________________________\n"
     ]
    }
   ],
   "source": [
    "input_layer = layers.Input(name='input', shape=(height, width, channels))\n",
    "\n",
    "f = feature_extractor(input_layer)\n",
    "\n",
    "d = layers.GlobalAveragePooling2D(name='glb_avg')(f)\n",
    "d = layers.Dense(1, activation='sigmoid', name='d_out')(d)\n",
    "    \n",
    "d = keras.models.Model(input_layer, d)\n",
    "d.summary()"
   ]
  },
  {
   "cell_type": "code",
   "execution_count": 10,
   "metadata": {
    "id": "W6d91GYncIGT"
   },
   "outputs": [],
   "source": [
    "d.compile(optimizer='adam', loss='binary_crossentropy')"
   ]
  },
  {
   "cell_type": "markdown",
   "metadata": {
    "id": "x6f6m8x7bDUX"
   },
   "source": [
    "# Load Data"
   ]
  },
  {
   "cell_type": "code",
   "execution_count": 26,
   "metadata": {},
   "outputs": [],
   "source": [
    "from tensorflow.keras.datasets import mnist\n",
    "# Get the working directory path\n",
    "import os\n",
    "current_dir = os.getcwd()\n",
    "\n",
    "# Import mnist data stored in the following path: current directory -> /datasets/MNIST/mnist.npz\n",
    "(x_train, y_train), (x_test, y_test) = mnist.load_data(path=current_dir+'/datasets/MNIST/mnist.npz')"
   ]
  },
  {
   "cell_type": "code",
   "execution_count": 27,
   "metadata": {
    "colab": {
     "base_uri": "https://localhost:8080/"
    },
    "executionInfo": {
     "elapsed": 2537,
     "status": "ok",
     "timestamp": 1616066134805,
     "user": {
      "displayName": "tc Lin",
      "photoUrl": "https://lh3.googleusercontent.com/a-/AOh14GjoM5W01BG9f2MESK5XHPMnhly_LYL2Zri1rf_6hA=s64",
      "userId": "05338448855796845949"
     },
     "user_tz": -480
    },
    "id": "oniqQC4ZbN06",
    "outputId": "0795c913-90d4-41fb-9386-4efc89ea0b8d"
   },
   "outputs": [],
   "source": [
    "import cv2\n",
    "import numpy as np\n",
    "\n",
    "x_ok = x_train[y_train == 1] # 6742 筆\n",
    "x_test = x_test[(y_test == 7) | (y_test == 1)] # 1135 筆 \"1\", 1028 筆 \"7\"\n",
    "y_test = y_test[(y_test == 7) | (y_test == 1)]\n",
    "\n",
    "def reshape_x(x):\n",
    "    new_x = np.empty((len(x), width, height))\n",
    "    for i, e in enumerate(x):\n",
    "        new_x[i] = cv2.resize(e, (width, height))\n",
    "    return np.expand_dims(new_x, axis=-1) / 127 - 1\n",
    "  \n",
    "x_ok = reshape_x(x_ok)\n",
    "x_test = reshape_x(x_test)"
   ]
  },
  {
   "cell_type": "code",
   "execution_count": 28,
   "metadata": {
    "colab": {
     "base_uri": "https://localhost:8080/"
    },
    "executionInfo": {
     "elapsed": 867,
     "status": "ok",
     "timestamp": 1616066138786,
     "user": {
      "displayName": "tc Lin",
      "photoUrl": "https://lh3.googleusercontent.com/a-/AOh14GjoM5W01BG9f2MESK5XHPMnhly_LYL2Zri1rf_6hA=s64",
      "userId": "05338448855796845949"
     },
     "user_tz": -480
    },
    "id": "GvxWqaXtbTS4",
    "outputId": "6bcbdb32-9c2f-499b-fd12-ac2cce0db39c"
   },
   "outputs": [
    {
     "data": {
      "text/plain": [
       "1.0078740157480315"
      ]
     },
     "execution_count": 28,
     "metadata": {},
     "output_type": "execute_result"
    }
   ],
   "source": [
    "x_ok.max()"
   ]
  },
  {
   "cell_type": "markdown",
   "metadata": {
    "id": "dxPzCEC1bFMR"
   },
   "source": [
    "# Training"
   ]
  },
  {
   "cell_type": "code",
   "execution_count": 13,
   "metadata": {
    "id": "jDYFHg6Iboh4"
   },
   "outputs": [],
   "source": [
    "niter = 400\n",
    "bz = 256"
   ]
  },
  {
   "cell_type": "code",
   "execution_count": 14,
   "metadata": {
    "id": "53rLCTe3a8LY"
   },
   "outputs": [],
   "source": [
    "def get_data_generator(data, batch_size=32):\n",
    "    datalen = len(data)\n",
    "    cnt = 0\n",
    "    while True:\n",
    "        idxes = np.arange(datalen)\n",
    "        np.random.shuffle(idxes)\n",
    "        cnt += 1\n",
    "        for i in range(int(np.ceil(datalen/batch_size))):\n",
    "            train_x = np.take(data, idxes[i*batch_size: (i+1) * batch_size], axis=0)\n",
    "            y = np.ones(len(train_x))\n",
    "            yield train_x, [y, y, y]"
   ]
  },
  {
   "cell_type": "code",
   "execution_count": 15,
   "metadata": {
    "id": "fHQxiAHia_5J"
   },
   "outputs": [],
   "source": [
    "train_data_generator = get_data_generator(x_ok, bz)"
   ]
  },
  {
   "cell_type": "code",
   "execution_count": 16,
   "metadata": {
    "colab": {
     "base_uri": "https://localhost:8080/"
    },
    "executionInfo": {
     "elapsed": 310320,
     "status": "ok",
     "timestamp": 1616066457783,
     "user": {
      "displayName": "tc Lin",
      "photoUrl": "https://lh3.googleusercontent.com/a-/AOh14GjoM5W01BG9f2MESK5XHPMnhly_LYL2Zri1rf_6hA=s64",
      "userId": "05338448855796845949"
     },
     "user_tz": -480
    },
    "id": "OKkjwML7bjqg",
    "outputId": "2fdbd491-4e08-4688-b895-b56c460c10fa"
   },
   "outputs": [
    {
     "name": "stdout",
     "output_type": "stream",
     "text": [
      "niter: 1, g_loss: [6.11863374710083, 0.003434328828006983, 0.9517908096313477, 0.00818325113505125], d_loss: 3.140575885772705\n",
      "niter: 51, g_loss: [0.4006521701812744, 0.0001936481276061386, 0.12067210674285889, 0.0006402250146493316], d_loss: 0.941010594367981\n",
      "niter: 101, g_loss: [0.18356716632843018, 5.2826321734755766e-06, 0.12214398384094238, 0.0011277582962065935], d_loss: 0.35789963603019714\n",
      "niter: 151, g_loss: [0.16616509854793549, 5.817230999127787e-07, 0.11981348693370819, 0.0006711839232593775], d_loss: 0.16018326580524445\n",
      "niter: 201, g_loss: [0.16101257503032684, 1.4025448535903706e-07, 0.11893178522586823, 0.0008528229664079845], d_loss: 0.07968685775995255\n",
      "niter: 239, ** early-stop ** g_loss: [0.15706230700016022, 1.5015797316664248e-07, 0.11561152338981628, 0.0029711341485381126], d_loss: 0.04979601502418518\n"
     ]
    }
   ],
   "source": [
    "his_g_loss = []\n",
    "his_adv_loss = []\n",
    "his_cnt_loss = []\n",
    "his_enc_loss = []\n",
    "his_d_loss = []\n",
    "\n",
    "for i in range(niter):\n",
    "    \n",
    "    ### get batch x, y ###\n",
    "    x, y = train_data_generator.__next__()\n",
    "        \n",
    "    ### train disciminator ###\n",
    "    d.trainable = True\n",
    "        \n",
    "    fake_x = g.predict(x)\n",
    "        \n",
    "    d_x = np.concatenate([x, fake_x], axis=0)\n",
    "    d_y = np.concatenate([np.zeros(len(x)), np.ones(len(fake_x))], axis=0)\n",
    "        \n",
    "    d_loss = d.train_on_batch(d_x, d_y)\n",
    "\n",
    "    ### train generator ###\n",
    "    \n",
    "    d.trainable = False\n",
    "    g_loss = gan_trainer.train_on_batch(x, y)\n",
    "\n",
    "    #記錄training loss\n",
    "    his_g_loss.append(g_loss[0])\n",
    "    his_adv_loss.append(g_loss[1])\n",
    "    his_cnt_loss.append(g_loss[2])\n",
    "    his_enc_loss.append(g_loss[3])\n",
    "    his_d_loss.append(d_loss)\n",
    "\n",
    "    if i % 50 == 0:\n",
    "        print(f'niter: {i+1}, g_loss: {g_loss}, d_loss: {d_loss}')\n",
    "\n",
    "    # early-stop:\n",
    "    if g_loss[0]<=0.1 or d_loss<=0.05:\n",
    "        print(f'niter: {i+1}, ** early-stop ** g_loss: {g_loss}, d_loss: {d_loss}')\n",
    "        break"
   ]
  },
  {
   "cell_type": "code",
   "execution_count": 17,
   "metadata": {
    "colab": {
     "base_uri": "https://localhost:8080/"
    },
    "executionInfo": {
     "elapsed": 1160,
     "status": "ok",
     "timestamp": 1616066458963,
     "user": {
      "displayName": "tc Lin",
      "photoUrl": "https://lh3.googleusercontent.com/a-/AOh14GjoM5W01BG9f2MESK5XHPMnhly_LYL2Zri1rf_6hA=s64",
      "userId": "05338448855796845949"
     },
     "user_tz": -480
    },
    "id": "_OSUgj3s7VXJ",
    "outputId": "b580d5b6-aabb-4266-9982-67bb35a9b029"
   },
   "outputs": [
    {
     "data": {
      "text/plain": [
       "239"
      ]
     },
     "execution_count": 17,
     "metadata": {},
     "output_type": "execute_result"
    }
   ],
   "source": [
    "len(his_g_loss)"
   ]
  },
  {
   "cell_type": "code",
   "execution_count": 18,
   "metadata": {
    "colab": {
     "base_uri": "https://localhost:8080/",
     "height": 444
    },
    "executionInfo": {
     "elapsed": 1687,
     "status": "ok",
     "timestamp": 1616066459504,
     "user": {
      "displayName": "tc Lin",
      "photoUrl": "https://lh3.googleusercontent.com/a-/AOh14GjoM5W01BG9f2MESK5XHPMnhly_LYL2Zri1rf_6hA=s64",
      "userId": "05338448855796845949"
     },
     "user_tz": -480
    },
    "id": "XOibHocd7Guz",
    "outputId": "73c1179e-f9c2-4fb6-a06b-2e347f443957"
   },
   "outputs": [
    {
     "data": {
      "image/png": "[encoded data removed]",
      "text/plain": [
       "<Figure size 720x504 with 1 Axes>"
      ]
     },
     "metadata": {
      "needs_background": "light"
     },
     "output_type": "display_data"
    }
   ],
   "source": [
    "import matplotlib.pyplot as plt\n",
    "\n",
    "plt.rcParams['figure.figsize'] = 10, 7\n",
    "\n",
    "''' Visualize the loss and accuracy of both models'''\n",
    "plt.figure(0)\n",
    "\n",
    "x_step = np.arange(len(his_g_loss))\n",
    "\n",
    "plt.plot( x_step, his_g_loss, marker='', color='skyblue', linewidth=1, label=\"g_loss\")\n",
    "plt.plot( x_step, his_adv_loss, marker='', linewidth=1, label=\"adv_loss\")\n",
    "plt.plot( x_step, his_cnt_loss, marker='', linewidth=1, label=\"cnt_loss\")\n",
    "plt.plot( x_step, his_enc_loss, marker='', linewidth=1, label=\"enc_loss\")\n",
    "plt.plot( x_step, his_d_loss, marker='', color='pink', linewidth=1, label=\"d_loss\")\n",
    "\n",
    "plt.title('Loss')\n",
    "plt.legend(loc='upper right')\n",
    "\n",
    "plt.show()"
   ]
  },
  {
   "cell_type": "markdown",
   "metadata": {
    "id": "0cHDcccacdST"
   },
   "source": [
    "# Evaluation"
   ]
  },
  {
   "cell_type": "markdown",
   "metadata": {
    "id": "UUz9CPzyuwYk"
   },
   "source": [
    "![GANomaly](pic_GANomaly/scoring.png)\n",
    "\n",
    "***anomaly scores*** (如同encoder loss計算, 但只取差距總合絶對值, input image= x_hat(即上圖x'))\n",
    "\n",
    "![GANomaly](pic_GANomaly/anomaly_score.png)\n",
    "\n",
    "***anomaly scores within the probabilistic*** range of [0; 1]\n",
    "\n",
    "**normal** -> 0, and **abnormal** -> 1\n",
    "\n",
    "![GANomaly](pic_GANomaly/anomaly_score_within_probabilistic_range.png)"
   ]
  },
  {
   "cell_type": "code",
   "execution_count": 19,
   "metadata": {
    "id": "UXAufnuIbuvF"
   },
   "outputs": [],
   "source": [
    "encoded = g_e.predict(x_test)\n",
    "\n",
    "gan_x = g.predict(x_test)\n",
    "encoded_gan = encoder.predict(gan_x)\n",
    "\n",
    "A_score = np.sum(np.absolute(encoded - encoded_gan), axis=-1) #axis=-1:sum by column\n",
    "P_score = (A_score - np.min(A_score)) / (np.max(A_score) - np.min(A_score)) # map to 0~1"
   ]
  },
  {
   "cell_type": "code",
   "execution_count": 20,
   "metadata": {
    "colab": {
     "base_uri": "https://localhost:8080/"
    },
    "executionInfo": {
     "elapsed": 865,
     "status": "ok",
     "timestamp": 1616066535273,
     "user": {
      "displayName": "tc Lin",
      "photoUrl": "https://lh3.googleusercontent.com/a-/AOh14GjoM5W01BG9f2MESK5XHPMnhly_LYL2Zri1rf_6hA=s64",
      "userId": "05338448855796845949"
     },
     "user_tz": -480
    },
    "id": "cdsYwN5Ije7n",
    "outputId": "8e616fce-0af1-4fc8-9cd9-942a399549a9"
   },
   "outputs": [
    {
     "data": {
      "text/plain": [
       "((2163, 64, 64, 1), (2163, 128), (2163, 128))"
      ]
     },
     "execution_count": 20,
     "metadata": {},
     "output_type": "execute_result"
    }
   ],
   "source": [
    "gan_x.shape, encoded.shape, encoded_gan.shape"
   ]
  },
  {
   "cell_type": "code",
   "execution_count": 21,
   "metadata": {
    "colab": {
     "base_uri": "https://localhost:8080/"
    },
    "executionInfo": {
     "elapsed": 897,
     "status": "ok",
     "timestamp": 1616066541953,
     "user": {
      "displayName": "tc Lin",
      "photoUrl": "https://lh3.googleusercontent.com/a-/AOh14GjoM5W01BG9f2MESK5XHPMnhly_LYL2Zri1rf_6hA=s64",
      "userId": "05338448855796845949"
     },
     "user_tz": -480
    },
    "id": "1Y1KILDnkfZl",
    "outputId": "fbfac1c2-f41e-4ddd-e872-2aede890333f"
   },
   "outputs": [
    {
     "data": {
      "text/plain": [
       "21.992132"
      ]
     },
     "execution_count": 21,
     "metadata": {},
     "output_type": "execute_result"
    }
   ],
   "source": [
    "#取某一筆出來計算 A_Score\n",
    "np.sum(np.absolute(encoded[0] - encoded_gan[0]))"
   ]
  },
  {
   "cell_type": "code",
   "execution_count": 22,
   "metadata": {
    "colab": {
     "base_uri": "https://localhost:8080/"
    },
    "executionInfo": {
     "elapsed": 1041,
     "status": "ok",
     "timestamp": 1616066543499,
     "user": {
      "displayName": "tc Lin",
      "photoUrl": "https://lh3.googleusercontent.com/a-/AOh14GjoM5W01BG9f2MESK5XHPMnhly_LYL2Zri1rf_6hA=s64",
      "userId": "05338448855796845949"
     },
     "user_tz": -480
    },
    "id": "88TKOpGCllXe",
    "outputId": "923f6d49-267d-4a76-9934-96ef9c4b346d"
   },
   "outputs": [
    {
     "data": {
      "text/plain": [
       "(2163,)"
      ]
     },
     "execution_count": 22,
     "metadata": {},
     "output_type": "execute_result"
    }
   ],
   "source": [
    "P_score.shape"
   ]
  },
  {
   "cell_type": "code",
   "execution_count": 23,
   "metadata": {
    "colab": {
     "base_uri": "https://localhost:8080/",
     "height": 337
    },
    "executionInfo": {
     "elapsed": 1643,
     "status": "ok",
     "timestamp": 1616066546907,
     "user": {
      "displayName": "tc Lin",
      "photoUrl": "https://lh3.googleusercontent.com/a-/AOh14GjoM5W01BG9f2MESK5XHPMnhly_LYL2Zri1rf_6hA=s64",
      "userId": "05338448855796845949"
     },
     "user_tz": -480
    },
    "id": "-k8DiAAZdeZS",
    "outputId": "8f24d5bb-3a75-423b-ddd1-54516cf5c1e8"
   },
   "outputs": [
    {
     "data": {
      "text/plain": [
       "<matplotlib.collections.PathCollection at 0x2181981d370>"
      ]
     },
     "execution_count": 23,
     "metadata": {},
     "output_type": "execute_result"
    },
    {
     "data": {
      "image/png": "[encoded data removed]",
      "text/plain": [
       "<Figure size 1008x360 with 1 Axes>"
      ]
     },
     "metadata": {
      "needs_background": "light"
     },
     "output_type": "display_data"
    }
   ],
   "source": [
    "from matplotlib import pyplot as plt\n",
    "plt.rcParams['figure.figsize'] = 14, 5\n",
    "plt.scatter(range(len(x_test)), P_score, c=['skyblue' if x == 1 else 'pink' for x in y_test])\n",
    "# x==1:數字1為normal(藍色), 其它為abnormal(紅色)"
   ]
  },
  {
   "cell_type": "code",
   "execution_count": 24,
   "metadata": {
    "colab": {
     "base_uri": "https://localhost:8080/",
     "height": 339
    },
    "executionInfo": {
     "elapsed": 1134,
     "status": "ok",
     "timestamp": 1616066587758,
     "user": {
      "displayName": "tc Lin",
      "photoUrl": "https://lh3.googleusercontent.com/a-/AOh14GjoM5W01BG9f2MESK5XHPMnhly_LYL2Zri1rf_6hA=s64",
      "userId": "05338448855796845949"
     },
     "user_tz": -480
    },
    "id": "T4RTuE-Ud8k9",
    "outputId": "4337de97-cf46-453b-af49-d4bdc1250936"
   },
   "outputs": [
    {
     "data": {
      "text/plain": [
       "<matplotlib.image.AxesImage at 0x21819861f40>"
      ]
     },
     "execution_count": 24,
     "metadata": {},
     "output_type": "execute_result"
    },
    {
     "data": {
      "image/png": "[encoded data removed]",
      "text/plain": [
       "<Figure size 1008x360 with 1 Axes>"
      ]
     },
     "metadata": {
      "needs_background": "light"
     },
     "output_type": "display_data"
    }
   ],
   "source": [
    "i = 4 # or 1\n",
    "image = np.reshape(gan_x[i:i+1], (64, 64))\n",
    "image = image * 127 + 127\n",
    "plt.imshow(image.astype(np.uint8), cmap='gray')"
   ]
  },
  {
   "cell_type": "code",
   "execution_count": 25,
   "metadata": {
    "colab": {
     "base_uri": "https://localhost:8080/",
     "height": 339
    },
    "executionInfo": {
     "elapsed": 894,
     "status": "ok",
     "timestamp": 1616066590429,
     "user": {
      "displayName": "tc Lin",
      "photoUrl": "https://lh3.googleusercontent.com/a-/AOh14GjoM5W01BG9f2MESK5XHPMnhly_LYL2Zri1rf_6hA=s64",
      "userId": "05338448855796845949"
     },
     "user_tz": -480
    },
    "id": "zToWEVgjgfkH",
    "outputId": "a4f89965-b080-4495-a0e0-004065a6b957"
   },
   "outputs": [
    {
     "data": {
      "text/plain": [
       "<matplotlib.image.AxesImage at 0x21819a832e0>"
      ]
     },
     "execution_count": 25,
     "metadata": {},
     "output_type": "execute_result"
    },
    {
     "data": {
      "image/png": "[encoded data removed]",
      "text/plain": [
       "<Figure size 1008x360 with 1 Axes>"
      ]
     },
     "metadata": {
      "needs_background": "light"
     },
     "output_type": "display_data"
    }
   ],
   "source": [
    "image = np.reshape(x_test[i:i+1], (64, 64))\n",
    "image = image * 127 + 127\n",
    "plt.imshow(image.astype(np.uint8), cmap='gray')"
   ]
  },
  {
   "cell_type": "markdown",
   "metadata": {
    "id": "4RLWdbVVikj4"
   },
   "source": [
    "----"
   ]
  },
  {
   "cell_type": "code",
   "execution_count": null,
   "metadata": {},
   "outputs": [],
   "source": []
  }
 ],
 "metadata": {
  "accelerator": "GPU",
  "colab": {
   "collapsed_sections": [],
   "name": "GANomaly.ipynb",
   "provenance": []
  },
  "kernelspec": {
   "display_name": "Python 3",
   "language": "python",
   "name": "python3"
  },
  "language_info": {
   "codemirror_mode": {
    "name": "ipython",
    "version": 3
   },
   "file_extension": ".py",
   "mimetype": "text/x-python",
   "name": "python",
   "nbconvert_exporter": "python",
   "pygments_lexer": "ipython3",
   "version": "3.5.5"
  }
 },
 "nbformat": 4,
 "nbformat_minor": 1
}
