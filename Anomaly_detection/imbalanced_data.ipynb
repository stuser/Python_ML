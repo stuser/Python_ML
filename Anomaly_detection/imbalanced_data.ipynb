{
 "cells": [
  {
   "cell_type": "markdown",
   "metadata": {
    "id": "7JfLUlawto_D"
   },
   "source": [
    "# 處理不平衡資料(imbalanced data)的一般訓練方法"
   ]
  },
  {
   "cell_type": "markdown",
   "metadata": {
    "id": "EyVFC9L_v_9J"
   },
   "source": [
    "我們以kaggle-信用詐欺偵測為範例介紹，一般在處理資料類別(正例/負例樣本)高度不平衡的資料集如何訓練模型."
   ]
  },
  {
   "cell_type": "markdown",
   "metadata": {
    "id": "mthoSGBAOoX-"
   },
   "source": [
    "資料來源: [Credit Card Fraud Detection](https://www.kaggle.com/mlg-ulb/creditcardfraud) \n",
    "合計 284,807筆交易記錄(transactions)，其中有 492 異常交易(fraudulent transactions).\n",
    "\n",
    "**這個範例的異常交易是登記為正例樣本(positive samples)**\n",
    "\n",
    "程式內容包括:\n",
    "\n",
    "* 載入資料集 (CSV file).\n",
    "* 建立訓練集及測試集..等資料.\n",
    "* 訓練baseline模型 (使用keras).\n",
    "* 評估模型績效 (precision and recall).\n",
    "* 一般處理 imbalanced data 的訓練手法:\n",
    "    * Class weighting\n",
    "    * Oversampling\n"
   ]
  },
  {
   "cell_type": "markdown",
   "metadata": {
    "id": "kRHmSyHxEIhN"
   },
   "source": [
    "## 載入工具"
   ]
  },
  {
   "cell_type": "code",
   "execution_count": 1,
   "metadata": {},
   "outputs": [],
   "source": [
    "import warnings\n",
    "warnings.filterwarnings(\"ignore\")"
   ]
  },
  {
   "cell_type": "code",
   "execution_count": 2,
   "metadata": {
    "id": "JM7hDSNClfoK"
   },
   "outputs": [],
   "source": [
    "import tensorflow as tf\n",
    "from tensorflow import keras\n",
    "\n",
    "import os\n",
    "import tempfile\n",
    "\n",
    "import matplotlib as mpl\n",
    "import matplotlib.pyplot as plt\n",
    "import numpy as np\n",
    "import pandas as pd\n",
    "import seaborn as sns\n",
    "\n",
    "import sklearn\n",
    "from sklearn.metrics import confusion_matrix, classification_report\n",
    "from sklearn.model_selection import train_test_split\n",
    "from sklearn.preprocessing import StandardScaler"
   ]
  },
  {
   "cell_type": "code",
   "execution_count": 3,
   "metadata": {
    "id": "c8o1FHzD-_y_"
   },
   "outputs": [],
   "source": [
    "mpl.rcParams['figure.figsize'] = (12, 10)\n",
    "colors = plt.rcParams['axes.prop_cycle'].by_key()['color'] #繪圖用的顏色"
   ]
  },
  {
   "cell_type": "markdown",
   "metadata": {
    "id": "Z3iZVjziKHmX"
   },
   "source": [
    "## 資料處理及資料探索(EDA)"
   ]
  },
  {
   "cell_type": "code",
   "execution_count": 4,
   "metadata": {},
   "outputs": [
    {
     "data": {
      "text/plain": [
       "'2.4.1'"
      ]
     },
     "execution_count": 4,
     "metadata": {},
     "output_type": "execute_result"
    }
   ],
   "source": [
    "tf.__version__"
   ]
  },
  {
   "cell_type": "code",
   "execution_count": 5,
   "metadata": {
    "id": "pR_SnbMArXr7"
   },
   "outputs": [
    {
     "data": {
      "text/html": [
       "<div>\n",
       "<style scoped>\n",
       "    .dataframe tbody tr th:only-of-type {\n",
       "        vertical-align: middle;\n",
       "    }\n",
       "\n",
       "    .dataframe tbody tr th {\n",
       "        vertical-align: top;\n",
       "    }\n",
       "\n",
       "    .dataframe thead th {\n",
       "        text-align: right;\n",
       "    }\n",
       "</style>\n",
       "<table border=\"1\" class=\"dataframe\">\n",
       "  <thead>\n",
       "    <tr style=\"text-align: right;\">\n",
       "      <th></th>\n",
       "      <th>Time</th>\n",
       "      <th>V1</th>\n",
       "      <th>V2</th>\n",
       "      <th>V3</th>\n",
       "      <th>V4</th>\n",
       "      <th>V5</th>\n",
       "      <th>V6</th>\n",
       "      <th>V7</th>\n",
       "      <th>V8</th>\n",
       "      <th>V9</th>\n",
       "      <th>...</th>\n",
       "      <th>V21</th>\n",
       "      <th>V22</th>\n",
       "      <th>V23</th>\n",
       "      <th>V24</th>\n",
       "      <th>V25</th>\n",
       "      <th>V26</th>\n",
       "      <th>V27</th>\n",
       "      <th>V28</th>\n",
       "      <th>Amount</th>\n",
       "      <th>Class</th>\n",
       "    </tr>\n",
       "  </thead>\n",
       "  <tbody>\n",
       "    <tr>\n",
       "      <th>0</th>\n",
       "      <td>0.0</td>\n",
       "      <td>-1.359807</td>\n",
       "      <td>-0.072781</td>\n",
       "      <td>2.536347</td>\n",
       "      <td>1.378155</td>\n",
       "      <td>-0.338321</td>\n",
       "      <td>0.462388</td>\n",
       "      <td>0.239599</td>\n",
       "      <td>0.098698</td>\n",
       "      <td>0.363787</td>\n",
       "      <td>...</td>\n",
       "      <td>-0.018307</td>\n",
       "      <td>0.277838</td>\n",
       "      <td>-0.110474</td>\n",
       "      <td>0.066928</td>\n",
       "      <td>0.128539</td>\n",
       "      <td>-0.189115</td>\n",
       "      <td>0.133558</td>\n",
       "      <td>-0.021053</td>\n",
       "      <td>149.62</td>\n",
       "      <td>0</td>\n",
       "    </tr>\n",
       "    <tr>\n",
       "      <th>1</th>\n",
       "      <td>0.0</td>\n",
       "      <td>1.191857</td>\n",
       "      <td>0.266151</td>\n",
       "      <td>0.166480</td>\n",
       "      <td>0.448154</td>\n",
       "      <td>0.060018</td>\n",
       "      <td>-0.082361</td>\n",
       "      <td>-0.078803</td>\n",
       "      <td>0.085102</td>\n",
       "      <td>-0.255425</td>\n",
       "      <td>...</td>\n",
       "      <td>-0.225775</td>\n",
       "      <td>-0.638672</td>\n",
       "      <td>0.101288</td>\n",
       "      <td>-0.339846</td>\n",
       "      <td>0.167170</td>\n",
       "      <td>0.125895</td>\n",
       "      <td>-0.008983</td>\n",
       "      <td>0.014724</td>\n",
       "      <td>2.69</td>\n",
       "      <td>0</td>\n",
       "    </tr>\n",
       "    <tr>\n",
       "      <th>2</th>\n",
       "      <td>1.0</td>\n",
       "      <td>-1.358354</td>\n",
       "      <td>-1.340163</td>\n",
       "      <td>1.773209</td>\n",
       "      <td>0.379780</td>\n",
       "      <td>-0.503198</td>\n",
       "      <td>1.800499</td>\n",
       "      <td>0.791461</td>\n",
       "      <td>0.247676</td>\n",
       "      <td>-1.514654</td>\n",
       "      <td>...</td>\n",
       "      <td>0.247998</td>\n",
       "      <td>0.771679</td>\n",
       "      <td>0.909412</td>\n",
       "      <td>-0.689281</td>\n",
       "      <td>-0.327642</td>\n",
       "      <td>-0.139097</td>\n",
       "      <td>-0.055353</td>\n",
       "      <td>-0.059752</td>\n",
       "      <td>378.66</td>\n",
       "      <td>0</td>\n",
       "    </tr>\n",
       "    <tr>\n",
       "      <th>3</th>\n",
       "      <td>1.0</td>\n",
       "      <td>-0.966272</td>\n",
       "      <td>-0.185226</td>\n",
       "      <td>1.792993</td>\n",
       "      <td>-0.863291</td>\n",
       "      <td>-0.010309</td>\n",
       "      <td>1.247203</td>\n",
       "      <td>0.237609</td>\n",
       "      <td>0.377436</td>\n",
       "      <td>-1.387024</td>\n",
       "      <td>...</td>\n",
       "      <td>-0.108300</td>\n",
       "      <td>0.005274</td>\n",
       "      <td>-0.190321</td>\n",
       "      <td>-1.175575</td>\n",
       "      <td>0.647376</td>\n",
       "      <td>-0.221929</td>\n",
       "      <td>0.062723</td>\n",
       "      <td>0.061458</td>\n",
       "      <td>123.50</td>\n",
       "      <td>0</td>\n",
       "    </tr>\n",
       "    <tr>\n",
       "      <th>4</th>\n",
       "      <td>2.0</td>\n",
       "      <td>-1.158233</td>\n",
       "      <td>0.877737</td>\n",
       "      <td>1.548718</td>\n",
       "      <td>0.403034</td>\n",
       "      <td>-0.407193</td>\n",
       "      <td>0.095921</td>\n",
       "      <td>0.592941</td>\n",
       "      <td>-0.270533</td>\n",
       "      <td>0.817739</td>\n",
       "      <td>...</td>\n",
       "      <td>-0.009431</td>\n",
       "      <td>0.798278</td>\n",
       "      <td>-0.137458</td>\n",
       "      <td>0.141267</td>\n",
       "      <td>-0.206010</td>\n",
       "      <td>0.502292</td>\n",
       "      <td>0.219422</td>\n",
       "      <td>0.215153</td>\n",
       "      <td>69.99</td>\n",
       "      <td>0</td>\n",
       "    </tr>\n",
       "  </tbody>\n",
       "</table>\n",
       "<p>5 rows × 31 columns</p>\n",
       "</div>"
      ],
      "text/plain": [
       "   Time        V1        V2        V3        V4        V5        V6        V7  \\\n",
       "0   0.0 -1.359807 -0.072781  2.536347  1.378155 -0.338321  0.462388  0.239599   \n",
       "1   0.0  1.191857  0.266151  0.166480  0.448154  0.060018 -0.082361 -0.078803   \n",
       "2   1.0 -1.358354 -1.340163  1.773209  0.379780 -0.503198  1.800499  0.791461   \n",
       "3   1.0 -0.966272 -0.185226  1.792993 -0.863291 -0.010309  1.247203  0.237609   \n",
       "4   2.0 -1.158233  0.877737  1.548718  0.403034 -0.407193  0.095921  0.592941   \n",
       "\n",
       "         V8        V9  ...       V21       V22       V23       V24       V25  \\\n",
       "0  0.098698  0.363787  ... -0.018307  0.277838 -0.110474  0.066928  0.128539   \n",
       "1  0.085102 -0.255425  ... -0.225775 -0.638672  0.101288 -0.339846  0.167170   \n",
       "2  0.247676 -1.514654  ...  0.247998  0.771679  0.909412 -0.689281 -0.327642   \n",
       "3  0.377436 -1.387024  ... -0.108300  0.005274 -0.190321 -1.175575  0.647376   \n",
       "4 -0.270533  0.817739  ... -0.009431  0.798278 -0.137458  0.141267 -0.206010   \n",
       "\n",
       "        V26       V27       V28  Amount  Class  \n",
       "0 -0.189115  0.133558 -0.021053  149.62      0  \n",
       "1  0.125895 -0.008983  0.014724    2.69      0  \n",
       "2 -0.139097 -0.055353 -0.059752  378.66      0  \n",
       "3 -0.221929  0.062723  0.061458  123.50      0  \n",
       "4  0.502292  0.219422  0.215153   69.99      0  \n",
       "\n",
       "[5 rows x 31 columns]"
      ]
     },
     "execution_count": 5,
     "metadata": {},
     "output_type": "execute_result"
    }
   ],
   "source": [
    "file = tf.keras.utils\n",
    "#從google AIP data下載 CSV檔案資料\n",
    "raw_df = pd.read_csv('datasets/creditcard.csv')\n",
    "raw_df.head()"
   ]
  },
  {
   "cell_type": "code",
   "execution_count": 6,
   "metadata": {
    "id": "-fgdQgmwUFuj"
   },
   "outputs": [
    {
     "data": {
      "text/html": [
       "<div>\n",
       "<style scoped>\n",
       "    .dataframe tbody tr th:only-of-type {\n",
       "        vertical-align: middle;\n",
       "    }\n",
       "\n",
       "    .dataframe tbody tr th {\n",
       "        vertical-align: top;\n",
       "    }\n",
       "\n",
       "    .dataframe thead th {\n",
       "        text-align: right;\n",
       "    }\n",
       "</style>\n",
       "<table border=\"1\" class=\"dataframe\">\n",
       "  <thead>\n",
       "    <tr style=\"text-align: right;\">\n",
       "      <th></th>\n",
       "      <th>Time</th>\n",
       "      <th>V1</th>\n",
       "      <th>V2</th>\n",
       "      <th>V3</th>\n",
       "      <th>V4</th>\n",
       "      <th>V5</th>\n",
       "      <th>V6</th>\n",
       "      <th>Amount</th>\n",
       "      <th>Class</th>\n",
       "    </tr>\n",
       "  </thead>\n",
       "  <tbody>\n",
       "    <tr>\n",
       "      <th>count</th>\n",
       "      <td>284807.000000</td>\n",
       "      <td>2.848070e+05</td>\n",
       "      <td>2.848070e+05</td>\n",
       "      <td>2.848070e+05</td>\n",
       "      <td>2.848070e+05</td>\n",
       "      <td>2.848070e+05</td>\n",
       "      <td>2.848070e+05</td>\n",
       "      <td>284807.000000</td>\n",
       "      <td>284807.000000</td>\n",
       "    </tr>\n",
       "    <tr>\n",
       "      <th>mean</th>\n",
       "      <td>94813.859575</td>\n",
       "      <td>1.168375e-15</td>\n",
       "      <td>3.416908e-16</td>\n",
       "      <td>-1.379537e-15</td>\n",
       "      <td>2.074095e-15</td>\n",
       "      <td>9.604066e-16</td>\n",
       "      <td>1.487313e-15</td>\n",
       "      <td>88.349619</td>\n",
       "      <td>0.001727</td>\n",
       "    </tr>\n",
       "    <tr>\n",
       "      <th>std</th>\n",
       "      <td>47488.145955</td>\n",
       "      <td>1.958696e+00</td>\n",
       "      <td>1.651309e+00</td>\n",
       "      <td>1.516255e+00</td>\n",
       "      <td>1.415869e+00</td>\n",
       "      <td>1.380247e+00</td>\n",
       "      <td>1.332271e+00</td>\n",
       "      <td>250.120109</td>\n",
       "      <td>0.041527</td>\n",
       "    </tr>\n",
       "    <tr>\n",
       "      <th>min</th>\n",
       "      <td>0.000000</td>\n",
       "      <td>-5.640751e+01</td>\n",
       "      <td>-7.271573e+01</td>\n",
       "      <td>-4.832559e+01</td>\n",
       "      <td>-5.683171e+00</td>\n",
       "      <td>-1.137433e+02</td>\n",
       "      <td>-2.616051e+01</td>\n",
       "      <td>0.000000</td>\n",
       "      <td>0.000000</td>\n",
       "    </tr>\n",
       "    <tr>\n",
       "      <th>25%</th>\n",
       "      <td>54201.500000</td>\n",
       "      <td>-9.203734e-01</td>\n",
       "      <td>-5.985499e-01</td>\n",
       "      <td>-8.903648e-01</td>\n",
       "      <td>-8.486401e-01</td>\n",
       "      <td>-6.915971e-01</td>\n",
       "      <td>-7.682956e-01</td>\n",
       "      <td>5.600000</td>\n",
       "      <td>0.000000</td>\n",
       "    </tr>\n",
       "    <tr>\n",
       "      <th>50%</th>\n",
       "      <td>84692.000000</td>\n",
       "      <td>1.810880e-02</td>\n",
       "      <td>6.548556e-02</td>\n",
       "      <td>1.798463e-01</td>\n",
       "      <td>-1.984653e-02</td>\n",
       "      <td>-5.433583e-02</td>\n",
       "      <td>-2.741871e-01</td>\n",
       "      <td>22.000000</td>\n",
       "      <td>0.000000</td>\n",
       "    </tr>\n",
       "    <tr>\n",
       "      <th>75%</th>\n",
       "      <td>139320.500000</td>\n",
       "      <td>1.315642e+00</td>\n",
       "      <td>8.037239e-01</td>\n",
       "      <td>1.027196e+00</td>\n",
       "      <td>7.433413e-01</td>\n",
       "      <td>6.119264e-01</td>\n",
       "      <td>3.985649e-01</td>\n",
       "      <td>77.165000</td>\n",
       "      <td>0.000000</td>\n",
       "    </tr>\n",
       "    <tr>\n",
       "      <th>max</th>\n",
       "      <td>172792.000000</td>\n",
       "      <td>2.454930e+00</td>\n",
       "      <td>2.205773e+01</td>\n",
       "      <td>9.382558e+00</td>\n",
       "      <td>1.687534e+01</td>\n",
       "      <td>3.480167e+01</td>\n",
       "      <td>7.330163e+01</td>\n",
       "      <td>25691.160000</td>\n",
       "      <td>1.000000</td>\n",
       "    </tr>\n",
       "  </tbody>\n",
       "</table>\n",
       "</div>"
      ],
      "text/plain": [
       "                Time            V1            V2            V3            V4  \\\n",
       "count  284807.000000  2.848070e+05  2.848070e+05  2.848070e+05  2.848070e+05   \n",
       "mean    94813.859575  1.168375e-15  3.416908e-16 -1.379537e-15  2.074095e-15   \n",
       "std     47488.145955  1.958696e+00  1.651309e+00  1.516255e+00  1.415869e+00   \n",
       "min         0.000000 -5.640751e+01 -7.271573e+01 -4.832559e+01 -5.683171e+00   \n",
       "25%     54201.500000 -9.203734e-01 -5.985499e-01 -8.903648e-01 -8.486401e-01   \n",
       "50%     84692.000000  1.810880e-02  6.548556e-02  1.798463e-01 -1.984653e-02   \n",
       "75%    139320.500000  1.315642e+00  8.037239e-01  1.027196e+00  7.433413e-01   \n",
       "max    172792.000000  2.454930e+00  2.205773e+01  9.382558e+00  1.687534e+01   \n",
       "\n",
       "                 V5            V6         Amount          Class  \n",
       "count  2.848070e+05  2.848070e+05  284807.000000  284807.000000  \n",
       "mean   9.604066e-16  1.487313e-15      88.349619       0.001727  \n",
       "std    1.380247e+00  1.332271e+00     250.120109       0.041527  \n",
       "min   -1.137433e+02 -2.616051e+01       0.000000       0.000000  \n",
       "25%   -6.915971e-01 -7.682956e-01       5.600000       0.000000  \n",
       "50%   -5.433583e-02 -2.741871e-01      22.000000       0.000000  \n",
       "75%    6.119264e-01  3.985649e-01      77.165000       0.000000  \n",
       "max    3.480167e+01  7.330163e+01   25691.160000       1.000000  "
      ]
     },
     "execution_count": 6,
     "metadata": {},
     "output_type": "execute_result"
    }
   ],
   "source": [
    "raw_df[['Time', 'V1', 'V2', 'V3', 'V4', 'V5', 'V6', 'Amount', 'Class']].describe()"
   ]
  },
  {
   "cell_type": "markdown",
   "metadata": {
    "id": "xWKB_CVZFLpB"
   },
   "source": [
    "### 瞭解標記的類別資料不平衡狀況 (class label imbalance)"
   ]
  },
  {
   "cell_type": "code",
   "execution_count": 7,
   "metadata": {
    "id": "HCJFrtuY2iLF"
   },
   "outputs": [
    {
     "name": "stdout",
     "output_type": "stream",
     "text": [
      "Examples:\n",
      "    Total: 284807\n",
      "    Positive: 492 (0.17% of total)\n",
      "\n"
     ]
    }
   ],
   "source": [
    "neg, pos = np.bincount(raw_df['Class'])\n",
    "total = neg + pos\n",
    "print('Examples:\\n    Total: {}\\n    Positive: {} ({:.2f}% of total)\\n'.format(\n",
    "    total, pos, 100 * pos / total))"
   ]
  },
  {
   "cell_type": "markdown",
   "metadata": {
    "id": "6qox6ryyzwdr"
   },
   "source": [
    "### 資料清理\n",
    "1.時間(`Time`): 這一欄位我們目前沒用到,故先去除.\n",
    "\n",
    "2.數量(`Amount`): 這個欄位資料級距差異太大,取log讓它比較趨於線性可比較."
   ]
  },
  {
   "cell_type": "code",
   "execution_count": 8,
   "metadata": {
    "id": "Ef42jTuxEjnj"
   },
   "outputs": [],
   "source": [
    "cleaned_df = raw_df.copy()\n",
    "\n",
    "# 利用pop指令移除\"Time\"欄位\n",
    "cleaned_df.pop('Time')\n",
    "\n",
    "# \"Amount\"做log轉換, 轉換時加一個很小的數值,以免轉到 np.log(0) = -inf\n",
    "eps = 0.0001\n",
    "cleaned_df['Log Ammount'] = np.log(cleaned_df.pop('Amount')+eps)"
   ]
  },
  {
   "cell_type": "markdown",
   "metadata": {
    "id": "uSNgdQFFFQ6u"
   },
   "source": [
    "### 切分資料集: 訓練集(train) 測試集(test) 驗證集(val, from training set)"
   ]
  },
  {
   "cell_type": "code",
   "execution_count": 9,
   "metadata": {
    "id": "xfxhKg7Yr1-b"
   },
   "outputs": [],
   "source": [
    "# 使用 sklearn API來切分資料集.\n",
    "train_df, test_df = train_test_split(cleaned_df, test_size=0.2)\n",
    "train_df, val_df = train_test_split(train_df, test_size=0.2)\n",
    "\n",
    "# 整理 label資料.\n",
    "train_labels = np.array(train_df.pop('Class'))\n",
    "bool_train_labels = train_labels != 0\n",
    "val_labels = np.array(val_df.pop('Class'))\n",
    "test_labels = np.array(test_df.pop('Class'))\n",
    "\n",
    "train_features = np.array(train_df)\n",
    "val_features = np.array(val_df)\n",
    "test_features = np.array(test_df)"
   ]
  },
  {
   "cell_type": "code",
   "execution_count": 10,
   "metadata": {},
   "outputs": [
    {
     "name": "stdout",
     "output_type": "stream",
     "text": [
      "訓練集中的正例樣本(class=1)數量:  326\n"
     ]
    }
   ],
   "source": [
    "print(\"訓練集中的正例樣本(class=1)數量: \",len(bool_train_labels[bool_train_labels == True]))"
   ]
  },
  {
   "cell_type": "markdown",
   "metadata": {
    "id": "8a_Z_kBmr7Oh"
   },
   "source": [
    "### 正規化\n",
    "利用sklearn StandardScaler (mean=0, standard deviation=1)\n",
    "把資料集的特徵值域用標準差做縮放.\n",
    "\n",
    "(並利用np.clip裁切值域範例在-5 ~ +5之間)"
   ]
  },
  {
   "cell_type": "code",
   "execution_count": 11,
   "metadata": {},
   "outputs": [
    {
     "data": {
      "text/plain": [
       "(-5, 5)"
      ]
     },
     "execution_count": 11,
     "metadata": {},
     "output_type": "execute_result"
    }
   ],
   "source": [
    "np.clip(-15,-5,5), np.clip(99,-5,5)"
   ]
  },
  {
   "cell_type": "code",
   "execution_count": 12,
   "metadata": {
    "id": "IO-qEUmJ5JQg"
   },
   "outputs": [
    {
     "name": "stdout",
     "output_type": "stream",
     "text": [
      "Training labels shape: (182276,)\n",
      "Validation labels shape: (45569,)\n",
      "Test labels shape: (56962,)\n",
      "Training features shape: (182276, 29)\n",
      "Validation features shape: (45569, 29)\n",
      "Test features shape: (56962, 29)\n"
     ]
    }
   ],
   "source": [
    "scaler = StandardScaler()\n",
    "\n",
    "train_features = scaler.fit_transform(train_features)\n",
    "val_features = scaler.transform(val_features)\n",
    "test_features = scaler.transform(test_features)\n",
    "\n",
    "#把值域裁切在 -5 ~ 5之間:\n",
    "train_features = np.clip(train_features, -5, 5)\n",
    "val_features = np.clip(val_features, -5, 5)\n",
    "test_features = np.clip(test_features, -5, 5)\n",
    "\n",
    "print('Training labels shape:', train_labels.shape)\n",
    "print('Validation labels shape:', val_labels.shape)\n",
    "print('Test labels shape:', test_labels.shape)\n",
    "\n",
    "print('Training features shape:', train_features.shape)\n",
    "print('Validation features shape:', val_features.shape)\n",
    "print('Test features shape:', test_features.shape)"
   ]
  },
  {
   "cell_type": "markdown",
   "metadata": {
    "id": "uQ7m9nqDC3W6"
   },
   "source": [
    "### 觀查資料分佈狀況\n",
    "\n",
    "比較兩組欄位資料的數值分佈狀況. **Positive (fraudulent transactions) vs. Negative (normal transactions)**"
   ]
  },
  {
   "cell_type": "code",
   "execution_count": 13,
   "metadata": {
    "id": "raK7hyjd_vf6"
   },
   "outputs": [
    {
     "data": {
      "image/png": "[encoded data removed]",
      "text/plain": [
       "<Figure size 432x432 with 3 Axes>"
      ]
     },
     "metadata": {
      "needs_background": "light"
     },
     "output_type": "display_data"
    },
    {
     "data": {
      "image/png": "[encoded data removed]",
      "text/plain": [
       "<Figure size 432x432 with 3 Axes>"
      ]
     },
     "metadata": {
      "needs_background": "light"
     },
     "output_type": "display_data"
    }
   ],
   "source": [
    "pos_df = pd.DataFrame(train_features[ bool_train_labels], columns=train_df.columns)\n",
    "neg_df = pd.DataFrame(train_features[~bool_train_labels], columns=train_df.columns)\n",
    "\n",
    "sns.jointplot(pos_df['V5'], pos_df['V6'], kind='hex', xlim=(-5,5), ylim=(-5,5))\n",
    "plt.suptitle(\"Positive distribution (fraudulent transactions)\")\n",
    "\n",
    "sns.jointplot(neg_df['V5'], neg_df['V6'], kind='hex', xlim=(-5,5), ylim=(-5,5))\n",
    "_ = plt.suptitle(\"Negative distribution (normal transactions)\")"
   ]
  },
  {
   "cell_type": "markdown",
   "metadata": {
    "id": "qFK1u4JX16D8"
   },
   "source": [
    "## 定義模型結構及使用的評估指標"
   ]
  },
  {
   "cell_type": "code",
   "execution_count": 14,
   "metadata": {},
   "outputs": [],
   "source": [
    "METRICS = [\n",
    "      #keras.metrics.TruePositives(name='tp'),\n",
    "      #keras.metrics.FalsePositives(name='fp'),\n",
    "      #keras.metrics.TrueNegatives(name='tn'),\n",
    "      #keras.metrics.FalseNegatives(name='fn'), \n",
    "      keras.metrics.BinaryAccuracy(name='accuracy'),\n",
    "      keras.metrics.Precision(name='precision'),\n",
    "      keras.metrics.Recall(name='recall'),\n",
    "      keras.metrics.AUC(name='auc'),\n",
    "]"
   ]
  },
  {
   "cell_type": "code",
   "execution_count": 15,
   "metadata": {
    "id": "3JQDzUqT3UYG"
   },
   "outputs": [],
   "source": [
    "def make_model(metrics=METRICS, output_bias=None):\n",
    "    if output_bias is not None:\n",
    "        output_bias = tf.keras.initializers.Constant(output_bias)\n",
    "\n",
    "    model = keras.Sequential([\n",
    "              keras.layers.Dense(64, activation='relu',input_shape=(train_features.shape[-1],)),\n",
    "              keras.layers.Dropout(0.5),\n",
    "              keras.layers.Dense(32, activation='relu'),\n",
    "              keras.layers.Dropout(0.5),\n",
    "              keras.layers.Dense(1, activation='sigmoid', bias_initializer=output_bias),\n",
    "            ])\n",
    "    return model"
   ]
  },
  {
   "cell_type": "markdown",
   "metadata": {
    "id": "SU0GX6E6mieP"
   },
   "source": [
    "### 評估指標 (metrics)\n",
    "指標公式介紹:\n",
    "https://stanford.edu/~shervine/l/zh-tw/teaching/cs-229/cheatsheet-machine-learning-tips-and-tricks\n",
    "*   **positives** - 正例樣本\n",
    "*   **negatives** - 負例樣本\n",
    "*   predict **False** - 預測錯誤(**incorrectly** classified)\n",
    "*   predict **True** - 預測正確(**correctly** classified)\n",
    "*   準確度(**Accuracy**) - 在所有預測樣本中，預測正確的比率\n",
    ">   $\\frac{\\text{true samples}}{\\text{total samples}}$\n",
    "*   精密度(**Precision**) - 所有正例樣本中，預測正確的比率\n",
    ">   $\\frac{\\text{true positives}}{\\text{true positives + false positives}}$\n",
    "*   召回率(**Recall**) - 所有預測樣本中，判別正例樣本且預測正確的比率\n",
    ">   $\\frac{\\text{true positives}}{\\text{true positives + false negatives}}$\n",
    "*   **AUC** - Receiver Operating Characteristic curve (ROC)曲線所覆蓋的面積，數值愈接近1愈好.\n",
    "\n",
    "Note: 在資料類別不平衡的任務，準確度(Accuracy)不是一個好的衡量指標，你可能在模型準確率99.8%+ accuracy 的狀況下，預測不出正確的分類結果。  \n"
   ]
  },
  {
   "cell_type": "markdown",
   "metadata": {},
   "source": [
    "----"
   ]
  },
  {
   "cell_type": "markdown",
   "metadata": {
    "id": "FYdhSAoaF_TK"
   },
   "source": [
    "## 建立及訓練 Baseline model"
   ]
  },
  {
   "cell_type": "code",
   "execution_count": 16,
   "metadata": {
    "id": "1xlR_dekzw7C"
   },
   "outputs": [
    {
     "name": "stdout",
     "output_type": "stream",
     "text": [
      "Model: \"sequential\"\n",
      "_________________________________________________________________\n",
      "Layer (type)                 Output Shape              Param #   \n",
      "=================================================================\n",
      "dense (Dense)                (None, 64)                1920      \n",
      "_________________________________________________________________\n",
      "dropout (Dropout)            (None, 64)                0         \n",
      "_________________________________________________________________\n",
      "dense_1 (Dense)              (None, 32)                2080      \n",
      "_________________________________________________________________\n",
      "dropout_1 (Dropout)          (None, 32)                0         \n",
      "_________________________________________________________________\n",
      "dense_2 (Dense)              (None, 1)                 33        \n",
      "=================================================================\n",
      "Total params: 4,033\n",
      "Trainable params: 4,033\n",
      "Non-trainable params: 0\n",
      "_________________________________________________________________\n"
     ]
    }
   ],
   "source": [
    "model = make_model()\n",
    "model.compile( optimizer=keras.optimizers.Adam(lr=0.001),\n",
    "               loss=keras.losses.BinaryCrossentropy(),\n",
    "               metrics=METRICS)\n",
    "\n",
    "model.summary()"
   ]
  },
  {
   "cell_type": "code",
   "execution_count": 17,
   "metadata": {
    "id": "ouUkwPcGQsy3"
   },
   "outputs": [],
   "source": [
    "early_stopping = tf.keras.callbacks.EarlyStopping(\n",
    "    monitor='val_auc', \n",
    "    verbose=1,\n",
    "    patience=5,\n",
    "    mode='max',\n",
    "    restore_best_weights=True)"
   ]
  },
  {
   "cell_type": "code",
   "execution_count": 18,
   "metadata": {},
   "outputs": [
    {
     "name": "stdout",
     "output_type": "stream",
     "text": [
      "Epoch 1/100\n",
      "143/143 [==============================] - 4s 16ms/step - loss: 0.5349 - accuracy: 0.6721 - precision: 9.1146e-04 - recall: 0.1669 - auc: 0.3585 - val_loss: 0.0069 - val_accuracy: 0.9987 - val_precision: 1.0000 - val_recall: 0.0400 - val_auc: 0.8756\n",
      "Epoch 2/100\n",
      "143/143 [==============================] - 1s 7ms/step - loss: 0.0192 - accuracy: 0.9978 - precision: 0.3363 - recall: 0.1569 - auc: 0.7959 - val_loss: 0.0046 - val_accuracy: 0.9992 - val_precision: 0.7750 - val_recall: 0.6200 - val_auc: 0.8996\n",
      "Epoch 3/100\n",
      "143/143 [==============================] - 1s 8ms/step - loss: 0.0108 - accuracy: 0.9986 - precision: 0.7490 - recall: 0.4748 - auc: 0.8804 - val_loss: 0.0039 - val_accuracy: 0.9994 - val_precision: 0.8043 - val_recall: 0.7400 - val_auc: 0.8998\n",
      "Epoch 4/100\n",
      "143/143 [==============================] - 1s 7ms/step - loss: 0.0076 - accuracy: 0.9991 - precision: 0.8093 - recall: 0.6270 - auc: 0.9029 - val_loss: 0.0034 - val_accuracy: 0.9995 - val_precision: 0.8125 - val_recall: 0.7800 - val_auc: 0.8998\n",
      "Epoch 5/100\n",
      "143/143 [==============================] - 1s 8ms/step - loss: 0.0078 - accuracy: 0.9991 - precision: 0.8271 - recall: 0.6661 - auc: 0.8924 - val_loss: 0.0033 - val_accuracy: 0.9994 - val_precision: 0.7959 - val_recall: 0.7800 - val_auc: 0.9198\n",
      "Epoch 6/100\n",
      "143/143 [==============================] - 1s 8ms/step - loss: 0.0056 - accuracy: 0.9991 - precision: 0.7991 - recall: 0.7152 - auc: 0.9144 - val_loss: 0.0031 - val_accuracy: 0.9994 - val_precision: 0.7959 - val_recall: 0.7800 - val_auc: 0.9397\n",
      "Epoch 7/100\n",
      "143/143 [==============================] - 1s 8ms/step - loss: 0.0059 - accuracy: 0.9993 - precision: 0.8666 - recall: 0.7550 - auc: 0.9221 - val_loss: 0.0030 - val_accuracy: 0.9995 - val_precision: 0.8000 - val_recall: 0.8000 - val_auc: 0.9398\n",
      "Epoch 8/100\n",
      "143/143 [==============================] - 1s 8ms/step - loss: 0.0052 - accuracy: 0.9993 - precision: 0.8881 - recall: 0.7203 - auc: 0.9327 - val_loss: 0.0030 - val_accuracy: 0.9995 - val_precision: 0.8000 - val_recall: 0.8000 - val_auc: 0.9398\n",
      "Epoch 9/100\n",
      "143/143 [==============================] - 1s 8ms/step - loss: 0.0054 - accuracy: 0.9992 - precision: 0.8310 - recall: 0.7716 - auc: 0.9344 - val_loss: 0.0029 - val_accuracy: 0.9995 - val_precision: 0.8039 - val_recall: 0.8200 - val_auc: 0.9397\n",
      "Epoch 10/100\n",
      "143/143 [==============================] - 1s 8ms/step - loss: 0.0051 - accuracy: 0.9994 - precision: 0.7947 - recall: 0.7648 - auc: 0.8997 - val_loss: 0.0029 - val_accuracy: 0.9995 - val_precision: 0.8039 - val_recall: 0.8200 - val_auc: 0.9398\n",
      "Epoch 11/100\n",
      "143/143 [==============================] - 1s 7ms/step - loss: 0.0054 - accuracy: 0.9993 - precision: 0.8545 - recall: 0.7671 - auc: 0.9314 - val_loss: 0.0029 - val_accuracy: 0.9995 - val_precision: 0.8039 - val_recall: 0.8200 - val_auc: 0.9398\n",
      "Epoch 12/100\n",
      "143/143 [==============================] - 1s 8ms/step - loss: 0.0042 - accuracy: 0.9994 - precision: 0.8750 - recall: 0.7977 - auc: 0.9358 - val_loss: 0.0029 - val_accuracy: 0.9995 - val_precision: 0.8039 - val_recall: 0.8200 - val_auc: 0.9398\n",
      "Epoch 13/100\n",
      "143/143 [==============================] - 1s 8ms/step - loss: 0.0050 - accuracy: 0.9994 - precision: 0.8758 - recall: 0.7690 - auc: 0.9242 - val_loss: 0.0029 - val_accuracy: 0.9995 - val_precision: 0.8000 - val_recall: 0.8000 - val_auc: 0.9398\n",
      "Epoch 14/100\n",
      "143/143 [==============================] - 1s 8ms/step - loss: 0.0052 - accuracy: 0.9992 - precision: 0.8448 - recall: 0.7288 - auc: 0.9238 - val_loss: 0.0029 - val_accuracy: 0.9995 - val_precision: 0.7885 - val_recall: 0.8200 - val_auc: 0.9398\n",
      "Epoch 15/100\n",
      "143/143 [==============================] - 1s 8ms/step - loss: 0.0042 - accuracy: 0.9993 - precision: 0.8353 - recall: 0.7865 - auc: 0.9402 - val_loss: 0.0029 - val_accuracy: 0.9995 - val_precision: 0.7885 - val_recall: 0.8200 - val_auc: 0.9498\n",
      "Epoch 16/100\n",
      "143/143 [==============================] - 1s 8ms/step - loss: 0.0040 - accuracy: 0.9993 - precision: 0.8558 - recall: 0.8022 - auc: 0.9521 - val_loss: 0.0029 - val_accuracy: 0.9995 - val_precision: 0.7885 - val_recall: 0.8200 - val_auc: 0.9498\n",
      "Epoch 17/100\n",
      "143/143 [==============================] - 1s 8ms/step - loss: 0.0041 - accuracy: 0.9994 - precision: 0.8555 - recall: 0.8164 - auc: 0.9392 - val_loss: 0.0028 - val_accuracy: 0.9995 - val_precision: 0.7885 - val_recall: 0.8200 - val_auc: 0.9498\n",
      "Epoch 18/100\n",
      "143/143 [==============================] - 1s 8ms/step - loss: 0.0043 - accuracy: 0.9994 - precision: 0.8454 - recall: 0.8240 - auc: 0.9297 - val_loss: 0.0028 - val_accuracy: 0.9995 - val_precision: 0.8039 - val_recall: 0.8200 - val_auc: 0.9498\n",
      "Epoch 19/100\n",
      "143/143 [==============================] - 1s 9ms/step - loss: 0.0037 - accuracy: 0.9995 - precision: 0.8715 - recall: 0.8276 - auc: 0.9334 - val_loss: 0.0028 - val_accuracy: 0.9994 - val_precision: 0.7843 - val_recall: 0.8000 - val_auc: 0.9498\n",
      "Epoch 20/100\n",
      "143/143 [==============================] - 1s 9ms/step - loss: 0.0037 - accuracy: 0.9993 - precision: 0.8422 - recall: 0.8043 - auc: 0.9480 - val_loss: 0.0029 - val_accuracy: 0.9995 - val_precision: 0.8039 - val_recall: 0.8200 - val_auc: 0.9498\n",
      "Epoch 21/100\n",
      "143/143 [==============================] - 1s 9ms/step - loss: 0.0037 - accuracy: 0.9995 - precision: 0.9117 - recall: 0.8279 - auc: 0.9532 - val_loss: 0.0029 - val_accuracy: 0.9995 - val_precision: 0.8000 - val_recall: 0.8000 - val_auc: 0.9498\n",
      "Epoch 22/100\n",
      "143/143 [==============================] - 1s 9ms/step - loss: 0.0048 - accuracy: 0.9994 - precision: 0.9106 - recall: 0.7796 - auc: 0.9275 - val_loss: 0.0029 - val_accuracy: 0.9995 - val_precision: 0.8039 - val_recall: 0.8200 - val_auc: 0.9498\n",
      "Epoch 23/100\n",
      "143/143 [==============================] - 1s 9ms/step - loss: 0.0049 - accuracy: 0.9994 - precision: 0.8375 - recall: 0.8001 - auc: 0.9227 - val_loss: 0.0030 - val_accuracy: 0.9994 - val_precision: 0.7959 - val_recall: 0.7800 - val_auc: 0.9498\n",
      "Restoring model weights from the end of the best epoch.\n",
      "Epoch 00023: early stopping\n"
     ]
    }
   ],
   "source": [
    "EPOCHS = 100\n",
    "BATCH_SIZE = 1024\n",
    "history = model.fit(train_df, train_labels,\n",
    "              batch_size=BATCH_SIZE,\n",
    "              epochs=EPOCHS,\n",
    "              verbose=1,\n",
    "              shuffle=True,\n",
    "              validation_split=0.2, callbacks=[early_stopping]) # 加上callbacks:earlystopping"
   ]
  },
  {
   "cell_type": "code",
   "execution_count": 19,
   "metadata": {},
   "outputs": [
    {
     "data": {
      "image/png": "[encoded data removed]",
      "text/plain": [
       "<Figure size 720x504 with 2 Axes>"
      ]
     },
     "metadata": {
      "needs_background": "light"
     },
     "output_type": "display_data"
    }
   ],
   "source": [
    "''' Visualize the training/validation loss and training/validation accuracy'''\n",
    "plt.rcParams['figure.figsize'] = 10, 7\n",
    "\n",
    "loss = history.history.get('loss')       # 取出訓練完成後loss的訓練數據\n",
    "val_loss = history.history.get('val_loss')   # 取出訓練完成後val_loss的訓練數據\n",
    "auc = history.history.get('auc')\n",
    "val_auc = history.history.get('val_auc')\n",
    "\n",
    "plt.figure(0)\n",
    "plt.subplot(121)\n",
    "\n",
    "# 個別繪出loss以及val_loss的線條\n",
    "plt.plot(range(len(loss)), loss, label='Training Loss')\n",
    "plt.plot(range(len(val_loss)), val_loss, label='Validation Loss')\n",
    "plt.legend(loc='best')\n",
    "plt.title('Loss')\n",
    "\n",
    "plt.subplot(122)\n",
    "# 個別繪出auc以及val_auc的線條\n",
    "plt.plot(range(len(auc)), auc, label='Training AUC')\n",
    "plt.plot(range(len(val_auc)), val_auc, label='Validation AUC')\n",
    "plt.legend(loc='best')\n",
    "plt.title('AUC')\n",
    "\n",
    "plt.show()"
   ]
  },
  {
   "cell_type": "code",
   "execution_count": 20,
   "metadata": {
    "id": "Wx7ND3_SqckO"
   },
   "outputs": [
    {
     "name": "stdout",
     "output_type": "stream",
     "text": [
      "1425/1425 - 6s - loss: 0.0035 - accuracy: 0.9993 - precision: 0.7895 - recall: 0.7792 - auc: 0.9283\n"
     ]
    }
   ],
   "source": [
    "pred = model.evaluate(val_df, val_labels, verbose=2)"
   ]
  },
  {
   "cell_type": "code",
   "execution_count": 21,
   "metadata": {
    "id": "LopSd-yQqO3a"
   },
   "outputs": [
    {
     "data": {
      "text/plain": [
       "(array([0]), array([4.090262e-12], dtype=float32))"
      ]
     },
     "execution_count": 21,
     "metadata": {},
     "output_type": "execute_result"
    }
   ],
   "source": [
    "model.predict_classes(test_features[0:1])[0], model.predict(test_features[0:1])[0]"
   ]
  },
  {
   "cell_type": "markdown",
   "metadata": {},
   "source": [
    "### 儲存 initial weights (baseline model)"
   ]
  },
  {
   "cell_type": "code",
   "execution_count": 22,
   "metadata": {},
   "outputs": [],
   "source": [
    "initial_weights = os.path.join(tempfile.mkdtemp(), 'initial_weights')\n",
    "model.save_weights(initial_weights)"
   ]
  },
  {
   "cell_type": "code",
   "execution_count": 23,
   "metadata": {},
   "outputs": [
    {
     "data": {
      "text/plain": [
       "'C:\\\\Users\\\\user\\\\AppData\\\\Local\\\\Temp\\\\tmpfwru3hax\\\\initial_weights'"
      ]
     },
     "execution_count": 23,
     "metadata": {},
     "output_type": "execute_result"
    }
   ],
   "source": [
    "initial_weights"
   ]
  },
  {
   "cell_type": "code",
   "execution_count": 24,
   "metadata": {
    "id": "WTSkhT1jyGu6"
   },
   "outputs": [],
   "source": [
    "def plot_metrics(history):\n",
    "    metrics = ['loss', 'auc', 'precision', 'recall']\n",
    "    for n, metric in enumerate(metrics):\n",
    "        name = metric.replace(\"_\",\" \").capitalize()\n",
    "        plt.subplot(2,2,n+1)\n",
    "        plt.plot(history.epoch, history.history[metric], color=colors[0], label='Train')\n",
    "        plt.plot(history.epoch, history.history['val_'+metric],\n",
    "                 color=colors[0], linestyle=\"--\", label='Val')\n",
    "        plt.xlabel('Epoch')\n",
    "        plt.ylabel(name)\n",
    "    if metric == 'loss':\n",
    "        plt.ylim([0, plt.ylim()[1]])\n",
    "    elif metric == 'auc':\n",
    "        plt.ylim([0.8,1])\n",
    "    else:\n",
    "        plt.ylim([0,1])\n",
    "\n",
    "    plt.legend()"
   ]
  },
  {
   "cell_type": "code",
   "execution_count": 25,
   "metadata": {
    "id": "u6LReDsqlZlk"
   },
   "outputs": [
    {
     "data": {
      "image/png": "[encoded data removed]",
      "text/plain": [
       "<Figure size 720x504 with 4 Axes>"
      ]
     },
     "metadata": {
      "needs_background": "light"
     },
     "output_type": "display_data"
    }
   ],
   "source": [
    "#儲存的第一版 base model的訓練狀況\n",
    "plot_metrics(history)"
   ]
  },
  {
   "cell_type": "markdown",
   "metadata": {
    "id": "aJC1booryouo"
   },
   "source": [
    "### 評估指標(metrics)"
   ]
  },
  {
   "cell_type": "code",
   "execution_count": 26,
   "metadata": {
    "id": "aNS796IJKrev"
   },
   "outputs": [],
   "source": [
    "train_predictions_baseline = model.predict(train_features, batch_size=BATCH_SIZE)\n",
    "test_predictions_baseline = model.predict(test_features, batch_size=BATCH_SIZE)"
   ]
  },
  {
   "cell_type": "code",
   "execution_count": 27,
   "metadata": {},
   "outputs": [
    {
     "name": "stdout",
     "output_type": "stream",
     "text": [
      "              precision    recall  f1-score   support\n",
      "\n",
      "           0       1.00      1.00      1.00     56873\n",
      "           1       0.82      0.73      0.77        89\n",
      "\n",
      "    accuracy                           1.00     56962\n",
      "   macro avg       0.91      0.87      0.89     56962\n",
      "weighted avg       1.00      1.00      1.00     56962\n",
      "\n"
     ]
    }
   ],
   "source": [
    "#使用 sciki-learn API的分類報告\n",
    "test_pred = model.predict_classes(test_features, batch_size=BATCH_SIZE)\n",
    "print(classification_report(test_labels, test_pred))"
   ]
  },
  {
   "cell_type": "code",
   "execution_count": 28,
   "metadata": {
    "id": "MVWBGfADwbWI"
   },
   "outputs": [],
   "source": [
    "#混淆矩陣作成圖形顯示\n",
    "def plot_cm(labels, predictions, p=0.5):\n",
    "    cm = confusion_matrix(labels, predictions > p)\n",
    "    plt.figure(figsize=(5,5))\n",
    "    sns.heatmap(cm, annot=True, fmt=\"d\")\n",
    "    plt.title('Confusion matrix @{:.2f}'.format(p))\n",
    "    plt.ylabel('Actual label')\n",
    "    plt.xlabel('Predicted label')\n",
    "\n",
    "    print('Legitimate Transactions Detected (True Negatives): ', cm[0][0])\n",
    "    print('Legitimate Transactions Incorrectly Detected (False Positives): ', cm[0][1])\n",
    "    print('Fraudulent Transactions Missed (False Negatives): ', cm[1][0])\n",
    "    print('Fraudulent Transactions Detected (True Positives): ', cm[1][1])\n",
    "    print('Total Fraudulent Transactions: ', np.sum(cm[1]))"
   ]
  },
  {
   "cell_type": "markdown",
   "metadata": {
    "id": "nOTjD5Z5Wp1U"
   },
   "source": [
    "### 利用 `model.Evaluate` 方法，計算模型績效"
   ]
  },
  {
   "cell_type": "code",
   "execution_count": 29,
   "metadata": {
    "id": "poh_hZngt2_9"
   },
   "outputs": [
    {
     "name": "stdout",
     "output_type": "stream",
     "text": [
      "loss :  0.003348003840073943\n",
      "accuracy :  0.9993329048156738\n",
      "precision :  0.8227847814559937\n",
      "recall :  0.7303370833396912\n",
      "auc :  0.9482651948928833\n",
      "\n",
      "Legitimate Transactions Detected (True Negatives):  56859\n",
      "Legitimate Transactions Incorrectly Detected (False Positives):  14\n",
      "Fraudulent Transactions Missed (False Negatives):  24\n",
      "Fraudulent Transactions Detected (True Positives):  65\n",
      "Total Fraudulent Transactions:  89\n"
     ]
    },
    {
     "data": {
      "image/png": "[encoded data removed]",
      "text/plain": [
       "<Figure size 360x360 with 2 Axes>"
      ]
     },
     "metadata": {
      "needs_background": "light"
     },
     "output_type": "display_data"
    }
   ],
   "source": [
    "baseline_results = model.evaluate(test_features, test_labels,\n",
    "                                  batch_size=BATCH_SIZE, verbose=0)\n",
    "for name, value in zip(model.metrics_names, baseline_results):\n",
    "    print(name, ': ', value)\n",
    "print()\n",
    "\n",
    "plot_cm(test_labels, test_predictions_baseline)"
   ]
  },
  {
   "cell_type": "markdown",
   "metadata": {
    "id": "P-QpQsip_F2Q"
   },
   "source": [
    "### 繪制ROC圖表"
   ]
  },
  {
   "cell_type": "code",
   "execution_count": 30,
   "metadata": {
    "id": "lhaxsLSvANF9"
   },
   "outputs": [],
   "source": [
    "def plot_roc(name, labels, predictions, **kwargs):\n",
    "    fp, tp, _ = sklearn.metrics.roc_curve(labels, predictions)\n",
    "\n",
    "    plt.plot(100*fp, 100*tp, label=name, linewidth=2, **kwargs)\n",
    "    plt.xlabel('False positives [%]')\n",
    "    plt.ylabel('True positives [%]')\n",
    "    plt.xlim([-0.5,20])\n",
    "    plt.ylim([80,100.5])\n",
    "    plt.grid(True)\n",
    "    ax = plt.gca()\n",
    "    ax.set_aspect('equal')"
   ]
  },
  {
   "cell_type": "code",
   "execution_count": 31,
   "metadata": {
    "id": "DfHHspttKJE0"
   },
   "outputs": [
    {
     "data": {
      "text/plain": [
       "<matplotlib.legend.Legend at 0x17e84cf4be0>"
      ]
     },
     "execution_count": 31,
     "metadata": {},
     "output_type": "execute_result"
    },
    {
     "data": {
      "image/png": "[encoded data removed]",
      "text/plain": [
       "<Figure size 720x504 with 1 Axes>"
      ]
     },
     "metadata": {
      "needs_background": "light"
     },
     "output_type": "display_data"
    }
   ],
   "source": [
    "plot_roc(\"Train Baseline\", train_labels, train_predictions_baseline, color=colors[0])\n",
    "plot_roc(\"Test Baseline\", test_labels, test_predictions_baseline, color=colors[0], linestyle='--')\n",
    "plt.legend(loc='lower right')"
   ]
  },
  {
   "cell_type": "markdown",
   "metadata": {},
   "source": [
    "----"
   ]
  },
  {
   "cell_type": "markdown",
   "metadata": {},
   "source": [
    "## 一般處理 imbalanced data 的訓練手法"
   ]
  },
  {
   "cell_type": "markdown",
   "metadata": {
    "id": "cveQoiMyGQCo"
   },
   "source": [
    "### 類別權重 (Class weights)"
   ]
  },
  {
   "cell_type": "markdown",
   "metadata": {
    "id": "ePGp6GUE1WfH"
   },
   "source": [
    "### 設算類別權重\n",
    "\n",
    "我們需合理設算樣本數少的類別在模型訓練時要加重它的權重，讓模型呈現上能有更好表現(好的績效指標)."
   ]
  },
  {
   "cell_type": "code",
   "execution_count": 32,
   "metadata": {},
   "outputs": [
    {
     "name": "stdout",
     "output_type": "stream",
     "text": [
      "目前資料類別的筆數狀況: 負例樣本(class-0): 284315 筆, 正例樣本(class-1): 492 筆\n"
     ]
    }
   ],
   "source": [
    "print(\"目前資料類別的筆數狀況: 負例樣本(class-0): {} 筆, 正例樣本(class-1): {} 筆\".format(neg, pos))"
   ]
  },
  {
   "cell_type": "code",
   "execution_count": 33,
   "metadata": {
    "id": "qjGWErngGny7"
   },
   "outputs": [
    {
     "name": "stdout",
     "output_type": "stream",
     "text": [
      "class 0 (negative)權重比率: 0.50\n",
      "class 1 (positive)權重比率: 289.44\n"
     ]
    }
   ],
   "source": [
    "# 基本分兩類時，我們期忘樣本比例為 total/2 ，各取一半\n",
    "# 再依各類別資料比數(倒數)做加權, 讓筆數多的資料權重較少, 筆數少的資料權重較大\n",
    "weight_for_0 = (1 / neg)*(total)/2.0 \n",
    "weight_for_1 = (1 / pos)*(total)/2.0\n",
    "\n",
    "class_weight = {0: weight_for_0, 1: weight_for_1}\n",
    "\n",
    "print('class 0 (negative)權重比率: {:.2f}'.format(weight_for_0))\n",
    "print('class 1 (positive)權重比率: {:.2f}'.format(weight_for_1))"
   ]
  },
  {
   "cell_type": "markdown",
   "metadata": {
    "id": "Mk1OOE2ZSHzy"
   },
   "source": [
    "### Train a model with class weights\n",
    "\n",
    "我們利用 `model.fit()` 參數: `class_weight` 來設定這次模型訓練的類別權重\n",
    "\n",
    "**class_weight**\n",
    "```\n",
    "Optional dictionary mapping class indices (integers) to a weight (float) value, used for weighting the loss function (during training only). This can be useful to tell the model to \"pay more attention\" to samples from an under-represented class.\n",
    "```"
   ]
  },
  {
   "cell_type": "code",
   "execution_count": 34,
   "metadata": {
    "id": "UJ589fn8ST3x"
   },
   "outputs": [
    {
     "name": "stdout",
     "output_type": "stream",
     "text": [
      "Epoch 1/100\n",
      "179/179 [==============================] - 3s 10ms/step - loss: 0.3619 - accuracy: 0.9789 - precision: 0.1857 - recall: 0.8064 - auc: 0.9499 - val_loss: 0.0603 - val_accuracy: 0.9829 - val_precision: 0.0831 - val_recall: 0.9091 - val_auc: 0.9915\n",
      "Epoch 2/100\n",
      "179/179 [==============================] - 2s 9ms/step - loss: 0.2304 - accuracy: 0.9424 - precision: 0.0278 - recall: 0.8950 - auc: 0.9726 - val_loss: 0.0740 - val_accuracy: 0.9775 - val_precision: 0.0652 - val_recall: 0.9221 - val_auc: 0.9926\n",
      "Epoch 3/100\n",
      "179/179 [==============================] - 1s 8ms/step - loss: 0.1874 - accuracy: 0.9501 - precision: 0.0308 - recall: 0.9279 - auc: 0.9773 - val_loss: 0.0600 - val_accuracy: 0.9826 - val_precision: 0.0828 - val_recall: 0.9221 - val_auc: 0.9914\n",
      "Epoch 4/100\n",
      "179/179 [==============================] - 1s 8ms/step - loss: 0.1285 - accuracy: 0.9633 - precision: 0.0454 - recall: 0.9441 - auc: 0.9908 - val_loss: 0.0750 - val_accuracy: 0.9774 - val_precision: 0.0656 - val_recall: 0.9351 - val_auc: 0.9917\n",
      "Epoch 5/100\n",
      "179/179 [==============================] - 1s 8ms/step - loss: 0.1651 - accuracy: 0.9557 - precision: 0.0402 - recall: 0.9555 - auc: 0.9833 - val_loss: 0.0599 - val_accuracy: 0.9835 - val_precision: 0.0879 - val_recall: 0.9351 - val_auc: 0.9919\n",
      "Epoch 6/100\n",
      "179/179 [==============================] - 1s 8ms/step - loss: 0.1414 - accuracy: 0.9604 - precision: 0.0416 - recall: 0.9266 - auc: 0.9874 - val_loss: 0.0648 - val_accuracy: 0.9813 - val_precision: 0.0785 - val_recall: 0.9351 - val_auc: 0.9921\n",
      "Epoch 7/100\n",
      "179/179 [==============================] - 1s 8ms/step - loss: 0.1476 - accuracy: 0.9604 - precision: 0.0412 - recall: 0.9406 - auc: 0.9850 - val_loss: 0.0520 - val_accuracy: 0.9853 - val_precision: 0.0969 - val_recall: 0.9221 - val_auc: 0.9922\n",
      "Restoring model weights from the end of the best epoch.\n",
      "Epoch 00007: early stopping\n"
     ]
    }
   ],
   "source": [
    "weighted_model = make_model()\n",
    "weighted_model.load_weights(initial_weights)\n",
    "\n",
    "weighted_model.compile( optimizer=keras.optimizers.Adam(lr=0.001),\n",
    "               loss=keras.losses.BinaryCrossentropy(),\n",
    "               metrics=METRICS)\n",
    "\n",
    "weighted_history = weighted_model.fit(\n",
    "    train_features,\n",
    "    train_labels,\n",
    "    batch_size=BATCH_SIZE,\n",
    "    epochs=EPOCHS,\n",
    "    callbacks=[early_stopping],\n",
    "    validation_data=(val_features, val_labels),\n",
    "    #設定 class weights 參數:\n",
    "    class_weight=class_weight)"
   ]
  },
  {
   "cell_type": "markdown",
   "metadata": {
    "id": "R0ynYRO0G3Lx"
   },
   "source": [
    "### 模型訓練狀況"
   ]
  },
  {
   "cell_type": "code",
   "execution_count": 35,
   "metadata": {
    "id": "BBe9FMO5ucTC"
   },
   "outputs": [
    {
     "data": {
      "image/png": "[encoded data removed]",
      "text/plain": [
       "<Figure size 720x504 with 4 Axes>"
      ]
     },
     "metadata": {
      "needs_background": "light"
     },
     "output_type": "display_data"
    }
   ],
   "source": [
    "plot_metrics(weighted_history)"
   ]
  },
  {
   "cell_type": "markdown",
   "metadata": {
    "id": "REy6WClTZIwQ"
   },
   "source": [
    "### 評估指標"
   ]
  },
  {
   "cell_type": "code",
   "execution_count": 36,
   "metadata": {
    "id": "nifqscPGw-5w"
   },
   "outputs": [],
   "source": [
    "train_predictions_weighted = weighted_model.predict(train_features, batch_size=BATCH_SIZE)\n",
    "test_predictions_weighted = weighted_model.predict(test_features, batch_size=BATCH_SIZE)"
   ]
  },
  {
   "cell_type": "code",
   "execution_count": 37,
   "metadata": {},
   "outputs": [
    {
     "name": "stdout",
     "output_type": "stream",
     "text": [
      "              precision    recall  f1-score   support\n",
      "\n",
      "           0       1.00      0.98      0.99     56873\n",
      "           1       0.06      0.91      0.12        89\n",
      "\n",
      "    accuracy                           0.98     56962\n",
      "   macro avg       0.53      0.94      0.55     56962\n",
      "weighted avg       1.00      0.98      0.99     56962\n",
      "\n"
     ]
    }
   ],
   "source": [
    "test_pred = weighted_model.predict_classes(test_features, batch_size=BATCH_SIZE)\n",
    "print(classification_report(test_labels, test_pred))"
   ]
  },
  {
   "cell_type": "code",
   "execution_count": 38,
   "metadata": {
    "id": "owKL2vdMBJr6"
   },
   "outputs": [
    {
     "name": "stdout",
     "output_type": "stream",
     "text": [
      "loss :  0.07168443500995636\n",
      "accuracy :  0.978705108165741\n",
      "precision :  0.06298600137233734\n",
      "recall :  0.9101123809814453\n",
      "auc :  0.9770033359527588\n",
      "\n",
      "Legitimate Transactions Detected (True Negatives):  55668\n",
      "Legitimate Transactions Incorrectly Detected (False Positives):  1205\n",
      "Fraudulent Transactions Missed (False Negatives):  8\n",
      "Fraudulent Transactions Detected (True Positives):  81\n",
      "Total Fraudulent Transactions:  89\n"
     ]
    },
    {
     "data": {
      "image/png": "[encoded data removed]",
      "text/plain": [
       "<Figure size 360x360 with 2 Axes>"
      ]
     },
     "metadata": {
      "needs_background": "light"
     },
     "output_type": "display_data"
    }
   ],
   "source": [
    "weighted_results = weighted_model.evaluate(test_features, test_labels,\n",
    "                                           batch_size=BATCH_SIZE, verbose=0)\n",
    "for name, value in zip(weighted_model.metrics_names, weighted_results):\n",
    "    print(name, ': ', value)\n",
    "print()\n",
    "\n",
    "plot_cm(test_labels, test_predictions_weighted)"
   ]
  },
  {
   "cell_type": "markdown",
   "metadata": {
    "id": "hXDAwyr0HYdX"
   },
   "source": [
    "### 繪制ROC圖表"
   ]
  },
  {
   "cell_type": "code",
   "execution_count": 39,
   "metadata": {
    "id": "3hzScIVZS1Xm"
   },
   "outputs": [
    {
     "data": {
      "text/plain": [
       "<matplotlib.legend.Legend at 0x17e6c7be9d0>"
      ]
     },
     "execution_count": 39,
     "metadata": {},
     "output_type": "execute_result"
    },
    {
     "data": {
      "image/png": "[encoded data removed]",
      "text/plain": [
       "<Figure size 720x504 with 1 Axes>"
      ]
     },
     "metadata": {
      "needs_background": "light"
     },
     "output_type": "display_data"
    }
   ],
   "source": [
    "plot_roc(\"Train Baseline\", train_labels, train_predictions_baseline, color=colors[0])\n",
    "plot_roc(\"Test Baseline\", test_labels, test_predictions_baseline, color=colors[0], linestyle='--')\n",
    "\n",
    "plot_roc(\"Train Weighted\", train_labels, train_predictions_weighted, color=colors[1])\n",
    "plot_roc(\"Test Weighted\", test_labels, test_predictions_weighted, color=colors[1], linestyle='--')\n",
    "\n",
    "plt.legend(loc='lower right')"
   ]
  },
  {
   "cell_type": "markdown",
   "metadata": {},
   "source": [
    "----"
   ]
  },
  {
   "cell_type": "markdown",
   "metadata": {
    "id": "5ysRtr6xHnXP"
   },
   "source": [
    "## Oversampling"
   ]
  },
  {
   "cell_type": "markdown",
   "metadata": {
    "id": "18VUHNc-UF5w"
   },
   "source": [
    "利用重新抽樣，增加抽樣那些樣比數較少的類別."
   ]
  },
  {
   "cell_type": "code",
   "execution_count": 40,
   "metadata": {},
   "outputs": [
    {
     "name": "stdout",
     "output_type": "stream",
     "text": [
      "(training set總筆數, train-正例樣本數, train-負例樣本數 )\n"
     ]
    },
    {
     "data": {
      "text/plain": [
       "(182276, 326, 181950)"
      ]
     },
     "execution_count": 40,
     "metadata": {},
     "output_type": "execute_result"
    }
   ],
   "source": [
    "print(\"(training set總筆數, train-正例樣本數, train-負例樣本數 )\")\n",
    "len(bool_train_labels), len(bool_train_labels[bool_train_labels == True]), len(bool_train_labels[bool_train_labels == False])"
   ]
  },
  {
   "cell_type": "code",
   "execution_count": 41,
   "metadata": {
    "id": "sHirNp6u7OWp"
   },
   "outputs": [],
   "source": [
    "#從training set中分出正例及負例樣本數, 及其label資料\n",
    "pos_features = train_features[bool_train_labels]\n",
    "neg_features = train_features[~bool_train_labels]\n",
    "\n",
    "pos_labels = train_labels[bool_train_labels]\n",
    "neg_labels = train_labels[~bool_train_labels]"
   ]
  },
  {
   "cell_type": "markdown",
   "metadata": {
    "id": "WgBVbX7P7QrL"
   },
   "source": [
    "#### 正例樣本 oversampling\n",
    "從正例樣本(訓練)資料集，oversampling 跟負例樣本(訓練)資料集相同的筆數. \n",
    "\n",
    "#### 方法一: 使用 `np.random.choice` (*這方法不確保訓練過程也能均勻取樣)"
   ]
  },
  {
   "cell_type": "code",
   "execution_count": 42,
   "metadata": {
    "id": "BUzGjSkwqT88"
   },
   "outputs": [
    {
     "data": {
      "text/plain": [
       "(181950, 29)"
      ]
     },
     "execution_count": 42,
     "metadata": {},
     "output_type": "execute_result"
    }
   ],
   "source": [
    "ids = np.arange(len(pos_features))\n",
    "choices = np.random.choice(ids, len(neg_features))\n",
    "\n",
    "res_pos_features = pos_features[choices]\n",
    "res_pos_labels = pos_labels[choices]\n",
    "\n",
    "res_pos_features.shape"
   ]
  },
  {
   "cell_type": "code",
   "execution_count": 43,
   "metadata": {
    "id": "7ie_FFet6cep"
   },
   "outputs": [
    {
     "name": "stdout",
     "output_type": "stream",
     "text": [
      "oversampling後的訓練資料集之筆數及欄位數目:\n"
     ]
    },
    {
     "data": {
      "text/plain": [
       "(363900, 29)"
      ]
     },
     "execution_count": 43,
     "metadata": {},
     "output_type": "execute_result"
    }
   ],
   "source": [
    "resampled_features = np.concatenate([res_pos_features, neg_features], axis=0)\n",
    "resampled_labels = np.concatenate([res_pos_labels, neg_labels], axis=0)\n",
    "\n",
    "order = np.arange(len(resampled_labels))\n",
    "np.random.shuffle(order)\n",
    "resampled_features = resampled_features[order]\n",
    "resampled_labels = resampled_labels[order]\n",
    "\n",
    "print(\"oversampling後的訓練資料集之筆數及欄位數目:\")\n",
    "resampled_features.shape"
   ]
  },
  {
   "cell_type": "markdown",
   "metadata": {
    "id": "IYfJe2Kc-FAz"
   },
   "source": [
    "#### 方法二: 使用 `tf.data` 工具 (可以做到訓練過程也保持均勻取樣)"
   ]
  },
  {
   "cell_type": "markdown",
   "metadata": {
    "id": "usyixaST8v5P"
   },
   "source": [
    "使用`tf.data`工具的重覆取樣(`repeat`)功能來進行oversampling."
   ]
  },
  {
   "cell_type": "code",
   "execution_count": 44,
   "metadata": {
    "id": "yF4OZ-rI6xb6"
   },
   "outputs": [],
   "source": [
    "BUFFER_SIZE = 100000\n",
    "\n",
    "def make_ds(features, labels):\n",
    "    ds = tf.data.Dataset.from_tensor_slices((features, labels))#.cache()\n",
    "    ds = ds.shuffle(BUFFER_SIZE).repeat() #在buffer size大小的樣本中重覆取樣\n",
    "    return ds\n",
    "\n",
    "pos_ds = make_ds(pos_features, pos_labels)\n",
    "neg_ds = make_ds(neg_features, neg_labels)"
   ]
  },
  {
   "cell_type": "code",
   "execution_count": 45,
   "metadata": {},
   "outputs": [
    {
     "data": {
      "text/plain": [
       "tensorflow.python.data.ops.dataset_ops.RepeatDataset"
      ]
     },
     "execution_count": 45,
     "metadata": {},
     "output_type": "execute_result"
    }
   ],
   "source": [
    "type(pos_ds)"
   ]
  },
  {
   "cell_type": "markdown",
   "metadata": {
    "id": "RNQUx-OA-oJc"
   },
   "source": [
    "RepeatDataset 可利用take()來取出(feature, label)成對的資料"
   ]
  },
  {
   "cell_type": "code",
   "execution_count": 46,
   "metadata": {
    "id": "llXc9rNH7Fbz"
   },
   "outputs": [
    {
     "name": "stdout",
     "output_type": "stream",
     "text": [
      "Features:\n",
      " [-5.          4.63942003 -5.          3.03652596 -5.         -2.60029406\n",
      " -5.          5.         -2.14393905 -5.          2.53467509 -5.\n",
      " -0.47056511 -5.          0.99067834 -4.52863474 -5.         -3.00250561\n",
      "  0.63031014  1.09010201  1.26926872 -1.28219076 -0.38015187 -0.04973758\n",
      "  1.13045459 -0.54665506  2.74154593  0.67037896  0.79727639]\n",
      "\n",
      "Label:  1\n"
     ]
    }
   ],
   "source": [
    "for features, label in pos_ds.take(1):\n",
    "    print(\"Features:\\n\", features.numpy())\n",
    "    print()\n",
    "    print(\"Label: \", label.numpy())"
   ]
  },
  {
   "cell_type": "markdown",
   "metadata": {
    "id": "sLEfjZO0-vbN"
   },
   "source": [
    "使用`experimental.sample_from_datasets`來合併 pos_ds 及 neg_ds，同時指定它們的合併比例(參數: weights)"
   ]
  },
  {
   "cell_type": "code",
   "execution_count": 47,
   "metadata": {
    "id": "e7w9UQPT9wzE"
   },
   "outputs": [],
   "source": [
    "resampled_ds = tf.data.experimental.sample_from_datasets([pos_ds, neg_ds], weights=[0.5, 0.5])\n",
    "resampled_ds = resampled_ds.batch(BATCH_SIZE).prefetch(2)"
   ]
  },
  {
   "cell_type": "code",
   "execution_count": 48,
   "metadata": {
    "id": "EWXARdTdAuQK"
   },
   "outputs": [
    {
     "name": "stdout",
     "output_type": "stream",
     "text": [
      "BATCH_SIZE: 1024\n",
      "Features shape: (1024, 29)\n",
      "Label shape:  (1024,)\n",
      "each BATCH neg vs. pos 大約的數量: (525, 499)\n"
     ]
    }
   ],
   "source": [
    "for features, label in resampled_ds.take(1):\n",
    "    print(\"BATCH_SIZE:\", BATCH_SIZE)\n",
    "    print(\"Features shape:\", features.shape)\n",
    "    print(\"Label shape: \", label.shape)\n",
    "    print(\"each BATCH neg vs. pos 大約的數量:\",(len(label[label==0]),len(label[label==1])))"
   ]
  },
  {
   "cell_type": "markdown",
   "metadata": {
    "id": "irgqf3YxAyN0"
   },
   "source": [
    "需事先設算稍後訓練過程每一個epoch要分幾個step來更新模型(每個step使用BATCH_SIZE的取樣數量)"
   ]
  },
  {
   "cell_type": "code",
   "execution_count": 49,
   "metadata": {},
   "outputs": [
    {
     "data": {
      "text/plain": [
       "(284315, 492)"
      ]
     },
     "execution_count": 49,
     "metadata": {},
     "output_type": "execute_result"
    }
   ],
   "source": [
    "(neg, pos)"
   ]
  },
  {
   "cell_type": "code",
   "execution_count": 50,
   "metadata": {
    "id": "xH-7K46AAxpq"
   },
   "outputs": [
    {
     "data": {
      "text/plain": [
       "556.0"
      ]
     },
     "execution_count": 50,
     "metadata": {},
     "output_type": "execute_result"
    }
   ],
   "source": [
    "resampled_steps_per_epoch = np.ceil(2.0*neg/BATCH_SIZE) #因為neg vs. pos大約是各半, 故以 2倍neg的樣本數來大略估算\n",
    "resampled_steps_per_epoch"
   ]
  },
  {
   "cell_type": "markdown",
   "metadata": {
    "id": "XZ1BvEpcBVHP"
   },
   "source": [
    "### 使用oversampled data來訓練 (且每一batch取樣大略都均勻取樣)"
   ]
  },
  {
   "cell_type": "code",
   "execution_count": 51,
   "metadata": {
    "id": "soRQ89JYqd6b"
   },
   "outputs": [
    {
     "name": "stdout",
     "output_type": "stream",
     "text": [
      "Epoch 1/100\n",
      "556/556 [==============================] - 6s 9ms/step - loss: 0.1271 - accuracy: 0.9702 - precision: 0.9479 - recall: 0.9575 - auc: 0.9904 - val_loss: 0.0164 - val_accuracy: 0.9950 - val_precision: 0.2297 - val_recall: 0.8442 - val_auc: 0.9582\n",
      "Epoch 2/100\n",
      "556/556 [==============================] - 5s 9ms/step - loss: 0.0192 - accuracy: 0.9956 - precision: 0.9922 - recall: 0.9990 - auc: 0.9996 - val_loss: 0.0113 - val_accuracy: 0.9975 - val_precision: 0.3832 - val_recall: 0.8312 - val_auc: 0.9468\n",
      "Epoch 3/100\n",
      "556/556 [==============================] - 5s 9ms/step - loss: 0.0108 - accuracy: 0.9978 - precision: 0.9959 - recall: 0.9998 - auc: 0.9997 - val_loss: 0.0105 - val_accuracy: 0.9984 - val_precision: 0.5122 - val_recall: 0.8182 - val_auc: 0.9343\n",
      "Epoch 4/100\n",
      "556/556 [==============================] - 7s 12ms/step - loss: 0.0080 - accuracy: 0.9986 - precision: 0.9973 - recall: 0.9999 - auc: 0.9997 - val_loss: 0.0108 - val_accuracy: 0.9987 - val_precision: 0.5727 - val_recall: 0.8182 - val_auc: 0.9279\n",
      "Epoch 5/100\n",
      "556/556 [==============================] - 7s 12ms/step - loss: 0.0064 - accuracy: 0.9989 - precision: 0.9978 - recall: 1.0000 - auc: 0.9997 - val_loss: 0.0112 - val_accuracy: 0.9989 - val_precision: 0.6392 - val_recall: 0.8052 - val_auc: 0.9216\n",
      "Epoch 6/100\n",
      "556/556 [==============================] - 7s 12ms/step - loss: 0.0054 - accuracy: 0.9991 - precision: 0.9983 - recall: 1.0000 - auc: 0.9998 - val_loss: 0.0123 - val_accuracy: 0.9989 - val_precision: 0.6495 - val_recall: 0.8182 - val_auc: 0.9152\n",
      "Restoring model weights from the end of the best epoch.\n",
      "Epoch 00006: early stopping\n"
     ]
    }
   ],
   "source": [
    "resampled_model = make_model()\n",
    "resampled_model.load_weights(initial_weights)\n",
    "\n",
    "resampled_model.compile( optimizer=keras.optimizers.Adam(lr=0.001),\n",
    "               loss=keras.losses.BinaryCrossentropy(),\n",
    "               metrics=METRICS)\n",
    "\n",
    "val_ds = tf.data.Dataset.from_tensor_slices((val_features, val_labels)).cache()\n",
    "val_ds = val_ds.batch(BATCH_SIZE).prefetch(2) \n",
    "\n",
    "resampled_history = resampled_model.fit(\n",
    "    resampled_ds,\n",
    "    epochs=EPOCHS,\n",
    "    steps_per_epoch=resampled_steps_per_epoch,\n",
    "    callbacks=[early_stopping],\n",
    "    validation_data=val_ds)"
   ]
  },
  {
   "cell_type": "markdown",
   "metadata": {
    "id": "klHZ0HV76VC5"
   },
   "source": [
    "### 模型訓練狀況"
   ]
  },
  {
   "cell_type": "code",
   "execution_count": 52,
   "metadata": {
    "execution": {
     "iopub.execute_input": "2021-01-06T02:47:33.742156Z",
     "iopub.status.busy": "2021-01-06T02:47:33.741608Z",
     "iopub.status.idle": "2021-01-06T02:47:34.315328Z",
     "shell.execute_reply": "2021-01-06T02:47:34.315769Z"
    },
    "id": "YoUGfr1vuivl"
   },
   "outputs": [
    {
     "data": {
      "image/png": "[encoded data removed]",
      "text/plain": [
       "<Figure size 720x504 with 4 Axes>"
      ]
     },
     "metadata": {
      "needs_background": "light"
     },
     "output_type": "display_data"
    }
   ],
   "source": [
    "plot_metrics(resampled_history)"
   ]
  },
  {
   "cell_type": "markdown",
   "metadata": {
    "id": "bUuE5HOWZiwP"
   },
   "source": [
    "### 評估指標"
   ]
  },
  {
   "cell_type": "code",
   "execution_count": 53,
   "metadata": {
    "execution": {
     "iopub.execute_input": "2021-01-06T02:47:51.696798Z",
     "iopub.status.busy": "2021-01-06T02:47:51.696112Z",
     "iopub.status.idle": "2021-01-06T02:47:51.980712Z",
     "shell.execute_reply": "2021-01-06T02:47:51.980170Z"
    },
    "id": "C0fmHSgXxFdW"
   },
   "outputs": [],
   "source": [
    "train_predictions_resampled = resampled_model.predict(train_features, batch_size=BATCH_SIZE)\n",
    "test_predictions_resampled = resampled_model.predict(test_features, batch_size=BATCH_SIZE)"
   ]
  },
  {
   "cell_type": "code",
   "execution_count": 54,
   "metadata": {},
   "outputs": [
    {
     "name": "stdout",
     "output_type": "stream",
     "text": [
      "              precision    recall  f1-score   support\n",
      "\n",
      "           0       1.00      1.00      1.00     56873\n",
      "           1       0.24      0.89      0.38        89\n",
      "\n",
      "    accuracy                           1.00     56962\n",
      "   macro avg       0.62      0.94      0.69     56962\n",
      "weighted avg       1.00      1.00      1.00     56962\n",
      "\n"
     ]
    }
   ],
   "source": [
    "test_pred = resampled_model.predict_classes(test_features, batch_size=BATCH_SIZE)\n",
    "print(classification_report(test_labels, test_pred))"
   ]
  },
  {
   "cell_type": "code",
   "execution_count": 55,
   "metadata": {
    "execution": {
     "iopub.execute_input": "2021-01-06T02:47:51.985755Z",
     "iopub.status.busy": "2021-01-06T02:47:51.985097Z",
     "iopub.status.idle": "2021-01-06T02:47:53.091601Z",
     "shell.execute_reply": "2021-01-06T02:47:53.092373Z"
    },
    "id": "FO0mMOYUDWFk"
   },
   "outputs": [
    {
     "name": "stdout",
     "output_type": "stream",
     "text": [
      "loss :  0.015129740349948406\n",
      "accuracy :  0.9954180121421814\n",
      "precision :  0.2393939346075058\n",
      "recall :  0.8876404762268066\n",
      "auc :  0.9525514841079712\n",
      "\n",
      "Legitimate Transactions Detected (True Negatives):  56622\n",
      "Legitimate Transactions Incorrectly Detected (False Positives):  251\n",
      "Fraudulent Transactions Missed (False Negatives):  10\n",
      "Fraudulent Transactions Detected (True Positives):  79\n",
      "Total Fraudulent Transactions:  89\n"
     ]
    },
    {
     "data": {
      "image/png": "[encoded data removed]",
      "text/plain": [
       "<Figure size 360x360 with 2 Axes>"
      ]
     },
     "metadata": {
      "needs_background": "light"
     },
     "output_type": "display_data"
    }
   ],
   "source": [
    "resampled_results = resampled_model.evaluate(test_features, test_labels,\n",
    "                                             batch_size=BATCH_SIZE, verbose=0)\n",
    "for name, value in zip(resampled_model.metrics_names, resampled_results):\n",
    "    print(name, ': ', value)\n",
    "print()\n",
    "\n",
    "plot_cm(test_labels, test_predictions_resampled)"
   ]
  },
  {
   "cell_type": "markdown",
   "metadata": {
    "id": "_xYozM1IIITq"
   },
   "source": [
    "### 繪制ROC圖表"
   ]
  },
  {
   "cell_type": "code",
   "execution_count": 56,
   "metadata": {
    "execution": {
     "iopub.execute_input": "2021-01-06T02:47:53.099807Z",
     "iopub.status.busy": "2021-01-06T02:47:53.098658Z",
     "iopub.status.idle": "2021-01-06T02:47:53.489792Z",
     "shell.execute_reply": "2021-01-06T02:47:53.490224Z"
    },
    "id": "fye_CiuYrZ1U"
   },
   "outputs": [
    {
     "data": {
      "text/plain": [
       "<matplotlib.legend.Legend at 0x17e6c9bdeb0>"
      ]
     },
     "execution_count": 56,
     "metadata": {},
     "output_type": "execute_result"
    },
    {
     "data": {
      "image/png": "[encoded data removed]",
      "text/plain": [
       "<Figure size 720x504 with 1 Axes>"
      ]
     },
     "metadata": {
      "needs_background": "light"
     },
     "output_type": "display_data"
    }
   ],
   "source": [
    "plot_roc(\"Train Baseline\", train_labels, train_predictions_baseline, color=colors[0])\n",
    "plot_roc(\"Test Baseline\", test_labels, test_predictions_baseline, color=colors[0], linestyle='--')\n",
    "\n",
    "plot_roc(\"Train Weighted\", train_labels, train_predictions_weighted, color=colors[1])\n",
    "plot_roc(\"Test Weighted\", test_labels, test_predictions_weighted, color=colors[1], linestyle='--')\n",
    "\n",
    "plot_roc(\"Train Resampled\", train_labels, train_predictions_resampled, color=colors[2])\n",
    "plot_roc(\"Test Resampled\", test_labels, test_predictions_resampled, color=colors[2], linestyle='--')\n",
    "plt.legend(loc='lower right')"
   ]
  },
  {
   "cell_type": "markdown",
   "metadata": {},
   "source": [
    "----"
   ]
  },
  {
   "cell_type": "code",
   "execution_count": null,
   "metadata": {},
   "outputs": [],
   "source": []
  }
 ],
 "metadata": {
  "accelerator": "GPU",
  "colab": {
   "collapsed_sections": [],
   "name": "imbalanced_data_一般方法.ipynb",
   "private_outputs": true,
   "provenance": [],
   "toc_visible": true
  },
  "kernelspec": {
   "display_name": "Python 3",
   "language": "python",
   "name": "python3"
  },
  "language_info": {
   "codemirror_mode": {
    "name": "ipython",
    "version": 3
   },
   "file_extension": ".py",
   "mimetype": "text/x-python",
   "name": "python",
   "nbconvert_exporter": "python",
   "pygments_lexer": "ipython3",
   "version": "3.5.5"
  }
 },
 "nbformat": 4,
 "nbformat_minor": 1
}
