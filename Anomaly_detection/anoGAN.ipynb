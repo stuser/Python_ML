{
 "cells": [
  {
   "cell_type": "markdown",
   "metadata": {},
   "source": [
    "## GAN anomaly 實作 - anoGAN"
   ]
  },
  {
   "cell_type": "markdown",
   "metadata": {},
   "source": [
    "程式內容包括:\n",
    "* 建立anoGAN模型架構\n",
    "* 訓練anoGAN模型\n",
    "* Anomaly score計算"
   ]
  },
  {
   "cell_type": "markdown",
   "metadata": {},
   "source": [
    "使用MNIST資料集 (More info: http://yann.lecun.com/exdb/mnist/)\n",
    "* train-images-idx3-ubyte.gz:  training set images (9912422 bytes)\n",
    "* train-labels-idx1-ubyte.gz:  training set labels (28881 bytes)\n",
    "* t10k-images-idx3-ubyte.gz:   test set images (1648877 bytes)\n",
    "* t10k-labels-idx1-ubyte.gz:   test set labels (4542 bytes)"
   ]
  },
  {
   "cell_type": "markdown",
   "metadata": {
    "colab": {
     "base_uri": "https://localhost:8080/"
    },
    "executionInfo": {
     "elapsed": 1141,
     "status": "ok",
     "timestamp": 1613723411491,
     "user": {
      "displayName": "tc Lin",
      "photoUrl": "https://lh3.googleusercontent.com/a-/AOh14GjoM5W01BG9f2MESK5XHPMnhly_LYL2Zri1rf_6hA=s64",
      "userId": "05338448855796845949"
     },
     "user_tz": -480
    },
    "id": "93K6BKzjXkUv",
    "outputId": "28b92d37-bcaa-4d16-da77-8265adc23b8e"
   },
   "source": [
    "### 模型架構說明\n",
    "\n",
    "![anoGAN](pic_anoGAN/anoGAN.png)\n",
    "\n",
    "<b> 1.train DCGAN with normal image </b>\n",
    "* Radford, A., Metz, L., Chintala, S.: Unsupervised representation learning with deep convolutional generative adversarial networks. arXiv:1511.06434 (2015)\n",
    "![DCGAN](pic_anoGAN/DCGAN.png)\n",
    "\n",
    "*註: 本範例預訓練的 DCGAN input image x shape:(28x28x1), z: input_dim=100\n",
    "\n",
    "<b> 2.Mapping new Images to the Latent Space </b>\n",
    "\n",
    "<b> 2.1 loss </b>\n",
    "- residual loss : G(z):generator output 與 input data x 的差距 \n",
    "![residual_loss](pic_anoGAN/residual.png)\n",
    "- discrimination loss : input x 與 G(z)各自經過discriminator產出output x 及 output G(z)的差異\n",
    "![discrimination_loss](pic_anoGAN/discrimination.png)\n",
    "    f(·) : output of an intermediate layer  of the discriminator \n",
    "- overall loss : residual loss 跟 discrimination loss 透過 Lambda 加權 (Lambda=0.1)\n",
    "![overall_loss](pic_anoGAN/overall.png)\n",
    "\n",
    "<b> 3.anomaly score </b>\n",
    "* 使用 image x 與 generator G(z)的 residual loss 來做為anomaly score\n",
    "![residual_img](pic_anoGAN/residual_img.png)\n",
    "\n",
    "\n",
    "![anoGAN2](pic_anoGAN/anoGAN2.png)"
   ]
  },
  {
   "cell_type": "markdown",
   "metadata": {
    "id": "0KlUT_BbW6MO"
   },
   "source": [
    "參考文獻: anoGAN paper: https://arxiv.org/abs/1703.05921"
   ]
  },
  {
   "cell_type": "code",
   "execution_count": 1,
   "metadata": {},
   "outputs": [],
   "source": [
    "import warnings\n",
    "warnings.filterwarnings(\"ignore\")"
   ]
  },
  {
   "cell_type": "markdown",
   "metadata": {
    "colab": {
     "base_uri": "https://localhost:8080/"
    },
    "executionInfo": {
     "elapsed": 2123,
     "status": "ok",
     "timestamp": 1613723412484,
     "user": {
      "displayName": "tc Lin",
      "photoUrl": "https://lh3.googleusercontent.com/a-/AOh14GjoM5W01BG9f2MESK5XHPMnhly_LYL2Zri1rf_6hA=s64",
      "userId": "05338448855796845949"
     },
     "user_tz": -480
    },
    "id": "2p0Es2HWXNkm",
    "outputId": "d644cb06-f0c2-4eff-ec65-b2067e4e7548"
   },
   "source": [
    "### 建構 anoGAN"
   ]
  },
  {
   "cell_type": "code",
   "execution_count": 2,
   "metadata": {},
   "outputs": [],
   "source": [
    "from keras.models import Sequential, Model\n",
    "from keras.layers import Input, Reshape, Dense, Dropout, UpSampling2D, Conv2D, Flatten\n",
    "from keras.layers.advanced_activations import LeakyReLU\n",
    "from keras.optimizers import Adam\n",
    "from keras import backend as K\n",
    "from keras import initializers\n",
    "import tensorflow as tf\n",
    "import numpy as np\n",
    "from tqdm import tqdm"
   ]
  },
  {
   "cell_type": "code",
   "execution_count": 3,
   "metadata": {},
   "outputs": [],
   "source": [
    "#Generator G(z), z: input_dim=100, 為配合pre-train weight, 請勿更動模型架構\n",
    "def generator_model():\n",
    "    generator = Sequential()\n",
    "    generator.add(Dense(128*7*7, input_dim=100, kernel_initializer=initializers.RandomNormal(stddev=0.02)))\n",
    "    generator.add(LeakyReLU(0.2))\n",
    "    generator.add(Reshape((7, 7, 128)))\n",
    "    generator.add(UpSampling2D(size=(2, 2)))\n",
    "    generator.add(Conv2D(64, kernel_size=(5, 5), padding='same'))\n",
    "    generator.add(LeakyReLU(0.2))\n",
    "    generator.add(UpSampling2D(size=(2, 2)))\n",
    "    generator.add(Conv2D(1, kernel_size=(5, 5), padding='same', activation='tanh'))\n",
    "    generator.compile(loss='binary_crossentropy', optimizer='adam')\n",
    "    return generator"
   ]
  },
  {
   "cell_type": "code",
   "execution_count": 4,
   "metadata": {},
   "outputs": [],
   "source": [
    "#Discriminator D(image x): image x shape (28,28,1), 為配合pre-train weight, 請勿更動模型架構\n",
    "def discriminator_model():\n",
    "    discriminator = Sequential()\n",
    "    discriminator.add(Conv2D(64, kernel_size=(5, 5), strides=(2, 2), padding='same', input_shape=(28,28, 1), kernel_initializer=initializers.RandomNormal(stddev=0.02)))\n",
    "    discriminator.add(LeakyReLU(0.2))\n",
    "    discriminator.add(Dropout(0.3))\n",
    "    discriminator.add(Conv2D(128, kernel_size=(5, 5), strides=(2, 2), padding='same'))\n",
    "    discriminator.add(LeakyReLU(0.2))\n",
    "    discriminator.add(Dropout(0.3))\n",
    "    discriminator.add(Flatten())\n",
    "    discriminator.add(Dense(1, activation='sigmoid'))\n",
    "    discriminator.compile(loss='binary_crossentropy', optimizer='adam')\n",
    "    return discriminator"
   ]
  },
  {
   "cell_type": "code",
   "execution_count": 5,
   "metadata": {},
   "outputs": [],
   "source": [
    "#GAN: generator + discriminator\n",
    "def generator_containing_discriminator(g, d):\n",
    "    d.trainable = False\n",
    "    ganInput = Input(shape=(100,))\n",
    "    x = g(ganInput)\n",
    "    ganOutput = d(x)\n",
    "    gan = Model(inputs=ganInput, outputs=ganOutput)\n",
    "    gan.compile(loss='binary_crossentropy', optimizer='adam')\n",
    "    return gan"
   ]
  },
  {
   "cell_type": "code",
   "execution_count": 6,
   "metadata": {},
   "outputs": [],
   "source": [
    "# generator及預訓練 weights (DCGAN)\n",
    "def generate(BATCH_SIZE, G_WEIGHTS='pic_anoGAN/weights/generator'):\n",
    "    g = generator_model()\n",
    "    g.load_weights(G_WEIGHTS) #使用的參數權重\n",
    "    noise = np.random.uniform(0, 1, (BATCH_SIZE, 100))\n",
    "    generated_images = g.predict(noise)\n",
    "    return generated_images"
   ]
  },
  {
   "cell_type": "code",
   "execution_count": 7,
   "metadata": {},
   "outputs": [],
   "source": [
    "#特徵抽取: 使用 discriminator及預訓練 weights (DCGAN)\n",
    "def feature_extractor(D_WEIGHTS='pic_anoGAN/weights/discriminator'):\n",
    "    d = discriminator_model()\n",
    "    d.load_weights(D_WEIGHTS) #使用的參數權重\n",
    "    intermidiate_model = Model(inputs=d.layers[0].input, outputs=d.layers[-5].output) #d.layers[-5]:'conv2d_1'\n",
    "    intermidiate_model.compile(loss='binary_crossentropy', optimizer='adam')\n",
    "    return intermidiate_model"
   ]
  },
  {
   "cell_type": "code",
   "execution_count": 8,
   "metadata": {},
   "outputs": [],
   "source": [
    "#計算 residual loss\n",
    "def sum_of_residual(y_true, y_pred):\n",
    "    return tf.reduce_sum(abs(y_true - y_pred))"
   ]
  },
  {
   "cell_type": "code",
   "execution_count": 9,
   "metadata": {},
   "outputs": [],
   "source": [
    "#異常偵測模型: Generator + feature_extractor(Lambda=0.1)\n",
    "def anomaly_detector(Lambda=0.1, G_WEIGHTS='pic_anoGAN/weights/generator'):\n",
    "    g = generator_model()\n",
    "    g.load_weights(G_WEIGHTS) #使用的參數權重\n",
    "    g.trainable = False\n",
    "    intermidiate_model = feature_extractor()\n",
    "    intermidiate_model.trainable = False\n",
    "    \n",
    "    aInput = Input(shape=(100,))\n",
    "    gInput = Dense((100))(aInput)\n",
    "    G_out = g(gInput)\n",
    "    D_out= intermidiate_model(G_out)    \n",
    "    model = Model(inputs=aInput, outputs=[G_out, D_out])\n",
    "    model.compile(loss=sum_of_residual, loss_weights= [1.0-Lambda, Lambda], optimizer='adam')\n",
    "    return model"
   ]
  },
  {
   "cell_type": "code",
   "execution_count": 10,
   "metadata": {},
   "outputs": [],
   "source": [
    "#計算 anomaly score (使用anomaly_detector) discriminator及預訓練 weights 來計算image residual score) \n",
    "def compute_anomaly_score(model, x, D_WEIGHTS='pic_anoGAN/weights/discriminator'):\n",
    "    z = np.random.uniform(0, 1, size=(1, 100))\n",
    "    intermidiate_model = feature_extractor(D_WEIGHTS) # anomaly_detector\n",
    "    d_x = intermidiate_model.predict(x)\n",
    "    #給予 z:random noise, x:input image, d_x\n",
    "    loss = model.fit(z, [x, d_x], epochs=500, verbose=0)\n",
    "    similar_data, _ = model.predict(z)\n",
    "    return loss.history['loss'][-1], similar_data"
   ]
  },
  {
   "cell_type": "markdown",
   "metadata": {},
   "source": [
    "### anoGAN模型訓練流程"
   ]
  },
  {
   "cell_type": "code",
   "execution_count": 11,
   "metadata": {},
   "outputs": [],
   "source": [
    "import numpy as np\n",
    "from tqdm import tqdm\n",
    "\n",
    "NEW_G_WEIGHTS='assets/generator'\n",
    "NEW_D_WEIGHTS='assets/discriminator'\n",
    "\n",
    "#模型訓練流程\n",
    "def anogan_train(X_train, BATCH_SIZE, EPOCHS):\n",
    "    #### discriminator ####\n",
    "    d = discriminator_model()\n",
    "    #### generator ####\n",
    "    g = generator_model()\n",
    "\n",
    "    d_on_g = generator_containing_discriminator(g, d)\n",
    "    d.trainable = True\n",
    "    \n",
    "    for epoch in tqdm(range(EPOCHS)):\n",
    "        for index in range(int(X_train.shape[0]/BATCH_SIZE)):\n",
    "            noise = np.random.uniform(0, 1, size=(BATCH_SIZE, 100))\n",
    "            \n",
    "            image_batch = X_train[index*BATCH_SIZE:(index+1)*BATCH_SIZE]\n",
    "            generated_images = g.predict(noise, verbose=0)\n",
    "            X = np.concatenate((image_batch, generated_images))\n",
    "            y = np.array([1] * BATCH_SIZE + [0] * BATCH_SIZE)\n",
    "            d_loss = d.train_on_batch(X, y)\n",
    "            noise = np.random.uniform(0, 1, (BATCH_SIZE, 100))\n",
    "            \n",
    "            d.trainable = False\n",
    "            g_loss = d_on_g.train_on_batch(noise, np.array([1] * BATCH_SIZE))\n",
    "            d.trainable = True\n",
    "            \n",
    "        g.save_weights(NEW_G_WEIGHTS, True) #另存新訓練好的參數權重\n",
    "        d.save_weights(NEW_D_WEIGHTS, True) #另存新訓練好的參數權重\n",
    "        \n",
    "    print('###### training result ######')\n",
    "    print('d_loss:{} , g_loss(d_on_g):{}'.format(d_loss, g_loss))\n",
    "    print('save weights, NEW_G_WEIGHTS => ', NEW_G_WEIGHTS)\n",
    "    print('save weights, NEW_D_WEIGHTS => ', NEW_D_WEIGHTS)\n",
    "    return d, g"
   ]
  },
  {
   "cell_type": "markdown",
   "metadata": {},
   "source": [
    "### 模型訓練"
   ]
  },
  {
   "cell_type": "code",
   "execution_count": 12,
   "metadata": {},
   "outputs": [],
   "source": [
    "from tensorflow.keras.datasets import mnist\n",
    "#如果可以連外網,它會自己去下載\n",
    "#(X_train, y_train), (X_test, y_test) = mnist.load_data()\n",
    "\n",
    "# Get the working directory path\n",
    "import os\n",
    "current_dir = os.getcwd()\n",
    "\n",
    "# Import mnist data stored in the following path: current directory -> /datasets/MNIST/mnist.npz\n",
    "(X_train, y_train), (X_test, y_test) = mnist.load_data(path=current_dir+'/datasets/MNIST/mnist.npz')"
   ]
  },
  {
   "cell_type": "code",
   "execution_count": 13,
   "metadata": {
    "colab": {
     "base_uri": "https://localhost:8080/"
    },
    "executionInfo": {
     "elapsed": 60103,
     "status": "ok",
     "timestamp": 1613723470470,
     "user": {
      "displayName": "tc Lin",
      "photoUrl": "https://lh3.googleusercontent.com/a-/AOh14GjoM5W01BG9f2MESK5XHPMnhly_LYL2Zri1rf_6hA=s64",
      "userId": "05338448855796845949"
     },
     "user_tz": -480
    },
    "id": "OO00Brv2W4qr",
    "outputId": "4b88a2d7-74e1-48f6-bd5d-6d8b95dd69c8"
   },
   "outputs": [
    {
     "name": "stderr",
     "output_type": "stream",
     "text": [
      "100%|████████████████████████████████████████████████████████████████████████████████████| 5/5 [00:07<00:00,  1.51s/it]"
     ]
    },
    {
     "name": "stdout",
     "output_type": "stream",
     "text": [
      "###### training result ######\n",
      "d_loss:0.5606515407562256 , g_loss(d_on_g):1.6291261911392212\n",
      "save weights, NEW_G_WEIGHTS =>  assets/generator\n",
      "save weights, NEW_D_WEIGHTS =>  assets/discriminator\n"
     ]
    },
    {
     "name": "stderr",
     "output_type": "stream",
     "text": [
      "\n"
     ]
    }
   ],
   "source": [
    "import numpy as np\n",
    "import matplotlib.pyplot as plt\n",
    "\n",
    "EPOCHS = 5\n",
    "BATCH_SIZE = 32\n",
    "\n",
    "#簡單做一些前處理\n",
    "X_train = X_train.astype(np.float32)/255.\n",
    "X_train = X_train[0:100].reshape(100, 28, 28, 1) #total:60000筆資料\n",
    "\n",
    "Model_d, Model_g = anogan_train(X_train, BATCH_SIZE, EPOCHS)"
   ]
  },
  {
   "cell_type": "code",
   "execution_count": 14,
   "metadata": {},
   "outputs": [
    {
     "name": "stdout",
     "output_type": "stream",
     "text": [
      "#### discriminator ######\n",
      "Model: \"sequential\"\n",
      "_________________________________________________________________\n",
      "Layer (type)                 Output Shape              Param #   \n",
      "=================================================================\n",
      "conv2d (Conv2D)              (None, 14, 14, 64)        1664      \n",
      "_________________________________________________________________\n",
      "leaky_re_lu (LeakyReLU)      (None, 14, 14, 64)        0         \n",
      "_________________________________________________________________\n",
      "dropout (Dropout)            (None, 14, 14, 64)        0         \n",
      "_________________________________________________________________\n",
      "conv2d_1 (Conv2D)            (None, 7, 7, 128)         204928    \n",
      "_________________________________________________________________\n",
      "leaky_re_lu_1 (LeakyReLU)    (None, 7, 7, 128)         0         \n",
      "_________________________________________________________________\n",
      "dropout_1 (Dropout)          (None, 7, 7, 128)         0         \n",
      "_________________________________________________________________\n",
      "flatten (Flatten)            (None, 6272)              0         \n",
      "_________________________________________________________________\n",
      "dense (Dense)                (None, 1)                 6273      \n",
      "=================================================================\n",
      "Total params: 212,865\n",
      "Trainable params: 212,865\n",
      "Non-trainable params: 0\n",
      "_________________________________________________________________\n"
     ]
    }
   ],
   "source": [
    "print(\"#### discriminator ######\")\n",
    "Model_d.summary()"
   ]
  },
  {
   "cell_type": "code",
   "execution_count": 15,
   "metadata": {},
   "outputs": [
    {
     "name": "stdout",
     "output_type": "stream",
     "text": [
      "#### generator ######\n",
      "Model: \"sequential_1\"\n",
      "_________________________________________________________________\n",
      "Layer (type)                 Output Shape              Param #   \n",
      "=================================================================\n",
      "dense_1 (Dense)              (None, 6272)              633472    \n",
      "_________________________________________________________________\n",
      "leaky_re_lu_2 (LeakyReLU)    (None, 6272)              0         \n",
      "_________________________________________________________________\n",
      "reshape (Reshape)            (None, 7, 7, 128)         0         \n",
      "_________________________________________________________________\n",
      "up_sampling2d (UpSampling2D) (None, 14, 14, 128)       0         \n",
      "_________________________________________________________________\n",
      "conv2d_2 (Conv2D)            (None, 14, 14, 64)        204864    \n",
      "_________________________________________________________________\n",
      "leaky_re_lu_3 (LeakyReLU)    (None, 14, 14, 64)        0         \n",
      "_________________________________________________________________\n",
      "up_sampling2d_1 (UpSampling2 (None, 28, 28, 64)        0         \n",
      "_________________________________________________________________\n",
      "conv2d_3 (Conv2D)            (None, 28, 28, 1)         1601      \n",
      "=================================================================\n",
      "Total params: 839,937\n",
      "Trainable params: 839,937\n",
      "Non-trainable params: 0\n",
      "_________________________________________________________________\n"
     ]
    }
   ],
   "source": [
    "print(\"#### generator ######\")\n",
    "Model_g.summary()"
   ]
  },
  {
   "cell_type": "code",
   "execution_count": 16,
   "metadata": {},
   "outputs": [
    {
     "data": {
      "text/plain": [
       "('conv2d', 'conv2d_1')"
      ]
     },
     "execution_count": 16,
     "metadata": {},
     "output_type": "execute_result"
    }
   ],
   "source": [
    "#使用於feature_extractor 的input & output, 做為特徵抽取使用\n",
    "Model_d.layers[0].name, Model_d.layers[-5].name"
   ]
  },
  {
   "cell_type": "code",
   "execution_count": 17,
   "metadata": {},
   "outputs": [
    {
     "name": "stdout",
     "output_type": "stream",
     "text": [
      "Model: \"model_1\"\n",
      "_________________________________________________________________\n",
      "Layer (type)                 Output Shape              Param #   \n",
      "=================================================================\n",
      "conv2d_4_input (InputLayer)  [(None, 28, 28, 1)]       0         \n",
      "_________________________________________________________________\n",
      "conv2d_4 (Conv2D)            (None, 14, 14, 64)        1664      \n",
      "_________________________________________________________________\n",
      "leaky_re_lu_4 (LeakyReLU)    (None, 14, 14, 64)        0         \n",
      "_________________________________________________________________\n",
      "dropout_2 (Dropout)          (None, 14, 14, 64)        0         \n",
      "_________________________________________________________________\n",
      "conv2d_5 (Conv2D)            (None, 7, 7, 128)         204928    \n",
      "=================================================================\n",
      "Total params: 206,592\n",
      "Trainable params: 206,592\n",
      "Non-trainable params: 0\n",
      "_________________________________________________________________\n"
     ]
    }
   ],
   "source": [
    "feature_extractor().summary()"
   ]
  },
  {
   "cell_type": "code",
   "execution_count": 18,
   "metadata": {},
   "outputs": [
    {
     "name": "stdout",
     "output_type": "stream",
     "text": [
      "Model: \"model_3\"\n",
      "_________________________________________________________________\n",
      "Layer (type)                 Output Shape              Param #   \n",
      "=================================================================\n",
      "input_2 (InputLayer)         [(None, 100)]             0         \n",
      "_________________________________________________________________\n",
      "dense_5 (Dense)              (None, 100)               10100     \n",
      "_________________________________________________________________\n",
      "sequential_3 (Sequential)    (None, 28, 28, 1)         839937    \n",
      "_________________________________________________________________\n",
      "model_2 (Functional)         (None, 7, 7, 128)         206592    \n",
      "=================================================================\n",
      "Total params: 1,056,629\n",
      "Trainable params: 10,100\n",
      "Non-trainable params: 1,046,529\n",
      "_________________________________________________________________\n"
     ]
    }
   ],
   "source": [
    "anomaly_detector().summary()"
   ]
  },
  {
   "cell_type": "code",
   "execution_count": 19,
   "metadata": {
    "colab": {
     "base_uri": "https://localhost:8080/",
     "height": 0
    },
    "executionInfo": {
     "elapsed": 60099,
     "status": "ok",
     "timestamp": 1613723470473,
     "user": {
      "displayName": "tc Lin",
      "photoUrl": "https://lh3.googleusercontent.com/a-/AOh14GjoM5W01BG9f2MESK5XHPMnhly_LYL2Zri1rf_6hA=s64",
      "userId": "05338448855796845949"
     },
     "user_tz": -480
    },
    "id": "7Ueko_EnbTQF",
    "outputId": "ac9d3749-f804-42b5-f670-1bd73383558c"
   },
   "outputs": [
    {
     "data": {
      "image/png": "[encoded data removed]",
      "text/plain": [
       "<Figure size 144x144 with 1 Axes>"
      ]
     },
     "metadata": {
      "needs_background": "light"
     },
     "output_type": "display_data"
    }
   ],
   "source": [
    "## generate random image \n",
    "generated_img = generate(5)\n",
    "plt.figure(figsize=(2, 2))\n",
    "plt.imshow(generated_img[0].reshape(28, 28),cmap=plt.cm.gray)\n",
    "plt.show()"
   ]
  },
  {
   "cell_type": "markdown",
   "metadata": {},
   "source": [
    "#### 計算 anomaly score (使用test set的image)"
   ]
  },
  {
   "cell_type": "code",
   "execution_count": 20,
   "metadata": {
    "colab": {
     "base_uri": "https://localhost:8080/",
     "height": 539
    },
    "executionInfo": {
     "elapsed": 64961,
     "status": "ok",
     "timestamp": 1613723475342,
     "user": {
      "displayName": "tc Lin",
      "photoUrl": "https://lh3.googleusercontent.com/a-/AOh14GjoM5W01BG9f2MESK5XHPMnhly_LYL2Zri1rf_6hA=s64",
      "userId": "05338448855796845949"
     },
     "user_tz": -480
    },
    "id": "VXSDo2kkbd_8",
    "outputId": "c87f0cbb-3416-4f04-be4d-f948368ece54"
   },
   "outputs": [
    {
     "name": "stdout",
     "output_type": "stream",
     "text": [
      "WARNING:tensorflow:Unresolved object in checkpoint: (root).optimizer.iter\n",
      "WARNING:tensorflow:Unresolved object in checkpoint: (root).optimizer.beta_1\n",
      "WARNING:tensorflow:Unresolved object in checkpoint: (root).optimizer.beta_2\n",
      "WARNING:tensorflow:Unresolved object in checkpoint: (root).optimizer.decay\n",
      "WARNING:tensorflow:Unresolved object in checkpoint: (root).optimizer.learning_rate\n",
      "WARNING:tensorflow:A checkpoint was restored (e.g. tf.train.Checkpoint.restore or tf.keras.Model.load_weights) but not all checkpointed values were used. See above for specific issues. Use expect_partial() on the load status object, e.g. tf.train.Checkpoint.restore(...).expect_partial(), to silence these warnings, or use assert_consumed() to make the check explicit. See https://www.tensorflow.org/guide/checkpoint#loading_mechanics for details.\n"
     ]
    },
    {
     "data": {
      "image/png": "[encoded data removed]",
      "text/plain": [
       "<Figure size 144x144 with 1 Axes>"
      ]
     },
     "metadata": {
      "needs_background": "light"
     },
     "output_type": "display_data"
    },
    {
     "name": "stdout",
     "output_type": "stream",
     "text": [
      "anomaly score : 145.29730224609375\n"
     ]
    },
    {
     "data": {
      "image/png": "[encoded data removed]",
      "text/plain": [
       "<Figure size 144x144 with 1 Axes>"
      ]
     },
     "metadata": {
      "needs_background": "light"
     },
     "output_type": "display_data"
    }
   ],
   "source": [
    "## compute anomaly score - sample from test set\n",
    "\n",
    "X_test = X_test.astype(np.float32)/255.\n",
    "X_test = X_test.reshape(-1, 28, 28, 1)\n",
    "test_img = X_test[0]\n",
    "\n",
    "#model = anomaly_detector(Lambda=0.1, G_WEIGHTS=NEW_G_WEIGHTS)\n",
    "model = anomaly_detector(Lambda=0.1)\n",
    "ano_score, similar_img = compute_anomaly_score(model, test_img.reshape(1, 28, 28, 1), D_WEIGHTS=NEW_D_WEIGHTS)\n",
    "\n",
    "plt.figure(figsize=(2, 2))\n",
    "plt.imshow(test_img.reshape(28,28), cmap=plt.cm.gray)\n",
    "plt.show()\n",
    "print(\"anomaly score : \" + str(ano_score))\n",
    "plt.figure(figsize=(2, 2))\n",
    "plt.imshow(test_img.reshape(28,28), cmap=plt.cm.gray)\n",
    "residual  = test_img.reshape(28,28) - similar_img.reshape(28, 28)\n",
    "plt.imshow(residual, cmap='jet', alpha=.5)\n",
    "plt.show()"
   ]
  },
  {
   "cell_type": "markdown",
   "metadata": {},
   "source": [
    "#### 計算 anomaly score (使用 test image)"
   ]
  },
  {
   "cell_type": "code",
   "execution_count": 21,
   "metadata": {
    "colab": {
     "base_uri": "https://localhost:8080/",
     "height": 0
    },
    "executionInfo": {
     "elapsed": 69758,
     "status": "ok",
     "timestamp": 1613723480146,
     "user": {
      "displayName": "tc Lin",
      "photoUrl": "https://lh3.googleusercontent.com/a-/AOh14GjoM5W01BG9f2MESK5XHPMnhly_LYL2Zri1rf_6hA=s64",
      "userId": "05338448855796845949"
     },
     "user_tz": -480
    },
    "id": "DumHiWVfb1T8",
    "outputId": "198220f2-01c5-41f2-a8e9-70ef2969d486"
   },
   "outputs": [
    {
     "name": "stdout",
     "output_type": "stream",
     "text": [
      "WARNING:tensorflow:Unresolved object in checkpoint: (root).optimizer.iter\n",
      "WARNING:tensorflow:Unresolved object in checkpoint: (root).optimizer.beta_1\n",
      "WARNING:tensorflow:Unresolved object in checkpoint: (root).optimizer.beta_2\n",
      "WARNING:tensorflow:Unresolved object in checkpoint: (root).optimizer.decay\n",
      "WARNING:tensorflow:Unresolved object in checkpoint: (root).optimizer.learning_rate\n",
      "WARNING:tensorflow:A checkpoint was restored (e.g. tf.train.Checkpoint.restore or tf.keras.Model.load_weights) but not all checkpointed values were used. See above for specific issues. Use expect_partial() on the load status object, e.g. tf.train.Checkpoint.restore(...).expect_partial(), to silence these warnings, or use assert_consumed() to make the check explicit. See https://www.tensorflow.org/guide/checkpoint#loading_mechanics for details.\n",
      "WARNING:tensorflow:5 out of the last 19 calls to <function Model.make_predict_function.<locals>.predict_function at 0x00000253D936CB80> triggered tf.function retracing. Tracing is expensive and the excessive number of tracings could be due to (1) creating @tf.function repeatedly in a loop, (2) passing tensors with different shapes, (3) passing Python objects instead of tensors. For (1), please define your @tf.function outside of the loop. For (2), @tf.function has experimental_relax_shapes=True option that relaxes argument shapes that can avoid unnecessary retracing. For (3), please refer to https://www.tensorflow.org/guide/function#controlling_retracing and https://www.tensorflow.org/api_docs/python/tf/function for  more details.\n",
      "WARNING:tensorflow:6 out of the last 20 calls to <function Model.make_predict_function.<locals>.predict_function at 0x00000253D9884040> triggered tf.function retracing. Tracing is expensive and the excessive number of tracings could be due to (1) creating @tf.function repeatedly in a loop, (2) passing tensors with different shapes, (3) passing Python objects instead of tensors. For (1), please define your @tf.function outside of the loop. For (2), @tf.function has experimental_relax_shapes=True option that relaxes argument shapes that can avoid unnecessary retracing. For (3), please refer to https://www.tensorflow.org/guide/function#controlling_retracing and https://www.tensorflow.org/api_docs/python/tf/function for  more details.\n"
     ]
    },
    {
     "data": {
      "image/png": "[encoded data removed]",
      "text/plain": [
       "<Figure size 144x144 with 1 Axes>"
      ]
     },
     "metadata": {
      "needs_background": "light"
     },
     "output_type": "display_data"
    },
    {
     "name": "stdout",
     "output_type": "stream",
     "text": [
      "anomaly score : 271.0224304199219\n"
     ]
    },
    {
     "data": {
      "image/png": "[encoded data removed]",
      "text/plain": [
       "<Figure size 144x144 with 1 Axes>"
      ]
     },
     "metadata": {
      "needs_background": "light"
     },
     "output_type": "display_data"
    }
   ],
   "source": [
    "## compute anomaly score - sample from strange image\n",
    "\n",
    "test_img = plt.imread('pic_anoGAN/test_img.png')\n",
    "test_img = test_img[:,:,0]\n",
    "\n",
    "#model = anomaly_detector(Lambda=0.1, G_WEIGHTS=NEW_G_WEIGHTS)\n",
    "model = anomaly_detector(Lambda=0.1)\n",
    "ano_score, similar_img = compute_anomaly_score(model, test_img.reshape(1, 28, 28, 1), D_WEIGHTS=NEW_D_WEIGHTS)\n",
    "\n",
    "plt.figure(figsize=(2, 2))\n",
    "plt.imshow(test_img.reshape(28,28), cmap=plt.cm.gray)\n",
    "plt.show()\n",
    "print(\"anomaly score : \" + str(ano_score))\n",
    "plt.figure(figsize=(2, 2))\n",
    "plt.imshow(test_img.reshape(28,28), cmap=plt.cm.gray)\n",
    "residual  = test_img.reshape(28,28) - similar_img.reshape(28, 28)\n",
    "plt.imshow(residual, cmap='jet', alpha=.5)\n",
    "plt.show()"
   ]
  },
  {
   "cell_type": "code",
   "execution_count": 22,
   "metadata": {},
   "outputs": [
    {
     "data": {
      "text/plain": [
       "(numpy.ndarray, (227, 289, 3))"
      ]
     },
     "execution_count": 22,
     "metadata": {},
     "output_type": "execute_result"
    }
   ],
   "source": [
    "test_img = plt.imread('pic_anoGAN/image_cat.png')\n",
    "type(test_img), test_img.shape"
   ]
  },
  {
   "cell_type": "code",
   "execution_count": 23,
   "metadata": {},
   "outputs": [
    {
     "data": {
      "text/plain": [
       "<matplotlib.image.AxesImage at 0x254186863d0>"
      ]
     },
     "execution_count": 23,
     "metadata": {},
     "output_type": "execute_result"
    },
    {
     "data": {
      "image/png": "[encoded data removed]",
      "text/plain": [
       "<Figure size 432x288 with 1 Axes>"
      ]
     },
     "metadata": {
      "needs_background": "light"
     },
     "output_type": "display_data"
    }
   ],
   "source": [
    "plt.imshow(test_img)"
   ]
  },
  {
   "cell_type": "code",
   "execution_count": 24,
   "metadata": {},
   "outputs": [
    {
     "name": "stdout",
     "output_type": "stream",
     "text": [
      "WARNING:tensorflow:Unresolved object in checkpoint: (root).optimizer.iter\n",
      "WARNING:tensorflow:Unresolved object in checkpoint: (root).optimizer.beta_1\n",
      "WARNING:tensorflow:Unresolved object in checkpoint: (root).optimizer.beta_2\n",
      "WARNING:tensorflow:Unresolved object in checkpoint: (root).optimizer.decay\n",
      "WARNING:tensorflow:Unresolved object in checkpoint: (root).optimizer.learning_rate\n",
      "WARNING:tensorflow:A checkpoint was restored (e.g. tf.train.Checkpoint.restore or tf.keras.Model.load_weights) but not all checkpointed values were used. See above for specific issues. Use expect_partial() on the load status object, e.g. tf.train.Checkpoint.restore(...).expect_partial(), to silence these warnings, or use assert_consumed() to make the check explicit. See https://www.tensorflow.org/guide/checkpoint#loading_mechanics for details.\n",
      "WARNING:tensorflow:7 out of the last 21 calls to <function Model.make_predict_function.<locals>.predict_function at 0x00000253E55735E0> triggered tf.function retracing. Tracing is expensive and the excessive number of tracings could be due to (1) creating @tf.function repeatedly in a loop, (2) passing tensors with different shapes, (3) passing Python objects instead of tensors. For (1), please define your @tf.function outside of the loop. For (2), @tf.function has experimental_relax_shapes=True option that relaxes argument shapes that can avoid unnecessary retracing. For (3), please refer to https://www.tensorflow.org/guide/function#controlling_retracing and https://www.tensorflow.org/api_docs/python/tf/function for  more details.\n",
      "WARNING:tensorflow:8 out of the last 22 calls to <function Model.make_predict_function.<locals>.predict_function at 0x00000254EEE2AD30> triggered tf.function retracing. Tracing is expensive and the excessive number of tracings could be due to (1) creating @tf.function repeatedly in a loop, (2) passing tensors with different shapes, (3) passing Python objects instead of tensors. For (1), please define your @tf.function outside of the loop. For (2), @tf.function has experimental_relax_shapes=True option that relaxes argument shapes that can avoid unnecessary retracing. For (3), please refer to https://www.tensorflow.org/guide/function#controlling_retracing and https://www.tensorflow.org/api_docs/python/tf/function for  more details.\n"
     ]
    },
    {
     "data": {
      "image/png": "[encoded data removed]",
      "text/plain": [
       "<Figure size 144x144 with 1 Axes>"
      ]
     },
     "metadata": {
      "needs_background": "light"
     },
     "output_type": "display_data"
    },
    {
     "name": "stdout",
     "output_type": "stream",
     "text": [
      "anomaly score : 603.763671875\n"
     ]
    },
    {
     "data": {
      "image/png": "[encoded data removed]",
      "text/plain": [
       "<Figure size 144x144 with 1 Axes>"
      ]
     },
     "metadata": {
      "needs_background": "light"
     },
     "output_type": "display_data"
    }
   ],
   "source": [
    "import cv2\n",
    "image_cat = cv2.imread('pic_anoGAN/image_cat.png')\n",
    "image_cat = cv2.resize(image_cat, (28, 28), interpolation=cv2.INTER_AREA)\n",
    "test_img = image_cat[:,:,0].astype(np.float32)/255.\n",
    "\n",
    "#model = anomaly_detector(Lambda=0.1, G_WEIGHTS=NEW_G_WEIGHTS)\n",
    "model = anomaly_detector(Lambda=0.1)\n",
    "ano_score, similar_img = compute_anomaly_score(model, test_img.reshape(1, 28, 28, 1), D_WEIGHTS=NEW_D_WEIGHTS)\n",
    "\n",
    "plt.figure(figsize=(2, 2))\n",
    "plt.imshow(test_img.reshape(28,28), cmap=plt.cm.gray)\n",
    "plt.show()\n",
    "print(\"anomaly score : \" + str(ano_score))\n",
    "plt.figure(figsize=(2, 2))\n",
    "plt.imshow(test_img.reshape(28,28), cmap=plt.cm.gray)\n",
    "residual  = test_img.reshape(28,28) - similar_img.reshape(28, 28)\n",
    "plt.imshow(residual, cmap='jet', alpha=.5)\n",
    "plt.show()"
   ]
  },
  {
   "cell_type": "markdown",
   "metadata": {},
   "source": [
    "#### 使用t-SNE 視覺化樣本點的分佈"
   ]
  },
  {
   "cell_type": "code",
   "execution_count": 25,
   "metadata": {
    "colab": {
     "base_uri": "https://localhost:8080/",
     "height": 611
    },
    "executionInfo": {
     "elapsed": 75440,
     "status": "ok",
     "timestamp": 1613723485832,
     "user": {
      "displayName": "tc Lin",
      "photoUrl": "https://lh3.googleusercontent.com/a-/AOh14GjoM5W01BG9f2MESK5XHPMnhly_LYL2Zri1rf_6hA=s64",
      "userId": "05338448855796845949"
     },
     "user_tz": -480
    },
    "id": "KEQeMK0Bb39X",
    "outputId": "2f45394a-a6db-4f79-caa5-cd146830dcd5"
   },
   "outputs": [
    {
     "name": "stdout",
     "output_type": "stream",
     "text": [
      "a sample from generated anomaly images(random noise image)\n"
     ]
    },
    {
     "data": {
      "image/png": "[encoded data removed]",
      "text/plain": [
       "<Figure size 144x144 with 1 Axes>"
      ]
     },
     "metadata": {
      "needs_background": "light"
     },
     "output_type": "display_data"
    },
    {
     "name": "stdout",
     "output_type": "stream",
     "text": [
      "WARNING:tensorflow:Unresolved object in checkpoint: (root).optimizer.iter\n",
      "WARNING:tensorflow:Unresolved object in checkpoint: (root).optimizer.beta_1\n",
      "WARNING:tensorflow:Unresolved object in checkpoint: (root).optimizer.beta_2\n",
      "WARNING:tensorflow:Unresolved object in checkpoint: (root).optimizer.decay\n",
      "WARNING:tensorflow:Unresolved object in checkpoint: (root).optimizer.learning_rate\n",
      "WARNING:tensorflow:A checkpoint was restored (e.g. tf.train.Checkpoint.restore or tf.keras.Model.load_weights) but not all checkpointed values were used. See above for specific issues. Use expect_partial() on the load status object, e.g. tf.train.Checkpoint.restore(...).expect_partial(), to silence these warnings, or use assert_consumed() to make the check explicit. See https://www.tensorflow.org/guide/checkpoint#loading_mechanics for details.\n",
      "WARNING:tensorflow:9 out of the last 23 calls to <function Model.make_predict_function.<locals>.predict_function at 0x00000253D9225CA0> triggered tf.function retracing. Tracing is expensive and the excessive number of tracings could be due to (1) creating @tf.function repeatedly in a loop, (2) passing tensors with different shapes, (3) passing Python objects instead of tensors. For (1), please define your @tf.function outside of the loop. For (2), @tf.function has experimental_relax_shapes=True option that relaxes argument shapes that can avoid unnecessary retracing. For (3), please refer to https://www.tensorflow.org/guide/function#controlling_retracing and https://www.tensorflow.org/api_docs/python/tf/function for  more details.\n",
      "4/4 [==============================] - 0s 10ms/step\n",
      "10/10 [==============================] - 0s 5ms/step\n"
     ]
    },
    {
     "data": {
      "image/png": "[encoded data removed]",
      "text/plain": [
       "<Figure size 432x288 with 1 Axes>"
      ]
     },
     "metadata": {
      "needs_background": "light"
     },
     "output_type": "display_data"
    }
   ],
   "source": [
    "from sklearn.manifold import TSNE\n",
    "\n",
    "## t-SNE embedding \n",
    "\n",
    "# generating anomaly image for test (radom noise image)\n",
    "\n",
    "random_image = np.random.uniform(0,1, (100, 28,28, 1))\n",
    "print(\"a sample from generated anomaly images(random noise image)\")\n",
    "plt.figure(figsize=(2, 2))\n",
    "plt.imshow(random_image[0].reshape(28,28), cmap=plt.cm.gray)\n",
    "plt.show()\n",
    "\n",
    "# intermidieate output of discriminator\n",
    "model = feature_extractor(D_WEIGHTS=NEW_D_WEIGHTS)\n",
    "feature_map_of_random = model.predict(random_image, verbose=1)\n",
    "feature_map_of_minist = model.predict(X_test[:300], verbose=1)\n",
    "\n",
    "# t-SNE for visulization\n",
    "output = np.concatenate((feature_map_of_random, feature_map_of_minist))\n",
    "output = output.reshape(output.shape[0], -1)\n",
    "anomaly_flag = np.array([1]*100+ [0]*300)\n",
    "\n",
    "X_embedded = TSNE(n_components=2).fit_transform(output)\n",
    "plt.title(\"t-SNE embedding on the feature representation\")\n",
    "plt.scatter(X_embedded[:100,0], X_embedded[:100,1], label='random noise(anomaly)')\n",
    "plt.scatter(X_embedded[100:,0], X_embedded[100:,1], label='minist(normal)')\n",
    "plt.legend()\n",
    "plt.show()"
   ]
  },
  {
   "cell_type": "markdown",
   "metadata": {
    "executionInfo": {
     "elapsed": 75435,
     "status": "ok",
     "timestamp": 1613723485832,
     "user": {
      "displayName": "tc Lin",
      "photoUrl": "https://lh3.googleusercontent.com/a-/AOh14GjoM5W01BG9f2MESK5XHPMnhly_LYL2Zri1rf_6hA=s64",
      "userId": "05338448855796845949"
     },
     "user_tz": -480
    },
    "id": "FGk0RDQMb65E"
   },
   "source": [
    "----"
   ]
  },
  {
   "cell_type": "code",
   "execution_count": null,
   "metadata": {},
   "outputs": [],
   "source": []
  }
 ],
 "metadata": {
  "accelerator": "GPU",
  "colab": {
   "authorship_tag": "ABX9TyPh0ddwCKTDVsdKiPtxH+20",
   "collapsed_sections": [],
   "name": "anoGAN.ipynb",
   "provenance": []
  },
  "kernelspec": {
   "display_name": "Python 3",
   "language": "python",
   "name": "python3"
  },
  "language_info": {
   "codemirror_mode": {
    "name": "ipython",
    "version": 3
   },
   "file_extension": ".py",
   "mimetype": "text/x-python",
   "name": "python",
   "nbconvert_exporter": "python",
   "pygments_lexer": "ipython3",
   "version": "3.5.5"
  }
 },
 "nbformat": 4,
 "nbformat_minor": 1
}
